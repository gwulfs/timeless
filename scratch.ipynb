{
 "cells": [
  {
   "cell_type": "code",
   "execution_count": 1,
   "metadata": {
    "collapsed": false
   },
   "outputs": [
    {
     "name": "stdout",
     "output_type": "stream",
     "text": [
      "Installed autotime.py. To use it, type:\n",
      "  %load_ext autotime\n"
     ]
    }
   ],
   "source": [
    "%install_ext https://raw.github.com/cpcloud/ipython-autotime/master/autotime.py\n",
    "%load_ext autotime\n",
    "import re\n",
    "import numpy as np\n",
    "import pandas as pd\n",
    "from nltk.corpus import stopwords"
   ]
  },
  {
   "cell_type": "code",
   "execution_count": 2,
   "metadata": {
    "collapsed": false
   },
   "outputs": [
    {
     "name": "stdout",
     "output_type": "stream",
     "text": [
      "time: 3.94 s\n"
     ]
    }
   ],
   "source": [
    "df = pd.read_csv('full_output2.csv')\n",
    "db = pd.read_csv('dbp/train.csv')"
   ]
  },
  {
   "cell_type": "code",
   "execution_count": 3,
   "metadata": {
    "collapsed": false
   },
   "outputs": [
    {
     "name": "stdout",
     "output_type": "stream",
     "text": [
      "time: 104 ms\n"
     ]
    }
   ],
   "source": [
    "names = ['class', 'title', 'wiki']\n",
    "d = {}\n",
    "for i, c in enumerate(db.columns):\n",
    "    d[c] = names[i]\n",
    "\n",
    "db = db.rename(columns=d)"
   ]
  },
  {
   "cell_type": "code",
   "execution_count": 4,
   "metadata": {
    "collapsed": false
   },
   "outputs": [
    {
     "name": "stdout",
     "output_type": "stream",
     "text": [
      "time: 40.4 s\n"
     ]
    }
   ],
   "source": [
    "df = df[df.wiki != 'nan']\n",
    "\n",
    "# unicode\n",
    "df.wiki = df.wiki.map(lambda x: re.sub(r'[^\\x00-\\x7F]','',str(x)))\n",
    "db.wiki = db.wiki.map(lambda x: re.sub(r'[^\\x00-\\x7F]','',str(x)))\n",
    "\n",
    "# stopwords\n",
    "pattern = re.compile(r'\\b(' + r'|'.join(stopwords.words('english')) + r')\\b\\s*')\n",
    "df['wiki'] = df.wiki.apply(lambda x: pattern.sub('', x))\n",
    "db['wiki'] = db.wiki.apply(lambda x: pattern.sub('', x))"
   ]
  },
  {
   "cell_type": "code",
   "execution_count": 5,
   "metadata": {
    "collapsed": false
   },
   "outputs": [
    {
     "data": {
      "text/html": [
       "<div>\n",
       "<table border=\"1\" class=\"dataframe\">\n",
       "  <thead>\n",
       "    <tr style=\"text-align: right;\">\n",
       "      <th></th>\n",
       "      <th>Best Entity literalString</th>\n",
       "      <th>wiki</th>\n",
       "      <th>Entity</th>\n",
       "      <th>cls</th>\n",
       "    </tr>\n",
       "  </thead>\n",
       "  <tbody>\n",
       "    <tr>\n",
       "      <th>0</th>\n",
       "      <td>Psychogenic pruritus</td>\n",
       "      <td>Psychogenic pruritus common manifestation chro...</td>\n",
       "      <td>psychogenic_pruritus</td>\n",
       "      <td>0</td>\n",
       "    </tr>\n",
       "  </tbody>\n",
       "</table>\n",
       "</div>"
      ],
      "text/plain": [
       "  Best Entity literalString  \\\n",
       "0      Psychogenic pruritus   \n",
       "\n",
       "                                                wiki                Entity  \\\n",
       "0  Psychogenic pruritus common manifestation chro...  psychogenic_pruritus   \n",
       "\n",
       "   cls  \n",
       "0    0  "
      ]
     },
     "execution_count": 5,
     "metadata": {},
     "output_type": "execute_result"
    },
    {
     "name": "stdout",
     "output_type": "stream",
     "text": [
      "time: 12.8 ms\n"
     ]
    }
   ],
   "source": [
    "df.head(1)"
   ]
  },
  {
   "cell_type": "code",
   "execution_count": 6,
   "metadata": {
    "collapsed": false
   },
   "outputs": [
    {
     "name": "stdout",
     "output_type": "stream",
     "text": [
      "time: 3.07 ms\n"
     ]
    }
   ],
   "source": [
    "del df['Entity']\n",
    "names = ['title', 'wiki', 'class']\n",
    "d = {}\n",
    "for i, c in enumerate(df.columns):\n",
    "    d[c] = names[i]\n",
    "\n",
    "df = df.rename(columns=d)"
   ]
  },
  {
   "cell_type": "code",
   "execution_count": 7,
   "metadata": {
    "collapsed": false
   },
   "outputs": [
    {
     "name": "stdout",
     "output_type": "stream",
     "text": [
      "time: 2.48 s\n"
     ]
    }
   ],
   "source": [
    "df['wiki'] = df.wiki.apply(lambda x: x.lower().strip())\n",
    "db['wiki'] = db.wiki.apply(lambda x: x.lower().strip())\n",
    "\n",
    "df['class'] = df['class'].apply(lambda x: np.int64(x))\n",
    "db['class'] = db['class'].apply(lambda x: np.int64(x))"
   ]
  },
  {
   "cell_type": "code",
   "execution_count": 8,
   "metadata": {
    "collapsed": false
   },
   "outputs": [
    {
     "name": "stdout",
     "output_type": "stream",
     "text": [
      "time: 477 ms\n"
     ]
    }
   ],
   "source": [
    "db = db.drop_duplicates('wiki')\n",
    "db = db[pd.notnull(db['wiki'])]\n",
    "df = df.drop_duplicates('wiki')\n",
    "df = df[pd.notnull(df['wiki'])]"
   ]
  },
  {
   "cell_type": "code",
   "execution_count": 9,
   "metadata": {
    "collapsed": false
   },
   "outputs": [
    {
     "data": {
      "text/plain": [
       "559875"
      ]
     },
     "execution_count": 9,
     "metadata": {},
     "output_type": "execute_result"
    },
    {
     "name": "stdout",
     "output_type": "stream",
     "text": [
      "time: 1.84 ms\n"
     ]
    }
   ],
   "source": [
    "len(db)"
   ]
  },
  {
   "cell_type": "code",
   "execution_count": 10,
   "metadata": {
    "collapsed": false
   },
   "outputs": [
    {
     "name": "stdout",
     "output_type": "stream",
     "text": [
      "time: 1.29 ms\n"
     ]
    }
   ],
   "source": [
    "db = db[0:1734]"
   ]
  },
  {
   "cell_type": "code",
   "execution_count": 11,
   "metadata": {
    "collapsed": false
   },
   "outputs": [
    {
     "data": {
      "text/plain": [
       "1734"
      ]
     },
     "execution_count": 11,
     "metadata": {},
     "output_type": "execute_result"
    },
    {
     "name": "stdout",
     "output_type": "stream",
     "text": [
      "time: 1.69 ms\n"
     ]
    }
   ],
   "source": [
    "len(df)"
   ]
  },
  {
   "cell_type": "code",
   "execution_count": 12,
   "metadata": {
    "collapsed": false
   },
   "outputs": [
    {
     "name": "stdout",
     "output_type": "stream",
     "text": [
      "time: 6.56 ms\n"
     ]
    }
   ],
   "source": [
    "conc = pd.concat([df, db])"
   ]
  },
  {
   "cell_type": "code",
   "execution_count": 13,
   "metadata": {
    "collapsed": false
   },
   "outputs": [
    {
     "data": {
      "text/html": [
       "<div>\n",
       "<table border=\"1\" class=\"dataframe\">\n",
       "  <thead>\n",
       "    <tr style=\"text-align: right;\">\n",
       "      <th></th>\n",
       "      <th>class</th>\n",
       "      <th>title</th>\n",
       "      <th>wiki</th>\n",
       "    </tr>\n",
       "  </thead>\n",
       "  <tbody>\n",
       "    <tr>\n",
       "      <th>0</th>\n",
       "      <td>0</td>\n",
       "      <td>Psychogenic pruritus</td>\n",
       "      <td>psychogenic pruritus common manifestation chro...</td>\n",
       "    </tr>\n",
       "    <tr>\n",
       "      <th>1</th>\n",
       "      <td>0</td>\n",
       "      <td>Hydrophthalmos</td>\n",
       "      <td>hydrophthalmos congenital form glaucoma.</td>\n",
       "    </tr>\n",
       "    <tr>\n",
       "      <th>2</th>\n",
       "      <td>0</td>\n",
       "      <td>Amino acid transport disorder</td>\n",
       "      <td>amino acid transport disorders medical conditi...</td>\n",
       "    </tr>\n",
       "    <tr>\n",
       "      <th>3</th>\n",
       "      <td>0</td>\n",
       "      <td>Adelaide Hanscom</td>\n",
       "      <td>adelaide hanscom leeson (25 november 1875  19 ...</td>\n",
       "    </tr>\n",
       "    <tr>\n",
       "      <th>4</th>\n",
       "      <td>0</td>\n",
       "      <td>trachoma</td>\n",
       "      <td>trachoma also called granular conjunctivitis e...</td>\n",
       "    </tr>\n",
       "  </tbody>\n",
       "</table>\n",
       "</div>"
      ],
      "text/plain": [
       "   class                          title  \\\n",
       "0      0           Psychogenic pruritus   \n",
       "1      0                 Hydrophthalmos   \n",
       "2      0  Amino acid transport disorder   \n",
       "3      0               Adelaide Hanscom   \n",
       "4      0                       trachoma   \n",
       "\n",
       "                                                wiki  \n",
       "0  psychogenic pruritus common manifestation chro...  \n",
       "1           hydrophthalmos congenital form glaucoma.  \n",
       "2  amino acid transport disorders medical conditi...  \n",
       "3  adelaide hanscom leeson (25 november 1875  19 ...  \n",
       "4  trachoma also called granular conjunctivitis e...  "
      ]
     },
     "execution_count": 13,
     "metadata": {},
     "output_type": "execute_result"
    },
    {
     "name": "stdout",
     "output_type": "stream",
     "text": [
      "time: 10.5 ms\n"
     ]
    }
   ],
   "source": [
    "conc.head()"
   ]
  },
  {
   "cell_type": "code",
   "execution_count": 14,
   "metadata": {
    "collapsed": false
   },
   "outputs": [
    {
     "name": "stdout",
     "output_type": "stream",
     "text": [
      "time: 1.16 ms\n"
     ]
    }
   ],
   "source": [
    "del df['title']"
   ]
  },
  {
   "cell_type": "code",
   "execution_count": 15,
   "metadata": {
    "collapsed": false
   },
   "outputs": [
    {
     "name": "stdout",
     "output_type": "stream",
     "text": [
      "time: 28.5 ms\n"
     ]
    }
   ],
   "source": [
    "conc.to_csv('final_join.csv', index=False)"
   ]
  },
  {
   "cell_type": "code",
   "execution_count": 16,
   "metadata": {
    "collapsed": false
   },
   "outputs": [
    {
     "name": "stdout",
     "output_type": "stream",
     "text": [
      "[[ 0.72108476  0.27891524]]\n",
      "time: 1.4 s\n"
     ]
    }
   ],
   "source": [
    "%matplotlib inline\n",
    "import matplotlib.pyplot as plt\n",
    "from sklearn.linear_model import LogisticRegression as LR\n",
    "from sklearn.feature_extraction.text import TfidfVectorizer\n",
    "\n",
    "tr_data = conc\n",
    "\n",
    "trX = tr_data['wiki'].values\n",
    "trY = tr_data['class'].values\n",
    "\n",
    "vect = TfidfVectorizer(min_df=10, ngram_range=(1, 2))\n",
    "\n",
    "trX = vect.fit_transform(trX)\n",
    "\n",
    "\n",
    "model = LR()\n",
    "model.fit(trX, trY)\n",
    "\n",
    "print model.predict_proba(vect.transform(['this is great']))"
   ]
  },
  {
   "cell_type": "code",
   "execution_count": 17,
   "metadata": {
    "collapsed": false
   },
   "outputs": [
    {
     "data": {
      "text/plain": [
       "array([u'syndrome', u'disease', u'condition', u'adelaide', u'disorder',\n",
       "       u'may', u'caused', u'rare', u'characterized', u'form', u'born',\n",
       "       u'blood', u'skin', u'cells', u'inflammation', u'type', u'usually',\n",
       "       u'species', u'common', u'congenital', u'the company', u'record',\n",
       "       u'firm', u'software', u'products', u'new', u'inc', u'largest',\n",
       "       u'headquartered', u'business', u'corporation', u'airline', u'bank',\n",
       "       u'owned', u'manufacturer', u'services', u'label', u'based',\n",
       "       u'founded', u'company'], \n",
       "      dtype='<U23')"
      ]
     },
     "execution_count": 17,
     "metadata": {},
     "output_type": "execute_result"
    },
    {
     "name": "stdout",
     "output_type": "stream",
     "text": [
      "time: 11.9 ms\n"
     ]
    }
   ],
   "source": [
    "coef = model.coef_.ravel()\n",
    "\n",
    "pos = np.argsort(coef)[-20:]\n",
    "neg = np.argsort(coef)[:20]\n",
    "tops = np.hstack([neg, pos])\n",
    "f_names = np.array(vect.get_feature_names())\n",
    "\n",
    "f_names[tops]"
   ]
  },
  {
   "cell_type": "code",
   "execution_count": 18,
   "metadata": {
    "collapsed": false
   },
   "outputs": [
    {
     "name": "stdout",
     "output_type": "stream",
     "text": [
      "time: 2.77 ms\n"
     ]
    }
   ],
   "source": [
    "d = {'features': f_names[tops], 'vals': tops}"
   ]
  },
  {
   "cell_type": "code",
   "execution_count": 19,
   "metadata": {
    "collapsed": false
   },
   "outputs": [
    {
     "name": "stdout",
     "output_type": "stream",
     "text": [
      "time: 2.24 ms\n"
     ]
    }
   ],
   "source": [
    "df = pd.DataFrame(d)"
   ]
  },
  {
   "cell_type": "code",
   "execution_count": 20,
   "metadata": {
    "collapsed": false
   },
   "outputs": [
    {
     "name": "stdout",
     "output_type": "stream",
     "text": [
      "time: 15.1 ms\n"
     ]
    }
   ],
   "source": [
    "df.to_csv('feature_importance.csv', index=False)"
   ]
  },
  {
   "cell_type": "code",
   "execution_count": 21,
   "metadata": {
    "collapsed": false
   },
   "outputs": [
    {
     "data": {
      "text/plain": [
       "array([1923,  638,  502,  120,  644, 1257,  367, 1634,  395,  843,  304,\n",
       "        291, 1816,  374, 1029, 2032, 2067, 1852,  455,  508, 1959, 1657,\n",
       "        815, 1829, 1585, 1366,  999, 1140,  933,  334,  538,  145,  254,\n",
       "       1451, 1241, 1776, 1131,  259,  853,  466])"
      ]
     },
     "execution_count": 21,
     "metadata": {},
     "output_type": "execute_result"
    },
    {
     "name": "stdout",
     "output_type": "stream",
     "text": [
      "time: 21.4 ms\n"
     ]
    }
   ],
   "source": [
    "tops"
   ]
  },
  {
   "cell_type": "code",
   "execution_count": 22,
   "metadata": {
    "collapsed": false
   },
   "outputs": [
    {
     "name": "stdout",
     "output_type": "stream",
     "text": [
      "time: 7.3 ms\n"
     ]
    }
   ],
   "source": [
    "def visualize_coefficients(classifier, feature_names, n_top_features=25):\n",
    "    # get coefficients with large absolute values \n",
    "    coef = classifier.coef_.ravel()\n",
    "    positive_coefficients = np.argsort(coef)[-n_top_features:]\n",
    "    negative_coefficients = np.argsort(coef)[:n_top_features]\n",
    "    interesting_coefficients = np.hstack([negative_coefficients, positive_coefficients])\n",
    "    # plot them\n",
    "    plt.figure(figsize=(15, 5))\n",
    "    colors = [\"red\" if c < 0 else \"blue\" for c in coef[interesting_coefficients]]\n",
    "    plt.bar(np.arange(2 * n_top_features), coef[interesting_coefficients], color=colors)\n",
    "    feature_names = np.array(feature_names)\n",
    "    plt.xticks(np.arange(1, 1 + 2 * n_top_features), feature_names[interesting_coefficients], rotation=60, ha=\"right\");"
   ]
  },
  {
   "cell_type": "code",
   "execution_count": 23,
   "metadata": {
    "collapsed": false
   },
   "outputs": [
    {
     "data": {
      "image/png": "[encoded data removed]",
      "text/plain": [
       "<matplotlib.figure.Figure at 0x108444190>"
      ]
     },
     "metadata": {},
     "output_type": "display_data"
    },
    {
     "name": "stdout",
     "output_type": "stream",
     "text": [
      "time: 919 ms\n"
     ]
    }
   ],
   "source": [
    "visualize_coefficients(model, vect.get_feature_names())"
   ]
  },
  {
   "cell_type": "code",
   "execution_count": 24,
   "metadata": {
    "collapsed": false
   },
   "outputs": [
    {
     "name": "stdout",
     "output_type": "stream",
     "text": [
      "time: 8.37 ms\n"
     ]
    }
   ],
   "source": [
    "import pickle\n",
    "output = open('model.pkl', 'wb')\n",
    "pickle.dump(model, output)\n",
    "output.close()"
   ]
  },
  {
   "cell_type": "code",
   "execution_count": 25,
   "metadata": {
    "collapsed": false
   },
   "outputs": [
    {
     "data": {
      "text/plain": [
       "array([[ 0.96153776,  0.03846224]])"
      ]
     },
     "execution_count": 25,
     "metadata": {},
     "output_type": "execute_result"
    },
    {
     "name": "stdout",
     "output_type": "stream",
     "text": [
      "time: 17.6 ms\n"
     ]
    }
   ],
   "source": [
    "pkl_file = open('model.pkl', 'rb')\n",
    "model = pickle.load(pkl_file)\n",
    "pkl_file.close()\n",
    "model.predict_proba(vect.transform(['this is a syndrome']))"
   ]
  }
 ],
 "metadata": {
  "kernelspec": {
   "display_name": "Python 2",
   "language": "python",
   "name": "python2"
  },
  "language_info": {
   "codemirror_mode": {
    "name": "ipython",
    "version": 2
   },
   "file_extension": ".py",
   "mimetype": "text/x-python",
   "name": "python",
   "nbconvert_exporter": "python",
   "pygments_lexer": "ipython2",
   "version": "2.7.10"
  }
 },
 "nbformat": 4,
 "nbformat_minor": 0
}
