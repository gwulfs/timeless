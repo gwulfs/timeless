{
 "cells": [
  {
   "cell_type": "code",
   "execution_count": 1,
   "metadata": {
    "collapsed": false
   },
   "outputs": [],
   "source": [
    "import pandas as pd"
   ]
  },
  {
   "cell_type": "code",
   "execution_count": null,
   "metadata": {
    "collapsed": true
   },
   "outputs": [],
   "source": [
    "# df = df[df['Best Entity literalString'] != 'Type']\n",
    "# df = df[df['Best Entity literalString'] != 'FORUMS']"
   ]
  },
  {
   "cell_type": "code",
   "execution_count": 2,
   "metadata": {
    "collapsed": false
   },
   "outputs": [],
   "source": [
    "df = pd.read_csv('nell-disease.csv', delimiter='\\t', nrows=52556)"
   ]
  },
  {
   "cell_type": "code",
   "execution_count": 4,
   "metadata": {
    "collapsed": false
   },
   "outputs": [
    {
     "data": {
      "text/plain": [
       "18630"
      ]
     },
     "execution_count": 4,
     "metadata": {},
     "output_type": "execute_result"
    }
   ],
   "source": [
    "len(df)"
   ]
  },
  {
   "cell_type": "code",
   "execution_count": 18,
   "metadata": {
    "collapsed": false
   },
   "outputs": [],
   "source": [
    "df = df.drop_duplicates('Entity')"
   ]
  },
  {
   "cell_type": "code",
   "execution_count": 19,
   "metadata": {
    "collapsed": false
   },
   "outputs": [
    {
     "data": {
      "text/plain": [
       "17257"
      ]
     },
     "execution_count": 19,
     "metadata": {},
     "output_type": "execute_result"
    }
   ],
   "source": [
    "len(df)"
   ]
  },
  {
   "cell_type": "code",
   "execution_count": 30,
   "metadata": {
    "collapsed": false
   },
   "outputs": [
    {
     "name": "stdout",
     "output_type": "stream",
     "text": [
      "Installed autotime.py. To use it, type:\n",
      "  %load_ext autotime\n"
     ]
    }
   ],
   "source": [
    "%install_ext https://raw.github.com/cpcloud/ipython-autotime/master/autotime.py"
   ]
  },
  {
   "cell_type": "code",
   "execution_count": 31,
   "metadata": {
    "collapsed": true
   },
   "outputs": [],
   "source": [
    "%load_ext autotime"
   ]
  },
  {
   "cell_type": "code",
   "execution_count": 35,
   "metadata": {
    "collapsed": false
   },
   "outputs": [
    {
     "data": {
      "text/html": [
       "<div>\n",
       "<table border=\"1\" class=\"dataframe\">\n",
       "  <thead>\n",
       "    <tr style=\"text-align: right;\">\n",
       "      <th></th>\n",
       "      <th>Entity</th>\n",
       "      <th>Relation</th>\n",
       "      <th>Value</th>\n",
       "      <th>Iteration of Promotion</th>\n",
       "      <th>Probability</th>\n",
       "      <th>Source</th>\n",
       "      <th>Entity literalStrings</th>\n",
       "      <th>Value literalStrings</th>\n",
       "      <th>Best Entity literalString</th>\n",
       "      <th>Best Value literalString</th>\n",
       "      <th>Categories for Entity</th>\n",
       "      <th>Categories for Value</th>\n",
       "      <th>Candidate Source</th>\n",
       "      <th>Unnamed: 13</th>\n",
       "      <th>Unnamed: 14</th>\n",
       "      <th>Unnamed: 15</th>\n",
       "      <th>Unnamed: 16</th>\n",
       "    </tr>\n",
       "  </thead>\n",
       "  <tbody>\n",
       "    <tr>\n",
       "      <th>0</th>\n",
       "      <td>psychogenic_pruritus</td>\n",
       "      <td>concept:haswikipediaurl</td>\n",
       "      <td>http://en.wikipedia.org/wiki/Psychogenic%20pru...</td>\n",
       "      <td>710</td>\n",
       "      <td>0.95</td>\n",
       "      <td>MBL-Iter%3A710-2013%2F03%2F13-12%3A17%3A37-Fro...</td>\n",
       "      <td>Psychogenic pruritus</td>\n",
       "      <td>http://en.wikipedia.org/wiki/Psychogenic%20pru...</td>\n",
       "      <td>Psychogenic pruritus</td>\n",
       "      <td>http://en.wikipedia.org/wiki/Psychogenic%20pru...</td>\n",
       "      <td>NaN</td>\n",
       "      <td>NaN</td>\n",
       "      <td>%5BAliasMatcher-Iter%3A621-2012%2F08%2F03-10%3...</td>\n",
       "      <td>NaN</td>\n",
       "      <td>NaN</td>\n",
       "      <td>NaN</td>\n",
       "      <td>NaN</td>\n",
       "    </tr>\n",
       "  </tbody>\n",
       "</table>\n",
       "</div>"
      ],
      "text/plain": [
       "                 Entity                 Relation  \\\n",
       "0  psychogenic_pruritus  concept:haswikipediaurl   \n",
       "\n",
       "                                               Value Iteration of Promotion  \\\n",
       "0  http://en.wikipedia.org/wiki/Psychogenic%20pru...                    710   \n",
       "\n",
       "  Probability                                             Source  \\\n",
       "0        0.95  MBL-Iter%3A710-2013%2F03%2F13-12%3A17%3A37-Fro...   \n",
       "\n",
       "   Entity literalStrings                               Value literalStrings  \\\n",
       "0  Psychogenic pruritus   http://en.wikipedia.org/wiki/Psychogenic%20pru...   \n",
       "\n",
       "  Best Entity literalString  \\\n",
       "0      Psychogenic pruritus   \n",
       "\n",
       "                            Best Value literalString Categories for Entity  \\\n",
       "0  http://en.wikipedia.org/wiki/Psychogenic%20pru...                   NaN   \n",
       "\n",
       "  Categories for Value                                   Candidate Source  \\\n",
       "0                  NaN  %5BAliasMatcher-Iter%3A621-2012%2F08%2F03-10%3...   \n",
       "\n",
       "  Unnamed: 13 Unnamed: 14  Unnamed: 15 Unnamed: 16  \n",
       "0         NaN         NaN          NaN         NaN  "
      ]
     },
     "execution_count": 35,
     "metadata": {},
     "output_type": "execute_result"
    },
    {
     "name": "stdout",
     "output_type": "stream",
     "text": [
      "time: 18.5 ms\n"
     ]
    }
   ],
   "source": [
    "df.head(1)"
   ]
  },
  {
   "cell_type": "code",
   "execution_count": 54,
   "metadata": {
    "collapsed": false
   },
   "outputs": [
    {
     "name": "stdout",
     "output_type": "stream",
     "text": [
      "time: 4.36 ms\n"
     ]
    }
   ],
   "source": [
    "df = df.drop_duplicates('Value')\n",
    "df = df[pd.notnull(df['Value'])]"
   ]
  },
  {
   "cell_type": "code",
   "execution_count": 55,
   "metadata": {
    "collapsed": false
   },
   "outputs": [
    {
     "data": {
      "text/plain": [
       "count                                                1805\n",
       "unique                                               1805\n",
       "top       http://en.wikipedia.org/wiki/Cirsoid%20aneurysm\n",
       "freq                                                    1\n",
       "Name: Value, dtype: object"
      ]
     },
     "execution_count": 55,
     "metadata": {},
     "output_type": "execute_result"
    },
    {
     "name": "stdout",
     "output_type": "stream",
     "text": [
      "time: 6.84 ms\n"
     ]
    }
   ],
   "source": [
    "df.Value.describe()"
   ]
  },
  {
   "cell_type": "code",
   "execution_count": 58,
   "metadata": {
    "collapsed": false
   },
   "outputs": [
    {
     "name": "stdout",
     "output_type": "stream",
     "text": [
      "time: 13min 51s\n"
     ]
    }
   ],
   "source": [
    "import urllib\n",
    "import urllib2\n",
    "from BeautifulSoup import BeautifulSoup\n",
    "import re\n",
    "\n",
    "lst = []\n",
    "\n",
    "def clean(text):\n",
    "    return html.fromstring(text).text_content().lower().strip()\n",
    "\n",
    "for i, row in enumerate(df.iterrows()):\n",
    "    opener = urllib2.build_opener()\n",
    "    opener.addheaders = [('User-agent', 'Mozilla/5.0')] #wikipedia needs this\n",
    "    \n",
    "    \n",
    "    try:\n",
    "        resource = opener.open(row[1]['Value'])\n",
    "    except ValueError:\n",
    "        lst.append(None)\n",
    "        continue\n",
    "    except urllib2.HTTPError:\n",
    "        lst.append(None)\n",
    "        continue\n",
    "    except urllib2.URLError:\n",
    "        lst.append(None)\n",
    "        continue\n",
    "\n",
    "    data = resource.read()\n",
    "    resource.close()\n",
    "    soup = BeautifulSoup(data)\n",
    "    lst.append(re.sub('<[^<]+?>', '', str(soup.find('div',id=\"bodyContent\").p)))"
   ]
  },
  {
   "cell_type": "code",
   "execution_count": 59,
   "metadata": {
    "collapsed": false
   },
   "outputs": [
    {
     "name": "stdout",
     "output_type": "stream",
     "text": [
      "time: 35.8 ms\n"
     ]
    }
   ],
   "source": [
    "df['wiki'] = lst"
   ]
  },
  {
   "cell_type": "code",
   "execution_count": 60,
   "metadata": {
    "collapsed": false
   },
   "outputs": [
    {
     "name": "stdout",
     "output_type": "stream",
     "text": [
      "time: 2.81 ms\n"
     ]
    }
   ],
   "source": [
    "df2 = df[['Best Entity literalString', 'wiki', 'Entity']]"
   ]
  },
  {
   "cell_type": "code",
   "execution_count": 65,
   "metadata": {
    "collapsed": false
   },
   "outputs": [
    {
     "name": "stdout",
     "output_type": "stream",
     "text": [
      "time: 3.45 ms\n"
     ]
    }
   ],
   "source": [
    "df2 = df2.drop_duplicates('wiki')\n",
    "df2 = df2[df2.wiki != None]"
   ]
  },
  {
   "cell_type": "code",
   "execution_count": 66,
   "metadata": {
    "collapsed": false
   },
   "outputs": [
    {
     "data": {
      "text/html": [
       "<div>\n",
       "<table border=\"1\" class=\"dataframe\">\n",
       "  <thead>\n",
       "    <tr style=\"text-align: right;\">\n",
       "      <th></th>\n",
       "      <th>Best Entity literalString</th>\n",
       "      <th>wiki</th>\n",
       "      <th>Entity</th>\n",
       "    </tr>\n",
       "  </thead>\n",
       "  <tbody>\n",
       "    <tr>\n",
       "      <th>count</th>\n",
       "      <td>1746</td>\n",
       "      <td>1745</td>\n",
       "      <td>1746</td>\n",
       "    </tr>\n",
       "    <tr>\n",
       "      <th>unique</th>\n",
       "      <td>1746</td>\n",
       "      <td>1745</td>\n",
       "      <td>1746</td>\n",
       "    </tr>\n",
       "    <tr>\n",
       "      <th>top</th>\n",
       "      <td>Johanson Blizzard syndrome</td>\n",
       "      <td>3-Methylcrotonyl-CoA carboxylase deficiency (3...</td>\n",
       "      <td>jean_marc_gaspard_itard</td>\n",
       "    </tr>\n",
       "    <tr>\n",
       "      <th>freq</th>\n",
       "      <td>1</td>\n",
       "      <td>1</td>\n",
       "      <td>1</td>\n",
       "    </tr>\n",
       "  </tbody>\n",
       "</table>\n",
       "</div>"
      ],
      "text/plain": [
       "         Best Entity literalString  \\\n",
       "count                         1746   \n",
       "unique                        1746   \n",
       "top     Johanson Blizzard syndrome   \n",
       "freq                             1   \n",
       "\n",
       "                                                     wiki  \\\n",
       "count                                                1745   \n",
       "unique                                               1745   \n",
       "top     3-Methylcrotonyl-CoA carboxylase deficiency (3...   \n",
       "freq                                                    1   \n",
       "\n",
       "                         Entity  \n",
       "count                      1746  \n",
       "unique                     1746  \n",
       "top     jean_marc_gaspard_itard  \n",
       "freq                          1  "
      ]
     },
     "execution_count": 66,
     "metadata": {},
     "output_type": "execute_result"
    },
    {
     "name": "stdout",
     "output_type": "stream",
     "text": [
      "time: 16.3 ms\n"
     ]
    }
   ],
   "source": [
    "df2.describe()"
   ]
  },
  {
   "cell_type": "code",
   "execution_count": 68,
   "metadata": {
    "collapsed": false
   },
   "outputs": [
    {
     "data": {
      "text/html": [
       "<div>\n",
       "<table border=\"1\" class=\"dataframe\">\n",
       "  <thead>\n",
       "    <tr style=\"text-align: right;\">\n",
       "      <th></th>\n",
       "      <th>Best Entity literalString</th>\n",
       "      <th>wiki</th>\n",
       "      <th>Entity</th>\n",
       "    </tr>\n",
       "  </thead>\n",
       "  <tbody>\n",
       "    <tr>\n",
       "      <th>0</th>\n",
       "      <td>Psychogenic pruritus</td>\n",
       "      <td>Psychogenic pruritus is a common manifestation...</td>\n",
       "      <td>psychogenic_pruritus</td>\n",
       "    </tr>\n",
       "    <tr>\n",
       "      <th>1</th>\n",
       "      <td>Hydrophthalmos</td>\n",
       "      <td>Hydrophthalmos is a congenital form of glaucoma.</td>\n",
       "      <td>hydrophthalmos</td>\n",
       "    </tr>\n",
       "    <tr>\n",
       "      <th>2</th>\n",
       "      <td>Amino acid transport disorder</td>\n",
       "      <td>Amino acid transport disorders are medical con...</td>\n",
       "      <td>amino_acid_transport_disorder</td>\n",
       "    </tr>\n",
       "    <tr>\n",
       "      <th>3</th>\n",
       "      <td>Adelaide Hanscom</td>\n",
       "      <td>Adelaide Hanscom Leeson (25 November 1875 – 19...</td>\n",
       "      <td>adelaide_hanscom</td>\n",
       "    </tr>\n",
       "    <tr>\n",
       "      <th>4</th>\n",
       "      <td>trachoma</td>\n",
       "      <td>Trachoma, also called granular conjunctivitis,...</td>\n",
       "      <td>trachoma</td>\n",
       "    </tr>\n",
       "  </tbody>\n",
       "</table>\n",
       "</div>"
      ],
      "text/plain": [
       "       Best Entity literalString  \\\n",
       "0           Psychogenic pruritus   \n",
       "1                 Hydrophthalmos   \n",
       "2  Amino acid transport disorder   \n",
       "3               Adelaide Hanscom   \n",
       "4                       trachoma   \n",
       "\n",
       "                                                wiki  \\\n",
       "0  Psychogenic pruritus is a common manifestation...   \n",
       "1   Hydrophthalmos is a congenital form of glaucoma.   \n",
       "2  Amino acid transport disorders are medical con...   \n",
       "3  Adelaide Hanscom Leeson (25 November 1875 – 19...   \n",
       "4  Trachoma, also called granular conjunctivitis,...   \n",
       "\n",
       "                          Entity  \n",
       "0           psychogenic_pruritus  \n",
       "1                 hydrophthalmos  \n",
       "2  amino_acid_transport_disorder  \n",
       "3               adelaide_hanscom  \n",
       "4                       trachoma  "
      ]
     },
     "execution_count": 68,
     "metadata": {},
     "output_type": "execute_result"
    },
    {
     "name": "stdout",
     "output_type": "stream",
     "text": [
      "time: 8.53 ms\n"
     ]
    }
   ],
   "source": [
    "df2.head()"
   ]
  },
  {
   "cell_type": "code",
   "execution_count": 69,
   "metadata": {
    "collapsed": false
   },
   "outputs": [
    {
     "name": "stdout",
     "output_type": "stream",
     "text": [
      "time: 33.7 ms\n"
     ]
    }
   ],
   "source": [
    "df2.to_csv('full_output.csv', index=False)"
   ]
  },
  {
   "cell_type": "code",
   "execution_count": 73,
   "metadata": {
    "collapsed": false
   },
   "outputs": [
    {
     "data": {
      "text/plain": [
       "'Best Entity literalString'"
      ]
     },
     "execution_count": 73,
     "metadata": {},
     "output_type": "execute_result"
    },
    {
     "name": "stdout",
     "output_type": "stream",
     "text": [
      "time: 1.94 ms\n"
     ]
    }
   ],
   "source": [
    "df2.columns[0]"
   ]
  },
  {
   "cell_type": "code",
   "execution_count": 76,
   "metadata": {
    "collapsed": false
   },
   "outputs": [
    {
     "name": "stdout",
     "output_type": "stream",
     "text": [
      "time: 5.39 ms\n"
     ]
    }
   ],
   "source": [
    "df2 = df2.drop_duplicates(df2.columns[0])\n",
    "df2 = df2.drop_duplicates(df2.columns[1])\n",
    "df2 = df2.drop_duplicates(df2.columns[2])"
   ]
  },
  {
   "cell_type": "code",
   "execution_count": 77,
   "metadata": {
    "collapsed": false
   },
   "outputs": [
    {
     "data": {
      "text/plain": [
       "1805"
      ]
     },
     "execution_count": 77,
     "metadata": {},
     "output_type": "execute_result"
    },
    {
     "name": "stdout",
     "output_type": "stream",
     "text": [
      "time: 1.91 ms\n"
     ]
    }
   ],
   "source": [
    "len(df)"
   ]
  },
  {
   "cell_type": "code",
   "execution_count": 79,
   "metadata": {
    "collapsed": false
   },
   "outputs": [
    {
     "name": "stdout",
     "output_type": "stream",
     "text": [
      "time: 841 µs\n"
     ]
    }
   ],
   "source": [
    "import numpy as np"
   ]
  },
  {
   "cell_type": "code",
   "execution_count": 81,
   "metadata": {
    "collapsed": false
   },
   "outputs": [
    {
     "data": {
      "text/plain": [
       "array([ 0.,  0.,  0., ...,  0.,  0.,  0.])"
      ]
     },
     "execution_count": 81,
     "metadata": {},
     "output_type": "execute_result"
    },
    {
     "name": "stdout",
     "output_type": "stream",
     "text": [
      "time: 2.37 ms\n"
     ]
    }
   ],
   "source": [
    "np.zeros(1746)"
   ]
  },
  {
   "cell_type": "code",
   "execution_count": 80,
   "metadata": {
    "collapsed": false
   },
   "outputs": [
    {
     "data": {
      "text/plain": [
       "1746"
      ]
     },
     "execution_count": 80,
     "metadata": {},
     "output_type": "execute_result"
    },
    {
     "name": "stdout",
     "output_type": "stream",
     "text": [
      "time: 2.03 ms\n"
     ]
    }
   ],
   "source": [
    "len(df2)"
   ]
  },
  {
   "cell_type": "code",
   "execution_count": 86,
   "metadata": {
    "collapsed": false
   },
   "outputs": [
    {
     "name": "stdout",
     "output_type": "stream",
     "text": [
      "time: 1.74 ms\n"
     ]
    }
   ],
   "source": [
    "df2['cls'] = np.zeros(1746)"
   ]
  },
  {
   "cell_type": "code",
   "execution_count": 87,
   "metadata": {
    "collapsed": false
   },
   "outputs": [
    {
     "data": {
      "text/html": [
       "<div>\n",
       "<table border=\"1\" class=\"dataframe\">\n",
       "  <thead>\n",
       "    <tr style=\"text-align: right;\">\n",
       "      <th></th>\n",
       "      <th>Best Entity literalString</th>\n",
       "      <th>wiki</th>\n",
       "      <th>Entity</th>\n",
       "      <th>cls</th>\n",
       "    </tr>\n",
       "  </thead>\n",
       "  <tbody>\n",
       "    <tr>\n",
       "      <th>0</th>\n",
       "      <td>Psychogenic pruritus</td>\n",
       "      <td>Psychogenic pruritus is a common manifestation...</td>\n",
       "      <td>psychogenic_pruritus</td>\n",
       "      <td>0</td>\n",
       "    </tr>\n",
       "    <tr>\n",
       "      <th>1</th>\n",
       "      <td>Hydrophthalmos</td>\n",
       "      <td>Hydrophthalmos is a congenital form of glaucoma.</td>\n",
       "      <td>hydrophthalmos</td>\n",
       "      <td>0</td>\n",
       "    </tr>\n",
       "    <tr>\n",
       "      <th>2</th>\n",
       "      <td>Amino acid transport disorder</td>\n",
       "      <td>Amino acid transport disorders are medical con...</td>\n",
       "      <td>amino_acid_transport_disorder</td>\n",
       "      <td>0</td>\n",
       "    </tr>\n",
       "    <tr>\n",
       "      <th>3</th>\n",
       "      <td>Adelaide Hanscom</td>\n",
       "      <td>Adelaide Hanscom Leeson (25 November 1875 – 19...</td>\n",
       "      <td>adelaide_hanscom</td>\n",
       "      <td>0</td>\n",
       "    </tr>\n",
       "    <tr>\n",
       "      <th>4</th>\n",
       "      <td>trachoma</td>\n",
       "      <td>Trachoma, also called granular conjunctivitis,...</td>\n",
       "      <td>trachoma</td>\n",
       "      <td>0</td>\n",
       "    </tr>\n",
       "  </tbody>\n",
       "</table>\n",
       "</div>"
      ],
      "text/plain": [
       "       Best Entity literalString  \\\n",
       "0           Psychogenic pruritus   \n",
       "1                 Hydrophthalmos   \n",
       "2  Amino acid transport disorder   \n",
       "3               Adelaide Hanscom   \n",
       "4                       trachoma   \n",
       "\n",
       "                                                wiki  \\\n",
       "0  Psychogenic pruritus is a common manifestation...   \n",
       "1   Hydrophthalmos is a congenital form of glaucoma.   \n",
       "2  Amino acid transport disorders are medical con...   \n",
       "3  Adelaide Hanscom Leeson (25 November 1875 – 19...   \n",
       "4  Trachoma, also called granular conjunctivitis,...   \n",
       "\n",
       "                          Entity  cls  \n",
       "0           psychogenic_pruritus    0  \n",
       "1                 hydrophthalmos    0  \n",
       "2  amino_acid_transport_disorder    0  \n",
       "3               adelaide_hanscom    0  \n",
       "4                       trachoma    0  "
      ]
     },
     "execution_count": 87,
     "metadata": {},
     "output_type": "execute_result"
    },
    {
     "name": "stdout",
     "output_type": "stream",
     "text": [
      "time: 10.5 ms\n"
     ]
    }
   ],
   "source": [
    "df2.head()"
   ]
  },
  {
   "cell_type": "code",
   "execution_count": 88,
   "metadata": {
    "collapsed": false
   },
   "outputs": [
    {
     "name": "stdout",
     "output_type": "stream",
     "text": [
      "time: 15.4 ms\n"
     ]
    }
   ],
   "source": [
    "df2.to_csv('full_output2.csv', index=False)"
   ]
  }
 ],
 "metadata": {
  "kernelspec": {
   "display_name": "Python 2",
   "language": "python",
   "name": "python2"
  },
  "language_info": {
   "codemirror_mode": {
    "name": "ipython",
    "version": 2
   },
   "file_extension": ".py",
   "mimetype": "text/x-python",
   "name": "python",
   "nbconvert_exporter": "python",
   "pygments_lexer": "ipython2",
   "version": "2.7.10"
  }
 },
 "nbformat": 4,
 "nbformat_minor": 0
}
