{
 "cells": [
  {
   "cell_type": "code",
   "execution_count": 1,
   "metadata": {
    "collapsed": false
   },
   "outputs": [
    {
     "name": "stderr",
     "output_type": "stream",
     "text": [
      "A newer version of GraphLab Create (v1.6.1) is available! Your current version is v1.2.1.\n",
      "You can use pip to upgrade the graphlab-create package. For more information see http://graphlab.com/products/create/upgrade."
     ]
    }
   ],
   "source": [
    "import graphlab as gl"
   ]
  },
  {
   "cell_type": "code",
   "execution_count": 3,
   "metadata": {
    "collapsed": false
   },
   "outputs": [
    {
     "name": "stderr",
     "output_type": "stream",
     "text": [
      "[INFO] Start server at: ipc:///tmp/graphlab_server-39335 - Server binary: /Library/Python/2.7/site-packages/graphlab/unity_server - Server log: /tmp/graphlab_server_1447553359.log\n",
      "[INFO] GraphLab Server Version: 1.2.1\n"
     ]
    },
    {
     "name": "stdout",
     "output_type": "stream",
     "text": [
      "PROGRESS: Finished parsing file /Users/gwulfs/cs/hackathons/hharvard/nell-big-disease.csv\n",
      "PROGRESS: Parsing completed. Parsed 100 lines in 0.57028 secs.\n",
      "Could not detect types. Using str for each column.\n",
      "PROGRESS: Unable to parse line \"__nbsp_______br___\tcandidate:generalizations\tconcept:disease\t[559]\t[0.5]\t%28null%29\t\"{&nbsp;[...]<br />\" \t\t{&nbsp;[...]<br />\t\t\t concept:physiologicalcondition\t%5BSEAL-Iter%3A559-2012%2F04%2F30-22%3A19%3A58-%3Ctoken%3D__nbsp_______br___%2Cdisease%3E-From%3ACategory%3Adisease-using-KB+http%3A%2F%2Fwww.patentgenius.com%2Fpatent%2F7199151.html+http%3A%2F%2Fwww.freepatentsonline.com%2Fy2007%2F0135335.html%5D\"\n",
      "PROGRESS: Unable to parse line \"____________neutropenia\tcandidate:generalizations\tconcept:disease\t[559]\t[0.75]\t%28null%29\t\"{, [...], } neutropenia\" \t\t{, [...], } neutropenia\t\t\t concept:physiologicalcondition\t%5BSEAL-Iter%3A559-2012%2F04%2F30-22%3A19%3A58-%3Ctoken%3D____________neutropenia%2Cdisease%3E-From%3ACategory%3Adisease-using-KB+http%3A%2F%2Fwww.patentstorm.us%2Fpatents%2F6680047%2Fdescription.htmlhttp%3A%2F%2Fwww.medicalgeek.com%2Fdisease-syndromes-procedures%2F9482-list-rare-diseases.html+http%3A%2F%2Fwww.mitbbs.com%2Fpc%2Fpcarch.php%3Fuserid%3Dhome99%26y%3D2008%26m%3D6https%3A%2F%2Fwww.donorsiblingregistry.com%2Fresource-library%2Fmedical-issues%2F%5D\"\n",
      "PROGRESS: Unable to parse line \"home\tcandidate:concept:atdate\tconcept:date:_2007\t[887]\t[0.5]\t%28null%29\t\"Home\" \"HOME\" \"HOme\" \"home\" \t\"\"2007\" \"-2007\" \"“2007\" \"©2007\" \tHome\t\"2007\t\t concept:date\t%5BCPL-Iter%3A887-2014%2F11%2F22-13%3A41%3A59-%3Ctoken%3Dhome%2C_2007%3E-arg1+page+Copyright+arg2%091%5D\"\n",
      "PROGRESS: Unable to parse line \"__nbsp_______br_____mucormycosis\tcandidate:generalizations\tconcept:disease\t[559, 808]\t[0.5, 0.6184190735627642]\t%28null%29\t\"{&nbsp;[...]<br /> }mucormycosis\" \t\t{&nbsp;[...]<br /> }mucormycosis\t\t\t concept:physiologicalcondition\t%5BSEAL-Iter%3A559-2012%2F04%2F30-22%3A19%3A58-%3Ctoken%3D__nbsp_______br_____mucormycosis%2Cdisease%3E-From%3ACategory%3Adisease-using-KB+http%3A%2F%2Fwww.sumobrain.com%2Fpatents%2Fwipo%2FUse-melanin-concentrating-hormone-met%2FWO2009033735.htmlhttp%3A%2F%2Fwww.mitbbs.com%2Fpc%2Fpcarch.php%3Fuserid%3Dhome99%26y%3D2008%26m%3D6%2C+CMC-Iter%3A808-2014%2F01%2F28-21%3A26%3A15-%3Ctoken%3D__nbsp_______br_____mucormycosis%2Cdisease%3E-CHARS%091.92425%09SUFFIX%3Dsis%091.69288%09SUFFIX%3Dosis%091.25023%09LASTSUFFIX%3Dsis%090.77450%09LASTSUFFIX%3Dosis%090.68344%09LASTSUFFIX%3Dis%090.68005%09SUFFIX%3Dis%090.64990%09SHORT_WORDSHAPE%3Dx%09-0.18955%09POS%3DNN%09-1.53095%09WORDS%09-2.34648%5D\"\n",
      "PROGRESS: Unable to parse line \"___________syndrome\tcandidate:generalizations\tconcept:disease\t[559]\t[0.5]\t%28null%29\t\"{, [...], }syndrome\" \t\t{, [...], }syndrome\t\t\t concept:physiologicalcondition\t%5BSEAL-Iter%3A559-2012%2F04%2F30-22%3A19%3A58-%3Ctoken%3D___________syndrome%2Cdisease%3E-From%3ACategory%3Adisease-using-KB+http%3A%2F%2Fwww.patentgenius.com%2Fpatent%2F6261537.htmlhttp%3A%2F%2Fwww.freepatentsonline.com%2Fy2007%2F0135335.html%5D\"\n",
      "PROGRESS: Unable to parse line \"___porphylia_acute__________intermittent\tcandidate:generalizations\tconcept:disease\t[559]\t[0.5]\t%28null%29\t\"{, porphylia acute [...], } intermittent\" \t\t{, porphylia acute [...], } intermittent\t\t\t concept:physiologicalcondition\t%5BSEAL-Iter%3A559-2012%2F04%2F30-22%3A19%3A58-%3Ctoken%3D___porphylia_acute__________intermittent%2Cdisease%3E-From%3ACategory%3Adisease-using-KB+http%3A%2F%2Fwww.docstoc.com%2Fdocs%2F49856449%2FDiagnostictherapeutic-Agents-Having-Microbubbles-Coupled-To-One-Or-More-Vectors---Patent-6261537+http%3A%2F%2Fwww.freepatentsonline.com%2Fy2007%2F0135335.html%5D\"\n",
      "PROGRESS: Unable to parse line \"_______esophageal__atresia\tcandidate:generalizations\tconcept:disease\t[559]\t[0.75]\t%28null%29\t\"[...]. esophageal  atresia\" \t\t[...]. esophageal  atresia\t\t\t concept:physiologicalcondition\t%5BSEAL-Iter%3A559-2012%2F04%2F30-22%3A19%3A58-%3Ctoken%3D_______esophageal__atresia%2Cdisease%3E-From%3ACategory%3Adisease-using-KB+http%3A%2F%2Fwww.gpo.gov%2Ffdsys%2Fpkg%2FFR-1995-04-26%2Fhtml%2F95-10085.htmhttp%3A%2F%2Fwww.faqs.org%2Fpatents%2Fapp%2F20100197572+http%3A%2F%2Fwww.freepatentsonline.com%2F6261537.html+http%3A%2F%2Fencycl.opentopia.com%2Fterm%2FList_of_rare_diseases%5D\"\n",
      "PROGRESS: Unable to parse line \"______________________________childhood\tcandidate:generalizations\tconcept:disease\t[559]\t[0.5]\t%28null%29\t\"{..........  [...].           childhood\" \t\t{..........  [...].           childhood\t\t\t concept:physiologicalcondition\t%5BSEAL-Iter%3A559-2012%2F04%2F30-22%3A19%3A58-%3Ctoken%3D______________________________childhood%2Cdisease%3E-From%3ACategory%3Adisease-using-KB+http%3A%2F%2Fwww.gpo.gov%2Ffdsys%2Fpkg%2FFR-1995-04-26%2Fhtml%2F95-10085.htmhttp%3A%2F%2Fwww.freepatentsonline.com%2Fy2007%2F0135335.html%5D\"\n",
      "PROGRESS: Unable to parse line \"___________placenta_disorder\tcandidate:generalizations\tconcept:disease\t[559]\t[0.5]\t%28null%29\t\"{, [...], }placenta disorder\" \t\t{, [...], }placenta disorder\t\t\t concept:physiologicalcondition\t%5BSEAL-Iter%3A559-2012%2F04%2F30-22%3A19%3A58-%3Ctoken%3D___________placenta_disorder%2Cdisease%3E-From%3ACategory%3Adisease-using-KB+http%3A%2F%2Fwww.mitbbs.com%2Fpc%2Fpcarch.php%3Fuserid%3Dhome99%26y%3D2008%26m%3D6+http%3A%2F%2Fwww.bioportfolio.com%2Fnews%2Farticle%2F935524%2FThe-Rare-List-You-Must-See-It-To-Believe-It.html%5D\"\n",
      "PROGRESS: Unable to parse line \"__nbsp_______br____bowel_leiomyosarcoma\tcandidate:generalizations\tconcept:disease\t[559]\t[0.5]\t%28null%29\t\"{&nbsp;[...]<br /> bowel leiomyosarcoma\" \t\t{&nbsp;[...]<br /> bowel leiomyosarcoma\t\t\t concept:physiologicalcondition\t%5BSEAL-Iter%3A559-2012%2F04%2F30-22%3A19%3A58-%3Ctoken%3D__nbsp_______br____bowel_leiomyosarcoma%2Cdisease%3E-From%3ACategory%3Adisease-using-KB+http%3A%2F%2Fwww.patentgenius.com%2Fpatent%2F6680047.html+http%3A%2F%2Fwww.sumobrain.com%2Fpatents%2Fwipo%2FUse-melanin-concentrating-hormone-met%2FWO2009033735.html%5D\"\n",
      "PROGRESS: Read 140612 lines. Lines per second: 91215\n",
      "PROGRESS: 18 lines failed to parse correctly\n",
      "PROGRESS: Finished parsing file /Users/gwulfs/cs/hackathons/hharvard/nell-big-disease.csv\n",
      "PROGRESS: Parsing completed. Parsed 525561 lines in 4.72882 secs.\n"
     ]
    }
   ],
   "source": [
    "df = gl.SFrame.read_csv('nell-big-disease.csv', delimiter='\\t')"
   ]
  },
  {
   "cell_type": "code",
   "execution_count": 5,
   "metadata": {
    "collapsed": false
   },
   "outputs": [
    {
     "data": {
      "text/plain": [
       "13"
      ]
     },
     "execution_count": 5,
     "metadata": {},
     "output_type": "execute_result"
    }
   ],
   "source": [
    "len(df.column_names())"
   ]
  },
  {
   "cell_type": "code",
   "execution_count": 4,
   "metadata": {
    "collapsed": false
   },
   "outputs": [
    {
     "data": {
      "text/html": [
       "<div style=\"max-height:1000px;max-width:1500px;overflow:auto;\"><table frame=\"box\" rules=\"cols\">\n",
       "    <tr>\n",
       "        <th style=\"padding-left: 1em; padding-right: 1em; text-align: center\">n3_methylglutaconyl_coa_h<br>ydratase_deficiency</th>\n",
       "        <th style=\"padding-left: 1em; padding-right: 1em; text-align: center\">candidate:generalizations</th>\n",
       "        <th style=\"padding-left: 1em; padding-right: 1em; text-align: center\">concept:disease</th>\n",
       "        <th style=\"padding-left: 1em; padding-right: 1em; text-align: center\">X4</th>\n",
       "        <th style=\"padding-left: 1em; padding-right: 1em; text-align: center\">.1</th>\n",
       "    </tr>\n",
       "    <tr>\n",
       "        <td style=\"padding-left: 1em; padding-right: 1em; text-align: center; vertical-align: top\">ucds</td>\n",
       "        <td style=\"padding-left: 1em; padding-right: 1em; text-align: center; vertical-align: top\">candidate:generalizations</td>\n",
       "        <td style=\"padding-left: 1em; padding-right: 1em; text-align: center; vertical-align: top\">concept:disease</td>\n",
       "        <td style=\"padding-left: 1em; padding-right: 1em; text-align: center; vertical-align: top\">[772]\\t</td>\n",
       "        <td style=\"padding-left: 1em; padding-right: 1em; text-align: center; vertical-align: top\">[0.8288469466041748]\\t</td>\n",
       "    </tr>\n",
       "</table>\n",
       "<table frame=\"box\" rules=\"cols\">\n",
       "    <tr>\n",
       "        <th style=\"padding-left: 1em; padding-right: 1em; text-align: center\">%28null%29</th>\n",
       "        <th style=\"padding-left: 1em; padding-right: 1em; text-align: center\">3 methylglutaconyl coa<br>hydratase deficiency</th>\n",
       "        <th style=\"padding-left: 1em; padding-right: 1em; text-align: center\">.2</th>\n",
       "        <th style=\"padding-left: 1em; padding-right: 1em; text-align: center\">3 methylglutaconyl coa<br>hydratase deficiency.1</th>\n",
       "        <th style=\"padding-left: 1em; padding-right: 1em; text-align: center\">.3</th>\n",
       "        <th style=\"padding-left: 1em; padding-right: 1em; text-align: center\">.4</th>\n",
       "        <th style=\"padding-left: 1em; padding-right: 1em; text-align: center\">concept:physiologicalcond<br>ition</th>\n",
       "    </tr>\n",
       "    <tr>\n",
       "        <td style=\"padding-left: 1em; padding-right: 1em; text-align: center; vertical-align: top\">%28null%29</td>\n",
       "        <td style=\"padding-left: 1em; padding-right: 1em; text-align: center; vertical-align: top\">UCDs \"ucds\"</td>\n",
       "        <td style=\"padding-left: 1em; padding-right: 1em; text-align: center; vertical-align: top\"></td>\n",
       "        <td style=\"padding-left: 1em; padding-right: 1em; text-align: center; vertical-align: top\">UCDs</td>\n",
       "        <td style=\"padding-left: 1em; padding-right: 1em; text-align: center; vertical-align: top\"></td>\n",
       "        <td style=\"padding-left: 1em; padding-right: 1em; text-align: center; vertical-align: top\"></td>\n",
       "        <td style=\"padding-left: 1em; padding-right: 1em; text-align: center; vertical-align: top\">concept:physiologicalcond<br>ition</td>\n",
       "    </tr>\n",
       "</table>\n",
       "<table frame=\"box\" rules=\"cols\">\n",
       "    <tr>\n",
       "        <th style=\"padding-left: 1em; padding-right: 1em; text-align: center\">%5BSEAL-Iter%3A222-2011%2<br>F03%2F20-14%3A11%3A11 ...</th>\n",
       "    </tr>\n",
       "    <tr>\n",
       "        <td style=\"padding-left: 1em; padding-right: 1em; text-align: center; vertical-align: top\">%5BCPL-Iter%3A772-2013%2F<br>09%2F26-09%3A23%3A32- ...</td>\n",
       "    </tr>\n",
       "</table>\n",
       "[1 rows x 13 columns]<br/>\n",
       "</div>"
      ],
      "text/plain": [
       "Columns:\n",
       "\tn3_methylglutaconyl_coa_hydratase_deficiency\tstr\n",
       "\tcandidate:generalizations\tstr\n",
       "\tconcept:disease\tstr\n",
       "\tX4\tstr\n",
       "\t.1\tstr\n",
       "\t%28null%29\tstr\n",
       "\t3 methylglutaconyl coa hydratase deficiency\tstr\n",
       "\t.2\tstr\n",
       "\t3 methylglutaconyl coa hydratase deficiency.1\tstr\n",
       "\t.3\tstr\n",
       "\t.4\tstr\n",
       "\tconcept:physiologicalcondition\tstr\n",
       "\t%5BSEAL-Iter%3A222-2011%2F03%2F20-14%3A11%3A11-%3Ctoken%3Dn3_methylglutaconyl_coa_hydratase_deficiency%2Cdisease%3E-From%3ACategory%3Adisease-using-KB+http%3A%2F%2Fwww.raredis.org%2Fmodules%2Fsections%2Findex.php%3Fop%3Dprintpage%26artid%3D25%5D\tstr\n",
       "\n",
       "Rows: 1\n",
       "\n",
       "Data:\n",
       "+--------------------------------+---------------------------+-----------------+\n",
       "| n3_methylglutaconyl_coa_hy ... | candidate:generalizations | concept:disease |\n",
       "+--------------------------------+---------------------------+-----------------+\n",
       "|              ucds              | candidate:generalizations | concept:disease |\n",
       "+--------------------------------+---------------------------+-----------------+\n",
       "+---------+------------------------+------------+--------------------------------+\n",
       "|    X4   |           .1           | %28null%29 | 3 methylglutaconyl coa hyd ... |\n",
       "+---------+------------------------+------------+--------------------------------+\n",
       "| [772]\\t | [0.8288469466041748]\\t | %28null%29 |          UCDs \"ucds\"           |\n",
       "+---------+------------------------+------------+--------------------------------+\n",
       "+----+--------------------------------+----+----+--------------------------------+\n",
       "| .2 | 3 methylglutaconyl coa hyd ... | .3 | .4 | concept:physiologicalcondition |\n",
       "+----+--------------------------------+----+----+--------------------------------+\n",
       "|    |              UCDs              |    |    | concept:physiologicalcondition |\n",
       "+----+--------------------------------+----+----+--------------------------------+\n",
       "+--------------------------------+\n",
       "| %5BSEAL-Iter%3A222-2011%2F ... |\n",
       "+--------------------------------+\n",
       "| %5BCPL-Iter%3A772-2013%2F0 ... |\n",
       "+--------------------------------+\n",
       "[1 rows x 13 columns]"
      ]
     },
     "execution_count": 4,
     "metadata": {},
     "output_type": "execute_result"
    }
   ],
   "source": [
    "df.head(1)"
   ]
  },
  {
   "cell_type": "code",
   "execution_count": null,
   "metadata": {
    "collapsed": true
   },
   "outputs": [],
   "source": []
  }
 ],
 "metadata": {
  "kernelspec": {
   "display_name": "Python 2",
   "language": "python",
   "name": "python2"
  },
  "language_info": {
   "codemirror_mode": {
    "name": "ipython",
    "version": 2
   },
   "file_extension": ".py",
   "mimetype": "text/x-python",
   "name": "python",
   "nbconvert_exporter": "python",
   "pygments_lexer": "ipython2",
   "version": "2.7.10"
  }
 },
 "nbformat": 4,
 "nbformat_minor": 0
}
