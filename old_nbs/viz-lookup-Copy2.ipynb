{
 "cells": [
  {
   "cell_type": "code",
   "execution_count": 1,
   "metadata": {
    "collapsed": false
   },
   "outputs": [],
   "source": [
    "import pandas as pd"
   ]
  },
  {
   "cell_type": "code",
   "execution_count": 2,
   "metadata": {
    "collapsed": false
   },
   "outputs": [],
   "source": [
    "df = pd.read_csv('nell-disease.csv', delimiter='\\t', nrows=52556)"
   ]
  },
  {
   "cell_type": "code",
   "execution_count": 3,
   "metadata": {
    "collapsed": false
   },
   "outputs": [
    {
     "data": {
      "text/html": [
       "<div>\n",
       "<table border=\"1\" class=\"dataframe\">\n",
       "  <thead>\n",
       "    <tr style=\"text-align: right;\">\n",
       "      <th></th>\n",
       "      <th>Entity</th>\n",
       "      <th>Relation</th>\n",
       "      <th>Value</th>\n",
       "      <th>Iteration of Promotion</th>\n",
       "      <th>Probability</th>\n",
       "      <th>Source</th>\n",
       "      <th>Entity literalStrings</th>\n",
       "      <th>Value literalStrings</th>\n",
       "      <th>Best Entity literalString</th>\n",
       "      <th>Best Value literalString</th>\n",
       "      <th>Categories for Entity</th>\n",
       "      <th>Categories for Value</th>\n",
       "      <th>Candidate Source</th>\n",
       "      <th>Unnamed: 13</th>\n",
       "      <th>Unnamed: 14</th>\n",
       "      <th>Unnamed: 15</th>\n",
       "      <th>Unnamed: 16</th>\n",
       "    </tr>\n",
       "  </thead>\n",
       "  <tbody>\n",
       "    <tr>\n",
       "      <th>0</th>\n",
       "      <td>psychogenic_pruritus</td>\n",
       "      <td>concept:haswikipediaurl</td>\n",
       "      <td>http://en.wikipedia.org/wiki/Psychogenic%20pru...</td>\n",
       "      <td>710</td>\n",
       "      <td>0.95</td>\n",
       "      <td>MBL-Iter%3A710-2013%2F03%2F13-12%3A17%3A37-Fro...</td>\n",
       "      <td>Psychogenic pruritus</td>\n",
       "      <td>http://en.wikipedia.org/wiki/Psychogenic%20pru...</td>\n",
       "      <td>Psychogenic pruritus</td>\n",
       "      <td>http://en.wikipedia.org/wiki/Psychogenic%20pru...</td>\n",
       "      <td>NaN</td>\n",
       "      <td>NaN</td>\n",
       "      <td>%5BAliasMatcher-Iter%3A621-2012%2F08%2F03-10%3...</td>\n",
       "      <td>NaN</td>\n",
       "      <td>NaN</td>\n",
       "      <td>NaN</td>\n",
       "      <td>NaN</td>\n",
       "    </tr>\n",
       "    <tr>\n",
       "      <th>1</th>\n",
       "      <td>hydrophthalmos</td>\n",
       "      <td>concept:haswikipediaurl</td>\n",
       "      <td>http://en.wikipedia.org/wiki/Hydrophthalmos</td>\n",
       "      <td>710</td>\n",
       "      <td>0.95</td>\n",
       "      <td>MBL-Iter%3A710-2013%2F03%2F13-12%3A17%3A37-Fro...</td>\n",
       "      <td>Hydrophthalmos</td>\n",
       "      <td>http://en.wikipedia.org/wiki/Hydrophthalmos</td>\n",
       "      <td>Hydrophthalmos</td>\n",
       "      <td>http://en.wikipedia.org/wiki/Hydrophthalmos</td>\n",
       "      <td>NaN</td>\n",
       "      <td>NaN</td>\n",
       "      <td>%5BAliasMatcher-Iter%3A621-2012%2F08%2F03-10%3...</td>\n",
       "      <td>NaN</td>\n",
       "      <td>NaN</td>\n",
       "      <td>NaN</td>\n",
       "      <td>NaN</td>\n",
       "    </tr>\n",
       "    <tr>\n",
       "      <th>2</th>\n",
       "      <td>amino_acid_transport_disorder</td>\n",
       "      <td>concept:haswikipediaurl</td>\n",
       "      <td>http://en.wikipedia.org/wiki/Amino%20acid%20tr...</td>\n",
       "      <td>710</td>\n",
       "      <td>0.95</td>\n",
       "      <td>MBL-Iter%3A710-2013%2F03%2F13-12%3A17%3A37-Fro...</td>\n",
       "      <td>Amino acid transport disorder</td>\n",
       "      <td>http://en.wikipedia.org/wiki/Amino%20acid%20tr...</td>\n",
       "      <td>Amino acid transport disorder</td>\n",
       "      <td>http://en.wikipedia.org/wiki/Amino%20acid%20tr...</td>\n",
       "      <td>NaN</td>\n",
       "      <td>NaN</td>\n",
       "      <td>%5BAliasMatcher-Iter%3A621-2012%2F08%2F03-10%3...</td>\n",
       "      <td>NaN</td>\n",
       "      <td>NaN</td>\n",
       "      <td>NaN</td>\n",
       "      <td>NaN</td>\n",
       "    </tr>\n",
       "    <tr>\n",
       "      <th>3</th>\n",
       "      <td>adelaide_hanscom</td>\n",
       "      <td>concept:haswikipediaurl</td>\n",
       "      <td>http://en.wikipedia.org/wiki/Adelaide%20Hansco...</td>\n",
       "      <td>710</td>\n",
       "      <td>0.95</td>\n",
       "      <td>MBL-Iter%3A710-2013%2F03%2F13-12%3A17%3A37-Fro...</td>\n",
       "      <td>Adelaide Hanscom</td>\n",
       "      <td>http://en.wikipedia.org/wiki/Adelaide%20Hansco...</td>\n",
       "      <td>Adelaide Hanscom</td>\n",
       "      <td>http://en.wikipedia.org/wiki/Adelaide%20Hansco...</td>\n",
       "      <td>NaN</td>\n",
       "      <td>NaN</td>\n",
       "      <td>%5BAliasMatcher-Iter%3A621-2012%2F08%2F03-10%3...</td>\n",
       "      <td>NaN</td>\n",
       "      <td>NaN</td>\n",
       "      <td>NaN</td>\n",
       "      <td>NaN</td>\n",
       "    </tr>\n",
       "    <tr>\n",
       "      <th>4</th>\n",
       "      <td>trachoma</td>\n",
       "      <td>concept:haswikipediaurl</td>\n",
       "      <td>http://en.wikipedia.org/wiki/Trachoma</td>\n",
       "      <td>710</td>\n",
       "      <td>0.95</td>\n",
       "      <td>MBL-Iter%3A710-2013%2F03%2F13-12%3A17%3A37-Fro...</td>\n",
       "      <td>trachoma \"Trachoma\"</td>\n",
       "      <td>http://en.wikipedia.org/wiki/Trachoma</td>\n",
       "      <td>trachoma</td>\n",
       "      <td>http://en.wikipedia.org/wiki/Trachoma</td>\n",
       "      <td>NaN</td>\n",
       "      <td>NaN</td>\n",
       "      <td>%5BAliasMatcher-Iter%3A621-2012%2F08%2F03-10%3...</td>\n",
       "      <td>NaN</td>\n",
       "      <td>NaN</td>\n",
       "      <td>NaN</td>\n",
       "      <td>NaN</td>\n",
       "    </tr>\n",
       "  </tbody>\n",
       "</table>\n",
       "</div>"
      ],
      "text/plain": [
       "                          Entity                 Relation  \\\n",
       "0           psychogenic_pruritus  concept:haswikipediaurl   \n",
       "1                 hydrophthalmos  concept:haswikipediaurl   \n",
       "2  amino_acid_transport_disorder  concept:haswikipediaurl   \n",
       "3               adelaide_hanscom  concept:haswikipediaurl   \n",
       "4                       trachoma  concept:haswikipediaurl   \n",
       "\n",
       "                                               Value Iteration of Promotion  \\\n",
       "0  http://en.wikipedia.org/wiki/Psychogenic%20pru...                    710   \n",
       "1        http://en.wikipedia.org/wiki/Hydrophthalmos                    710   \n",
       "2  http://en.wikipedia.org/wiki/Amino%20acid%20tr...                    710   \n",
       "3  http://en.wikipedia.org/wiki/Adelaide%20Hansco...                    710   \n",
       "4              http://en.wikipedia.org/wiki/Trachoma                    710   \n",
       "\n",
       "  Probability                                             Source  \\\n",
       "0        0.95  MBL-Iter%3A710-2013%2F03%2F13-12%3A17%3A37-Fro...   \n",
       "1        0.95  MBL-Iter%3A710-2013%2F03%2F13-12%3A17%3A37-Fro...   \n",
       "2        0.95  MBL-Iter%3A710-2013%2F03%2F13-12%3A17%3A37-Fro...   \n",
       "3        0.95  MBL-Iter%3A710-2013%2F03%2F13-12%3A17%3A37-Fro...   \n",
       "4        0.95  MBL-Iter%3A710-2013%2F03%2F13-12%3A17%3A37-Fro...   \n",
       "\n",
       "            Entity literalStrings  \\\n",
       "0           Psychogenic pruritus    \n",
       "1                 Hydrophthalmos    \n",
       "2  Amino acid transport disorder    \n",
       "3               Adelaide Hanscom    \n",
       "4            trachoma \"Trachoma\"    \n",
       "\n",
       "                                Value literalStrings  \\\n",
       "0  http://en.wikipedia.org/wiki/Psychogenic%20pru...   \n",
       "1       http://en.wikipedia.org/wiki/Hydrophthalmos    \n",
       "2  http://en.wikipedia.org/wiki/Amino%20acid%20tr...   \n",
       "3  http://en.wikipedia.org/wiki/Adelaide%20Hansco...   \n",
       "4             http://en.wikipedia.org/wiki/Trachoma    \n",
       "\n",
       "       Best Entity literalString  \\\n",
       "0           Psychogenic pruritus   \n",
       "1                 Hydrophthalmos   \n",
       "2  Amino acid transport disorder   \n",
       "3               Adelaide Hanscom   \n",
       "4                       trachoma   \n",
       "\n",
       "                            Best Value literalString Categories for Entity  \\\n",
       "0  http://en.wikipedia.org/wiki/Psychogenic%20pru...                   NaN   \n",
       "1        http://en.wikipedia.org/wiki/Hydrophthalmos                   NaN   \n",
       "2  http://en.wikipedia.org/wiki/Amino%20acid%20tr...                   NaN   \n",
       "3  http://en.wikipedia.org/wiki/Adelaide%20Hansco...                   NaN   \n",
       "4              http://en.wikipedia.org/wiki/Trachoma                   NaN   \n",
       "\n",
       "  Categories for Value                                   Candidate Source  \\\n",
       "0                  NaN  %5BAliasMatcher-Iter%3A621-2012%2F08%2F03-10%3...   \n",
       "1                  NaN  %5BAliasMatcher-Iter%3A621-2012%2F08%2F03-10%3...   \n",
       "2                  NaN  %5BAliasMatcher-Iter%3A621-2012%2F08%2F03-10%3...   \n",
       "3                  NaN  %5BAliasMatcher-Iter%3A621-2012%2F08%2F03-10%3...   \n",
       "4                  NaN  %5BAliasMatcher-Iter%3A621-2012%2F08%2F03-10%3...   \n",
       "\n",
       "  Unnamed: 13 Unnamed: 14  Unnamed: 15 Unnamed: 16  \n",
       "0         NaN         NaN          NaN         NaN  \n",
       "1         NaN         NaN          NaN         NaN  \n",
       "2         NaN         NaN          NaN         NaN  \n",
       "3         NaN         NaN          NaN         NaN  \n",
       "4         NaN         NaN          NaN         NaN  "
      ]
     },
     "execution_count": 3,
     "metadata": {},
     "output_type": "execute_result"
    }
   ],
   "source": [
    "df.head()"
   ]
  },
  {
   "cell_type": "code",
   "execution_count": 4,
   "metadata": {
    "collapsed": false
   },
   "outputs": [
    {
     "data": {
      "text/plain": [
       "18630"
      ]
     },
     "execution_count": 4,
     "metadata": {},
     "output_type": "execute_result"
    }
   ],
   "source": [
    "len(df)"
   ]
  },
  {
   "cell_type": "code",
   "execution_count": 5,
   "metadata": {
    "collapsed": false
   },
   "outputs": [],
   "source": [
    "# import urllib\n",
    "# import urllib2\n",
    "# from BeautifulSoup import BeautifulSoup\n",
    "\n",
    "# opener = urllib2.build_opener()\n",
    "# opener.addheaders = [('User-agent', 'Mozilla/5.0')]\n",
    "\n",
    "# data = resource.read()\n",
    "# resource.close()\n",
    "# soup = BeautifulSoup(data)\n",
    "# df['txt'] = df['Value'].map(lambda x:BeautifulSoup(opener.open(x).read().find('div',id=\"bodyContent\").p))"
   ]
  },
  {
   "cell_type": "code",
   "execution_count": 6,
   "metadata": {
    "collapsed": false
   },
   "outputs": [
    {
     "data": {
      "text/html": [
       "<div>\n",
       "<table border=\"1\" class=\"dataframe\">\n",
       "  <thead>\n",
       "    <tr style=\"text-align: right;\">\n",
       "      <th></th>\n",
       "      <th>Entity</th>\n",
       "      <th>Relation</th>\n",
       "      <th>Value</th>\n",
       "      <th>Iteration of Promotion</th>\n",
       "      <th>Probability</th>\n",
       "      <th>Source</th>\n",
       "      <th>Entity literalStrings</th>\n",
       "      <th>Value literalStrings</th>\n",
       "      <th>Best Entity literalString</th>\n",
       "      <th>Best Value literalString</th>\n",
       "      <th>Categories for Entity</th>\n",
       "      <th>Categories for Value</th>\n",
       "      <th>Candidate Source</th>\n",
       "      <th>Unnamed: 13</th>\n",
       "      <th>Unnamed: 14</th>\n",
       "      <th>Unnamed: 15</th>\n",
       "      <th>Unnamed: 16</th>\n",
       "    </tr>\n",
       "  </thead>\n",
       "  <tbody>\n",
       "    <tr>\n",
       "      <th>0</th>\n",
       "      <td>psychogenic_pruritus</td>\n",
       "      <td>concept:haswikipediaurl</td>\n",
       "      <td>http://en.wikipedia.org/wiki/Psychogenic%20pru...</td>\n",
       "      <td>710</td>\n",
       "      <td>0.95</td>\n",
       "      <td>MBL-Iter%3A710-2013%2F03%2F13-12%3A17%3A37-Fro...</td>\n",
       "      <td>Psychogenic pruritus</td>\n",
       "      <td>http://en.wikipedia.org/wiki/Psychogenic%20pru...</td>\n",
       "      <td>Psychogenic pruritus</td>\n",
       "      <td>http://en.wikipedia.org/wiki/Psychogenic%20pru...</td>\n",
       "      <td>NaN</td>\n",
       "      <td>NaN</td>\n",
       "      <td>%5BAliasMatcher-Iter%3A621-2012%2F08%2F03-10%3...</td>\n",
       "      <td>NaN</td>\n",
       "      <td>NaN</td>\n",
       "      <td>NaN</td>\n",
       "      <td>NaN</td>\n",
       "    </tr>\n",
       "  </tbody>\n",
       "</table>\n",
       "</div>"
      ],
      "text/plain": [
       "                 Entity                 Relation  \\\n",
       "0  psychogenic_pruritus  concept:haswikipediaurl   \n",
       "\n",
       "                                               Value Iteration of Promotion  \\\n",
       "0  http://en.wikipedia.org/wiki/Psychogenic%20pru...                    710   \n",
       "\n",
       "  Probability                                             Source  \\\n",
       "0        0.95  MBL-Iter%3A710-2013%2F03%2F13-12%3A17%3A37-Fro...   \n",
       "\n",
       "   Entity literalStrings                               Value literalStrings  \\\n",
       "0  Psychogenic pruritus   http://en.wikipedia.org/wiki/Psychogenic%20pru...   \n",
       "\n",
       "  Best Entity literalString  \\\n",
       "0      Psychogenic pruritus   \n",
       "\n",
       "                            Best Value literalString Categories for Entity  \\\n",
       "0  http://en.wikipedia.org/wiki/Psychogenic%20pru...                   NaN   \n",
       "\n",
       "  Categories for Value                                   Candidate Source  \\\n",
       "0                  NaN  %5BAliasMatcher-Iter%3A621-2012%2F08%2F03-10%3...   \n",
       "\n",
       "  Unnamed: 13 Unnamed: 14  Unnamed: 15 Unnamed: 16  \n",
       "0         NaN         NaN          NaN         NaN  "
      ]
     },
     "execution_count": 6,
     "metadata": {},
     "output_type": "execute_result"
    }
   ],
   "source": [
    "df.head(1)"
   ]
  },
  {
   "cell_type": "code",
   "execution_count": 18,
   "metadata": {
    "collapsed": false
   },
   "outputs": [],
   "source": [
    "df = df.drop_duplicates('Entity')"
   ]
  },
  {
   "cell_type": "code",
   "execution_count": 19,
   "metadata": {
    "collapsed": false
   },
   "outputs": [
    {
     "data": {
      "text/plain": [
       "17257"
      ]
     },
     "execution_count": 19,
     "metadata": {},
     "output_type": "execute_result"
    }
   ],
   "source": [
    "len(df)"
   ]
  },
  {
   "cell_type": "code",
   "execution_count": 30,
   "metadata": {
    "collapsed": false
   },
   "outputs": [
    {
     "name": "stdout",
     "output_type": "stream",
     "text": [
      "Installed autotime.py. To use it, type:\n",
      "  %load_ext autotime\n"
     ]
    }
   ],
   "source": [
    "%install_ext https://raw.github.com/cpcloud/ipython-autotime/master/autotime.py"
   ]
  },
  {
   "cell_type": "code",
   "execution_count": 31,
   "metadata": {
    "collapsed": true
   },
   "outputs": [],
   "source": [
    "%load_ext autotime"
   ]
  },
  {
   "cell_type": "code",
   "execution_count": 35,
   "metadata": {
    "collapsed": false
   },
   "outputs": [
    {
     "data": {
      "text/html": [
       "<div>\n",
       "<table border=\"1\" class=\"dataframe\">\n",
       "  <thead>\n",
       "    <tr style=\"text-align: right;\">\n",
       "      <th></th>\n",
       "      <th>Entity</th>\n",
       "      <th>Relation</th>\n",
       "      <th>Value</th>\n",
       "      <th>Iteration of Promotion</th>\n",
       "      <th>Probability</th>\n",
       "      <th>Source</th>\n",
       "      <th>Entity literalStrings</th>\n",
       "      <th>Value literalStrings</th>\n",
       "      <th>Best Entity literalString</th>\n",
       "      <th>Best Value literalString</th>\n",
       "      <th>Categories for Entity</th>\n",
       "      <th>Categories for Value</th>\n",
       "      <th>Candidate Source</th>\n",
       "      <th>Unnamed: 13</th>\n",
       "      <th>Unnamed: 14</th>\n",
       "      <th>Unnamed: 15</th>\n",
       "      <th>Unnamed: 16</th>\n",
       "    </tr>\n",
       "  </thead>\n",
       "  <tbody>\n",
       "    <tr>\n",
       "      <th>0</th>\n",
       "      <td>psychogenic_pruritus</td>\n",
       "      <td>concept:haswikipediaurl</td>\n",
       "      <td>http://en.wikipedia.org/wiki/Psychogenic%20pru...</td>\n",
       "      <td>710</td>\n",
       "      <td>0.95</td>\n",
       "      <td>MBL-Iter%3A710-2013%2F03%2F13-12%3A17%3A37-Fro...</td>\n",
       "      <td>Psychogenic pruritus</td>\n",
       "      <td>http://en.wikipedia.org/wiki/Psychogenic%20pru...</td>\n",
       "      <td>Psychogenic pruritus</td>\n",
       "      <td>http://en.wikipedia.org/wiki/Psychogenic%20pru...</td>\n",
       "      <td>NaN</td>\n",
       "      <td>NaN</td>\n",
       "      <td>%5BAliasMatcher-Iter%3A621-2012%2F08%2F03-10%3...</td>\n",
       "      <td>NaN</td>\n",
       "      <td>NaN</td>\n",
       "      <td>NaN</td>\n",
       "      <td>NaN</td>\n",
       "    </tr>\n",
       "  </tbody>\n",
       "</table>\n",
       "</div>"
      ],
      "text/plain": [
       "                 Entity                 Relation  \\\n",
       "0  psychogenic_pruritus  concept:haswikipediaurl   \n",
       "\n",
       "                                               Value Iteration of Promotion  \\\n",
       "0  http://en.wikipedia.org/wiki/Psychogenic%20pru...                    710   \n",
       "\n",
       "  Probability                                             Source  \\\n",
       "0        0.95  MBL-Iter%3A710-2013%2F03%2F13-12%3A17%3A37-Fro...   \n",
       "\n",
       "   Entity literalStrings                               Value literalStrings  \\\n",
       "0  Psychogenic pruritus   http://en.wikipedia.org/wiki/Psychogenic%20pru...   \n",
       "\n",
       "  Best Entity literalString  \\\n",
       "0      Psychogenic pruritus   \n",
       "\n",
       "                            Best Value literalString Categories for Entity  \\\n",
       "0  http://en.wikipedia.org/wiki/Psychogenic%20pru...                   NaN   \n",
       "\n",
       "  Categories for Value                                   Candidate Source  \\\n",
       "0                  NaN  %5BAliasMatcher-Iter%3A621-2012%2F08%2F03-10%3...   \n",
       "\n",
       "  Unnamed: 13 Unnamed: 14  Unnamed: 15 Unnamed: 16  \n",
       "0         NaN         NaN          NaN         NaN  "
      ]
     },
     "execution_count": 35,
     "metadata": {},
     "output_type": "execute_result"
    },
    {
     "name": "stdout",
     "output_type": "stream",
     "text": [
      "time: 18.5 ms\n"
     ]
    }
   ],
   "source": [
    "df.head(1)"
   ]
  },
  {
   "cell_type": "code",
   "execution_count": null,
   "metadata": {
    "collapsed": false
   },
   "outputs": [],
   "source": [
    "import urllib\n",
    "import urllib2\n",
    "from BeautifulSoup import BeautifulSoup\n",
    "import re\n",
    "\n",
    "lst = []\n",
    "\n",
    "def clean(text):\n",
    "    return html.fromstring(text).text_content().lower().strip()\n",
    "\n",
    "for i, row in enumerate(df.iterrows()):\n",
    "    opener = urllib2.build_opener()\n",
    "    opener.addheaders = [('User-agent', 'Mozilla/5.0')] #wikipedia needs this\n",
    "    \n",
    "    \n",
    "    try:\n",
    "        resource = opener.open(row[1]['Value'])\n",
    "    except ValueError:\n",
    "        continue\n",
    "    except urllib2.HTTPError:\n",
    "        continue\n",
    "    except urllib2.URLError:\n",
    "        continue\n",
    "\n",
    "    data = resource.read()\n",
    "    resource.close()\n",
    "    soup = BeautifulSoup(data)\n",
    "    lst.append(re.sub('<[^<]+?>', '', str(soup.find('div',id=\"bodyContent\").p)))\n",
    "    lst[-1] = lst[-1].partition('[')[0]\n",
    "    if i == 100:\n",
    "        break"
   ]
  },
  {
   "cell_type": "code",
   "execution_count": null,
   "metadata": {
    "collapsed": true
   },
   "outputs": [],
   "source": []
  }
 ],
 "metadata": {
  "kernelspec": {
   "display_name": "Python 2",
   "language": "python",
   "name": "python2"
  },
  "language_info": {
   "codemirror_mode": {
    "name": "ipython",
    "version": 2
   },
   "file_extension": ".py",
   "mimetype": "text/x-python",
   "name": "python",
   "nbconvert_exporter": "python",
   "pygments_lexer": "ipython2",
   "version": "2.7.10"
  }
 },
 "nbformat": 4,
 "nbformat_minor": 0
}
