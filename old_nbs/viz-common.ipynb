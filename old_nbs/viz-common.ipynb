{
 "cells": [
  {
   "cell_type": "code",
   "execution_count": 1,
   "metadata": {
    "collapsed": false
   },
   "outputs": [
    {
     "name": "stderr",
     "output_type": "stream",
     "text": [
      "A newer version of GraphLab Create (v1.6.1) is available! Your current version is v1.2.1.\n",
      "You can use pip to upgrade the graphlab-create package. For more information see http://graphlab.com/products/create/upgrade."
     ]
    }
   ],
   "source": [
    "import graphlab as gl"
   ]
  },
  {
   "cell_type": "code",
   "execution_count": 2,
   "metadata": {
    "collapsed": false
   },
   "outputs": [
    {
     "name": "stderr",
     "output_type": "stream",
     "text": [
      "[INFO] Start server at: ipc:///tmp/graphlab_server-39560 - Server binary: /Library/Python/2.7/site-packages/graphlab/unity_server - Server log: /tmp/graphlab_server_1447554271.log\n",
      "[INFO] GraphLab Server Version: 1.2.1\n"
     ]
    },
    {
     "name": "stdout",
     "output_type": "stream",
     "text": [
      "PROGRESS: Finished parsing file /Users/gwulfs/cs/hackathons/hharvard/nell-big-disease.csv\n",
      "PROGRESS: Parsing completed. Parsed 100 lines in 0.468981 secs.\n",
      "Could not detect types. Using str for each column.\n",
      "PROGRESS: Unable to parse line \"__nbsp_______br___\tcandidate:generalizations\tconcept:disease\t[559]\t[0.5]\t%28null%29\t\"{&nbsp;[...]<br />\" \t\t{&nbsp;[...]<br />\t\t\t concept:physiologicalcondition\t%5BSEAL-Iter%3A559-2012%2F04%2F30-22%3A19%3A58-%3Ctoken%3D__nbsp_______br___%2Cdisease%3E-From%3ACategory%3Adisease-using-KB+http%3A%2F%2Fwww.patentgenius.com%2Fpatent%2F7199151.html+http%3A%2F%2Fwww.freepatentsonline.com%2Fy2007%2F0135335.html%5D\"\n",
      "PROGRESS: Unable to parse line \"____________neutropenia\tcandidate:generalizations\tconcept:disease\t[559]\t[0.75]\t%28null%29\t\"{, [...], } neutropenia\" \t\t{, [...], } neutropenia\t\t\t concept:physiologicalcondition\t%5BSEAL-Iter%3A559-2012%2F04%2F30-22%3A19%3A58-%3Ctoken%3D____________neutropenia%2Cdisease%3E-From%3ACategory%3Adisease-using-KB+http%3A%2F%2Fwww.patentstorm.us%2Fpatents%2F6680047%2Fdescription.htmlhttp%3A%2F%2Fwww.medicalgeek.com%2Fdisease-syndromes-procedures%2F9482-list-rare-diseases.html+http%3A%2F%2Fwww.mitbbs.com%2Fpc%2Fpcarch.php%3Fuserid%3Dhome99%26y%3D2008%26m%3D6https%3A%2F%2Fwww.donorsiblingregistry.com%2Fresource-library%2Fmedical-issues%2F%5D\"\n",
      "PROGRESS: Unable to parse line \"home\tcandidate:concept:atdate\tconcept:date:_2007\t[887]\t[0.5]\t%28null%29\t\"Home\" \"HOME\" \"HOme\" \"home\" \t\"\"2007\" \"-2007\" \"“2007\" \"©2007\" \tHome\t\"2007\t\t concept:date\t%5BCPL-Iter%3A887-2014%2F11%2F22-13%3A41%3A59-%3Ctoken%3Dhome%2C_2007%3E-arg1+page+Copyright+arg2%091%5D\"\n",
      "PROGRESS: 3 lines failed to parse correctly\n",
      "PROGRESS: Finished parsing file /Users/gwulfs/cs/hackathons/hharvard/nell-big-disease.csv\n",
      "PROGRESS: Parsing completed. Parsed 52556 lines in 1.28041 secs.\n"
     ]
    }
   ],
   "source": [
    "df = gl.SFrame.read_csv('nell-big-disease.csv', delimiter='\\t', nrows=52556)"
   ]
  },
  {
   "cell_type": "code",
   "execution_count": 3,
   "metadata": {
    "collapsed": true
   },
   "outputs": [],
   "source": [
    "d = {}\n",
    "names = ['Entity', 'Relation', 'Value', 'Iteration of Candidacy', 'Candidate Probability', 'Source', 'Entity literalStrings', 'Value literalStrings', 'Best Entity literalString', 'Best Value literalString', 'Categories for Entity', 'Categories for Value', 'Candidate Source', 'type']\n",
    "for i, c in enumerate(df.column_names()):\n",
    "    d[c] = names[i]"
   ]
  },
  {
   "cell_type": "code",
   "execution_count": 8,
   "metadata": {
    "collapsed": false
   },
   "outputs": [],
   "source": [
    "df = df.rename(d)"
   ]
  },
  {
   "cell_type": "code",
   "execution_count": 7,
   "metadata": {
    "collapsed": true
   },
   "outputs": [],
   "source": [
    "df.rename?"
   ]
  },
  {
   "cell_type": "code",
   "execution_count": 9,
   "metadata": {
    "collapsed": false
   },
   "outputs": [
    {
     "data": {
      "text/plain": [
       "dtype: str\n",
       "Rows: 52556\n",
       "['UCDs', 'Congenital thickening of tarsal bone', 'constant pyuria', 'cancer plans', 'Vocal cord paresis', 'Psychogenic pruritus', 'Psychogenic pruritus', 'over-65-years-of-age', 'primary herpes infection teratogenic agent', 'Axillary freckling due to neurofibromatosis', 'UARS', 'scab infections', 'colds & flu', 'and related small molecules', 'MYOCLONIC EPILEPSY OF UNVERRICHT AND LUNDBORG', 'cosmetics and skin care', 'neurooff', 'Cleft soft palate', 'UCTD', 'chemical poisoning ethylene dichloride', 'chemical poisoning ethylene dichloride', 'Hyperpigmentation in children', 'CMV reactivation', 'paroxysmal supraventricular tachyca', 'all intracranial neoplasm', 'Mutagen sensitivity', 'LifeMasters', 'Morel-Kraepelin disease', 'Carbohydrate deficient glycoprotein syndrome Ii', 'disease. If not treated however', 'Niemann-Pick C2 maladie', 'ulcer perforation', 'surrounding the mouth', 'condiiton', 'Flu Influenza', 'Flu Influenza', 'Classical organic aciduria', 'Acquired angioneurotic edema', 'signify the presence', 'multiple injuries', 'multiple injuries', 'multiple injuries', 'multiple injuries', 'multiple injuries', 'multiple injuries', 'multiple injuries', 'multiple injuries', 'multiple injuries', 'multiple injuries', 'Choreiform Movement', 'skin care home', 'Hydrophthalmos', 'Hydrophthalmos', 'Chronic discoid lupus erythematosus', 'continuing disease', 'Cholesterol Levels', 'Cholesterol Levels', 'Cholesterol Levels', 'Cholesterol Levels', 'Cholesterol Levels', 'Cholesterol Levels', 'Cholesterol Levels', 'Cholesterol Levels', 'Cholesterol Levels', 'Cholesterol Levels', 'Cholesterol Levels', 'Cholesterol Levels', 'Cholesterol Levels', 'Cholesterol Levels', 'Cholesterol Levels', 'Cholesterol Levels', 'Cholesterol Levels', 'Cholesterol Levels', 'Cholesterol Levels', 'Cholesterol Levels', 'Cholesterol Levels', 'Cholesterol Levels', 'Cholesterol Levels', 'Cholesterol Levels', 'Cholesterol Levels', 'Cholesterol Levels', 'Cholesterol Levels', 'Cholesterol Levels', 'Cholesterol Levels', 'Cholesterol Levels', 'Cholesterol Levels', 'Cholesterol Levels', 'Cholesterol Levels', 'Cholesterol Levels', 'Cholesterol Levels', 'Cholesterol Levels', 'Cholesterol Levels', 'Cholesterol Levels', 'Cholesterol Levels', 'Cholesterol Levels', 'Cholesterol Levels', 'Cholesterol Levels', 'Cholesterol Levels', 'Cholesterol Levels', 'Cholesterol Levels', ... ]"
      ]
     },
     "execution_count": 9,
     "metadata": {},
     "output_type": "execute_result"
    }
   ],
   "source": [
    "df['Best Entity literalString']"
   ]
  },
  {
   "cell_type": "code",
   "execution_count": 10,
   "metadata": {
    "collapsed": true
   },
   "outputs": [],
   "source": [
    "df.show()"
   ]
  },
  {
   "cell_type": "code",
   "execution_count": 11,
   "metadata": {
    "collapsed": false
   },
   "outputs": [
    {
     "name": "stdout",
     "output_type": "stream",
     "text": [
      "PROGRESS: Finished parsing file /Users/gwulfs/cs/hackathons/hharvard/nell-disease.csv\n",
      "PROGRESS: Parsing completed. Parsed 100 lines in 0.179771 secs.\n",
      "Could not detect types. Using str for each column.\n",
      "PROGRESS: Unable to parse line \"generalizations\tconcept:physiologicalcondition\t0\tNaN\t%28null%29\t\t\t\t\t concept:physiologicalcondition\t concept:abstractthing\t%5BOntologyModifier-Iter%3A603-2012%2F06%2F27-16%3A15%3A36-tsv_to_om_category.pl-categories.xls%5D\"\n",
      "PROGRESS: Unable to parse line \"__nbsp_______br____reflux_esophagitis\tgeneralizations\tconcept:disease\t806\t0.9884056578979348\tMBL-Iter%3A806-2014%2F01%2F25-04%3A02%3A38-From+ErrorBasedIntegrator+%28SEAL%28__nbsp_______br____reflux_esophagitis%2Cdisease%29%2C+CMC%28__nbsp_______br____reflux_esophagitis%2Cdisease%29%29\t\"{&nbsp;[...]<br /> reflux esophagitis\" \t\t{&nbsp;[...]<br /> reflux esophagitis\t\t concept:disease\t concept:physiologicalcondition\t%5BSEAL-Iter%3A559-2012%2F04%2F30-22%3A19%3A58-%3Ctoken%3D__nbsp_______br____reflux_esophagitis%2Cdisease%3E-From%3ACategory%3Adisease-using-KB+http%3A%2F%2Fcanadagazette.gc.ca%2Farchives%2Fp2%2F2007%2F2007-06-27%2Fhtml%2Fsor-dors141-eng.html+http%3A%2F%2Fencycl.opentopia.com%2Fterm%2FList_of_rare_diseases%2C+CMC-Iter%3A806-2014%2F01%2F22-17%3A57%3A02-%3Ctoken%3D__nbsp_______br____reflux_esophagitis%2Cdisease%3E-CHARS%092.69267%09SUFFIX%3Ditis%091.91300%09LASTSUFFIX%3Ditis%091.39716%09SUFFIX%3Dtis%091.21659%09SUFFIX%3Dis%090.76701%09LASTSUFFIX%3Dtis%090.74531%09LASTSUFFIX%3Dis%090.51453%09SHORT_WORDSHAPE%3Dx%09-0.20323%09POS%3DNN%09-1.68758%09WORDS%09-4.51762%5D\"\n",
      "PROGRESS: Unable to parse line \"___________hm_syndrome\tgeneralizations\tconcept:disease\t754\t0.998664205430748\tMBL-Iter%3A754-2013%2F07%2F27-03%3A22%3A35-From+ErrorBasedIntegrator+%28SEAL%28___________hm_syndrome%2Cdisease%29%2C+CMC%28___________hm_syndrome%2Cdisease%29%29\t\"{,         hm syndrome\" \t\t{,         hm syndrome\t\t concept:disease\t concept:physiologicalcondition\t%5BSEAL-Iter%3A559-2012%2F04%2F30-22%3A19%3A58-%3Ctoken%3D___________hm_syndrome%2Cdisease%3E-From%3ACategory%3Adisease-using-KB+http%3A%2F%2Fwww.freepatentsonline.com%2F6261537.html+http%3A%2F%2Fwww.bioportfolio.com%2Fnews%2Farticle%2F935524%2FThe-Rare-List-You-Must-See-It-To-Believe-It.html%2C+CMC-Iter%3A754-2013%2F07%2F24-05%3A39%3A24-%3Ctoken%3D___________hm_syndrome%2Cdisease%3E-CHARS%091.77624%09PREFIX%3Dsynd%091.15109%09PREFIX%3Dsyndr%091.14843%09PREFIX%3Dsyn%090.94365%09SUFFIX%3Ddrome%090.93338%09LASTPREFIX%3Dsyndr%090.76988%09LASTPREFIX%3Dsynd%090.76601%09SHORT_WORDSHAPE%3Dx%09-0.09025%09POS%3DNN%09-0.14141%09WORDS%09-4.28531%5D\"\n",
      "PROGRESS: Unable to parse line \"____________syndrome\tgeneralizations\tconcept:disease\t790\t0.9853716224614595\tMBL-Iter%3A790-2013%2F11%2F24-20%3A07%3A59-From+ErrorBasedIntegrator+%28SEAL%28____________syndrome%2Cdisease%29%2C+CMC%28____________syndrome%2Cdisease%29%29\t\"{, [...], } syndrome\" \t\t{, [...], } syndrome\t\t concept:disease\t concept:physiologicalcondition\t%5BSEAL-Iter%3A559-2012%2F04%2F30-22%3A19%3A58-%3Ctoken%3D____________syndrome%2Cdisease%3E-From%3ACategory%3Adisease-using-KB+http%3A%2F%2Fwww.gpo.gov%2Ffdsys%2Fpkg%2FFR-1995-04-26%2Fhtml%2F95-10085.htm+http%3A%2F%2Fwww.sumobrain.com%2Fpatents%2Fwipo%2FUse-melanin-concentrating-hormone-met%2FWO2009033735.html+http%3A%2F%2Fwww.patentstorm.us%2Fpatents%2F6680047%2Fdescription.html+http%3A%2F%2Fwww.bioportfolio.com%2Fnews%2Farticle%2F935524%2FThe-Rare-List-You-Must-See-It-To-Believe-It.html%2C+CMC-Iter%3A790-2013%2F11%2F22-04%3A02%3A25-%3Ctoken%3D____________syndrome%2Cdisease%3E-CHARS%091.45550%09PREFIX%3Dsynd%091.27399%09PREFIX%3Dsyndr%091.22020%09PREFIX%3Dsyn%090.97230%09SUFFIX%3Ddrome%090.91907%09LASTPREFIX%3Dsyndr%090.73953%09LASTPREFIX%3Dsynd%090.73762%09SHORT_WORDSHAPE%3Dx%09-0.60969%09POS%3DNN%09-0.84379%09WORDS%09-4.51762%5D\"\n",
      "PROGRESS: Unable to parse line \"____________leroy_reiter_s_syndrome\tgeneralizations\tconcept:disease\t850\t0.9358171252834531\tMBL-Iter%3A850-2014%2F06%2F27-02%3A21%3A49-From+ErrorBasedIntegrator+%28SEAL%28____________leroy_reiter_s_syndrome%2Cdisease%29%2C+CMC%28____________leroy_reiter_s_syndrome%2Cdisease%29%29\t\"{, [...], } leroy reiter's syndrome\" \t\t{, [...], } leroy reiter's syndrome\t\t concept:disease\t concept:physiologicalcondition\t%5BSEAL-Iter%3A559-2012%2F04%2F30-22%3A19%3A58-%3Ctoken%3D____________leroy_reiter_s_syndrome%2Cdisease%3E-From%3ACategory%3Adisease-using-KB+http%3A%2F%2Fwww.sumobrain.com%2Fpatents%2Fwipo%2FUse-melanin-concentrating-hormone-met%2FWO2009033735.htmlhttp%3A%2F%2Fwww.gpo.gov%2Ffdsys%2Fpkg%2FFR-1995-04-26%2Fhtml%2F95-10085.htm%2C+CMC-Iter%3A749-2013%2F07%2F06-19%3A09%3A08-%3Ctoken%3D____________leroy_reiter_s_syndrome%2Cdisease%3E-CHARS%092.54712%09PREFIX%3Dsynd%091.27399%09PREFIX%3Dsyndr%091.22020%09PREFIX%3Dsyn%090.97230%09SUFFIX%3Ddrome%090.91907%09LASTPREFIX%3Dsyndr%090.73953%09LASTPREFIX%3Dsynd%090.73762%09SHORT_WORDSHAPE%3Dx%09-0.60969%09POS%3DNN%09-0.84379%09WORDS%09-6.77643%5D\"\n",
      "PROGRESS: Unable to parse line \"_e___leukocytosis\tgeneralizations\tconcept:disease\t688\t0.9850891577431944\tMBL-Iter%3A688-2013%2F01%2F24-14%3A43%3A30-From+ErrorBasedIntegrator+%28SEAL%28_e___leukocytosis%2Cdisease%29%2C+CMC%28_e___leukocytosis%2Cdisease%29%29\t\"{e;  leukocytosis\" \t\t{e;  leukocytosis\t\t concept:disease\t concept:physiologicalcondition\t%5BSEAL-Iter%3A559-2012%2F04%2F30-22%3A19%3A58-%3Ctoken%3D_e___leukocytosis%2Cdisease%3E-From%3ACategory%3Adisease-using-KB+http%3A%2F%2Fwww.aafp.org%2Fafp%2F2009%2F1001%2Fp697.htmlhttp%3A%2F%2Fwww.docstoc.com%2Fdocs%2F49856449%2FDiagnostictherapeutic-Agents-Having-Microbubbles-Coupled-To-One-Or-More-Vectors---Patent-6261537%2C+CMC-Iter%3A688-2013%2F01%2F22-17%3A43%3A15-%3Ctoken%3D_e___leukocytosis%2Cdisease%3E-SUFFIX%3Dsis%091.74957%09CHARS%091.23717%09SUFFIX%3Dosis%091.19322%09LASTSUFFIX%3Dsis%090.86014%09SUFFIX%3Dis%090.76701%09LASTSUFFIX%3Dosis%090.71113%09SUFFIX%3Dtosis%090.59642%09PREFIX%3Dle%09-0.47645%09POS%3DNN%09-0.84379%09WORDS%09-2.25881%5D\"\n",
      "PROGRESS: Unable to parse line \"____________papillary_conjunctivitis\tgeneralizations\tconcept:disease\t850\t0.9284365248019983\tMBL-Iter%3A850-2014%2F06%2F27-02%3A21%3A49-From+ErrorBasedIntegrator+%28SEAL%28____________papillary_conjunctivitis%2Cdisease%29%2C+CMC%28____________papillary_conjunctivitis%2Cdisease%29%29\t\"{, [...], } papillary conjunctivitis\" \t\t{, [...], } papillary conjunctivitis\t\t concept:disease\t concept:physiologicalcondition\t%5BSEAL-Iter%3A559-2012%2F04%2F30-22%3A19%3A58-%3Ctoken%3D____________papillary_conjunctivitis%2Cdisease%3E-From%3ACategory%3Adisease-using-KB+http%3A%2F%2Fwww.mitbbs.com%2Fpc%2Fpcarch.php%3Fuserid%3Dhome99%26y%3D2008%26m%3D6http%3A%2F%2Fencycl.opentopia.com%2Fterm%2FList_of_rare_diseases%2C+CMC-Iter%3A809-2014%2F01%2F31-17%3A29%3A56-%3Ctoken%3D____________papillary_conjunctivitis%2Cdisease%3E-CHARS%092.61990%09SUFFIX%3Ditis%091.91300%09LASTSUFFIX%3Ditis%091.39716%09SUFFIX%3Dtis%091.21659%09SUFFIX%3Dis%090.76701%09LASTSUFFIX%3Dtis%090.74531%09LASTSUFFIX%3Dis%090.51453%09SHORT_WORDSHAPE%3Dx%09-0.60969%09POS%3DNN%09-0.84379%09WORDS%09-5.64703%5D\"\n",
      "PROGRESS: 7 lines failed to parse correctly\n",
      "PROGRESS: Finished parsing file /Users/gwulfs/cs/hackathons/hharvard/nell-disease.csv\n",
      "PROGRESS: Parsing completed. Parsed 19065 lines in 0.614451 secs.\n"
     ]
    }
   ],
   "source": [
    "df2 = gl.SFrame.read_csv('nell-disease.csv', delimiter='\\t', nrows=52556)\n",
    "names = ['Entity', 'Relation', 'Value', 'Iteration of Promotion', 'Probability', 'Source', 'Entity literalStrings', 'Value literalStrings', 'Best Entity literalString', 'Best Value literalString', 'Categories for Entity', 'Categories for Value', 'Candidate Source']\n",
    "d = {}\n",
    "for i, c in enumerate(df2.column_names()):\n",
    "    d[c] = names[i]\n",
    "\n",
    "df2 = df2.rename(d)"
   ]
  },
  {
   "cell_type": "code",
   "execution_count": 13,
   "metadata": {
    "collapsed": false
   },
   "outputs": [
    {
     "data": {
      "text/html": [
       "<div style=\"max-height:1000px;max-width:1500px;overflow:auto;\"><table frame=\"box\" rules=\"cols\">\n",
       "    <tr>\n",
       "        <th style=\"padding-left: 1em; padding-right: 1em; text-align: center\">Entity</th>\n",
       "        <th style=\"padding-left: 1em; padding-right: 1em; text-align: center\">Relation</th>\n",
       "        <th style=\"padding-left: 1em; padding-right: 1em; text-align: center\">Value</th>\n",
       "        <th style=\"padding-left: 1em; padding-right: 1em; text-align: center\">Iteration of Candidacy</th>\n",
       "        <th style=\"padding-left: 1em; padding-right: 1em; text-align: center\">Candidate Probability</th>\n",
       "        <th style=\"padding-left: 1em; padding-right: 1em; text-align: center\">Source</th>\n",
       "    </tr>\n",
       "    <tr>\n",
       "        <td style=\"padding-left: 1em; padding-right: 1em; text-align: center; vertical-align: top\">ucds</td>\n",
       "        <td style=\"padding-left: 1em; padding-right: 1em; text-align: center; vertical-align: top\">candidate:generalizations</td>\n",
       "        <td style=\"padding-left: 1em; padding-right: 1em; text-align: center; vertical-align: top\">concept:disease</td>\n",
       "        <td style=\"padding-left: 1em; padding-right: 1em; text-align: center; vertical-align: top\">[772]\\t</td>\n",
       "        <td style=\"padding-left: 1em; padding-right: 1em; text-align: center; vertical-align: top\">[0.8288469466041748]\\t</td>\n",
       "        <td style=\"padding-left: 1em; padding-right: 1em; text-align: center; vertical-align: top\">%28null%29</td>\n",
       "    </tr>\n",
       "</table>\n",
       "<table frame=\"box\" rules=\"cols\">\n",
       "    <tr>\n",
       "        <th style=\"padding-left: 1em; padding-right: 1em; text-align: center\">Entity literalStrings</th>\n",
       "        <th style=\"padding-left: 1em; padding-right: 1em; text-align: center\">Value literalStrings</th>\n",
       "        <th style=\"padding-left: 1em; padding-right: 1em; text-align: center\">Best Entity literalString</th>\n",
       "        <th style=\"padding-left: 1em; padding-right: 1em; text-align: center\">Best Value literalString</th>\n",
       "        <th style=\"padding-left: 1em; padding-right: 1em; text-align: center\">Categories for Entity</th>\n",
       "    </tr>\n",
       "    <tr>\n",
       "        <td style=\"padding-left: 1em; padding-right: 1em; text-align: center; vertical-align: top\">UCDs \"ucds\"</td>\n",
       "        <td style=\"padding-left: 1em; padding-right: 1em; text-align: center; vertical-align: top\"></td>\n",
       "        <td style=\"padding-left: 1em; padding-right: 1em; text-align: center; vertical-align: top\">UCDs</td>\n",
       "        <td style=\"padding-left: 1em; padding-right: 1em; text-align: center; vertical-align: top\"></td>\n",
       "        <td style=\"padding-left: 1em; padding-right: 1em; text-align: center; vertical-align: top\"></td>\n",
       "    </tr>\n",
       "</table>\n",
       "<table frame=\"box\" rules=\"cols\">\n",
       "    <tr>\n",
       "        <th style=\"padding-left: 1em; padding-right: 1em; text-align: center\">Categories for Value</th>\n",
       "        <th style=\"padding-left: 1em; padding-right: 1em; text-align: center\">Candidate Source</th>\n",
       "    </tr>\n",
       "    <tr>\n",
       "        <td style=\"padding-left: 1em; padding-right: 1em; text-align: center; vertical-align: top\">concept:physiologicalcond<br>ition</td>\n",
       "        <td style=\"padding-left: 1em; padding-right: 1em; text-align: center; vertical-align: top\">%5BCPL-Iter%3A772-2013%2F<br>09%2F26-09%3A23%3A32- ...</td>\n",
       "    </tr>\n",
       "</table>\n",
       "[1 rows x 13 columns]<br/>\n",
       "</div>"
      ],
      "text/plain": [
       "Columns:\n",
       "\tEntity\tstr\n",
       "\tRelation\tstr\n",
       "\tValue\tstr\n",
       "\tIteration of Candidacy\tstr\n",
       "\tCandidate Probability\tstr\n",
       "\tSource\tstr\n",
       "\tEntity literalStrings\tstr\n",
       "\tValue literalStrings\tstr\n",
       "\tBest Entity literalString\tstr\n",
       "\tBest Value literalString\tstr\n",
       "\tCategories for Entity\tstr\n",
       "\tCategories for Value\tstr\n",
       "\tCandidate Source\tstr\n",
       "\n",
       "Rows: 1\n",
       "\n",
       "Data:\n",
       "+--------+---------------------------+-----------------+------------------------+\n",
       "| Entity |          Relation         |      Value      | Iteration of Candidacy |\n",
       "+--------+---------------------------+-----------------+------------------------+\n",
       "|  ucds  | candidate:generalizations | concept:disease |        [772]\\t         |\n",
       "+--------+---------------------------+-----------------+------------------------+\n",
       "+------------------------+------------+-----------------------+----------------------+\n",
       "| Candidate Probability  |   Source   | Entity literalStrings | Value literalStrings |\n",
       "+------------------------+------------+-----------------------+----------------------+\n",
       "| [0.8288469466041748]\\t | %28null%29 |      UCDs \"ucds\"      |                      |\n",
       "+------------------------+------------+-----------------------+----------------------+\n",
       "+---------------------------+--------------------------+-----------------------+\n",
       "| Best Entity literalString | Best Value literalString | Categories for Entity |\n",
       "+---------------------------+--------------------------+-----------------------+\n",
       "|            UCDs           |                          |                       |\n",
       "+---------------------------+--------------------------+-----------------------+\n",
       "+--------------------------------+--------------------------------+\n",
       "|      Categories for Value      |        Candidate Source        |\n",
       "+--------------------------------+--------------------------------+\n",
       "| concept:physiologicalcondition | %5BCPL-Iter%3A772-2013%2F0 ... |\n",
       "+--------------------------------+--------------------------------+\n",
       "[1 rows x 13 columns]"
      ]
     },
     "execution_count": 13,
     "metadata": {},
     "output_type": "execute_result"
    }
   ],
   "source": [
    "df.head(1)"
   ]
  },
  {
   "cell_type": "code",
   "execution_count": 14,
   "metadata": {
    "collapsed": false
   },
   "outputs": [
    {
     "data": {
      "text/html": [
       "<div style=\"max-height:1000px;max-width:1500px;overflow:auto;\"><table frame=\"box\" rules=\"cols\">\n",
       "    <tr>\n",
       "        <th style=\"padding-left: 1em; padding-right: 1em; text-align: center\">Entity</th>\n",
       "        <th style=\"padding-left: 1em; padding-right: 1em; text-align: center\">Relation</th>\n",
       "        <th style=\"padding-left: 1em; padding-right: 1em; text-align: center\">Value</th>\n",
       "        <th style=\"padding-left: 1em; padding-right: 1em; text-align: center\">Iteration of Promotion</th>\n",
       "        <th style=\"padding-left: 1em; padding-right: 1em; text-align: center\">Probability</th>\n",
       "    </tr>\n",
       "    <tr>\n",
       "        <td style=\"padding-left: 1em; padding-right: 1em; text-align: center; vertical-align: top\">hydrophthalmos</td>\n",
       "        <td style=\"padding-left: 1em; padding-right: 1em; text-align: center; vertical-align: top\">concept:haswikipediaurl</td>\n",
       "        <td style=\"padding-left: 1em; padding-right: 1em; text-align: center; vertical-align: top\">http://en.wikipedia.org/w<br>iki/Hydrophthalmos</td>\n",
       "        <td style=\"padding-left: 1em; padding-right: 1em; text-align: center; vertical-align: top\">710</td>\n",
       "        <td style=\"padding-left: 1em; padding-right: 1em; text-align: center; vertical-align: top\">0.95</td>\n",
       "    </tr>\n",
       "    <tr>\n",
       "        <td style=\"padding-left: 1em; padding-right: 1em; text-align: center; vertical-align: top\">amino_acid_transport_diso<br>rder</td>\n",
       "        <td style=\"padding-left: 1em; padding-right: 1em; text-align: center; vertical-align: top\">concept:haswikipediaurl</td>\n",
       "        <td style=\"padding-left: 1em; padding-right: 1em; text-align: center; vertical-align: top\">http://en.wikipedia.org/w<br>iki/Amino%20acid%20tr ...</td>\n",
       "        <td style=\"padding-left: 1em; padding-right: 1em; text-align: center; vertical-align: top\">710</td>\n",
       "        <td style=\"padding-left: 1em; padding-right: 1em; text-align: center; vertical-align: top\">0.95</td>\n",
       "    </tr>\n",
       "</table>\n",
       "<table frame=\"box\" rules=\"cols\">\n",
       "    <tr>\n",
       "        <th style=\"padding-left: 1em; padding-right: 1em; text-align: center\">Source</th>\n",
       "        <th style=\"padding-left: 1em; padding-right: 1em; text-align: center\">Entity literalStrings</th>\n",
       "        <th style=\"padding-left: 1em; padding-right: 1em; text-align: center\">Value literalStrings</th>\n",
       "        <th style=\"padding-left: 1em; padding-right: 1em; text-align: center\">Best Entity literalString</th>\n",
       "    </tr>\n",
       "    <tr>\n",
       "        <td style=\"padding-left: 1em; padding-right: 1em; text-align: center; vertical-align: top\">MBL-Iter%3A710-2013%2F03%<br>2F13-12%3A17%3A37-Fro ...</td>\n",
       "        <td style=\"padding-left: 1em; padding-right: 1em; text-align: center; vertical-align: top\">Hydrophthalmos</td>\n",
       "        <td style=\"padding-left: 1em; padding-right: 1em; text-align: center; vertical-align: top\">http://en.wikipedia.org/w<br>iki/Hydrophthalmos</td>\n",
       "        <td style=\"padding-left: 1em; padding-right: 1em; text-align: center; vertical-align: top\">Hydrophthalmos</td>\n",
       "    </tr>\n",
       "    <tr>\n",
       "        <td style=\"padding-left: 1em; padding-right: 1em; text-align: center; vertical-align: top\">MBL-Iter%3A710-2013%2F03%<br>2F13-12%3A17%3A37-Fro ...</td>\n",
       "        <td style=\"padding-left: 1em; padding-right: 1em; text-align: center; vertical-align: top\">Amino acid transport<br>disorder</td>\n",
       "        <td style=\"padding-left: 1em; padding-right: 1em; text-align: center; vertical-align: top\">http://en.wikipedia.org/w<br>iki/Amino%20acid%20tr ...</td>\n",
       "        <td style=\"padding-left: 1em; padding-right: 1em; text-align: center; vertical-align: top\">Amino acid transport<br>disorder</td>\n",
       "    </tr>\n",
       "</table>\n",
       "<table frame=\"box\" rules=\"cols\">\n",
       "    <tr>\n",
       "        <th style=\"padding-left: 1em; padding-right: 1em; text-align: center\">Best Value literalString</th>\n",
       "        <th style=\"padding-left: 1em; padding-right: 1em; text-align: center\">Categories for Entity</th>\n",
       "        <th style=\"padding-left: 1em; padding-right: 1em; text-align: center\">Categories for Value</th>\n",
       "        <th style=\"padding-left: 1em; padding-right: 1em; text-align: center\">Candidate Source</th>\n",
       "    </tr>\n",
       "    <tr>\n",
       "        <td style=\"padding-left: 1em; padding-right: 1em; text-align: center; vertical-align: top\">http://en.wikipedia.org/w<br>iki/Hydrophthalmos</td>\n",
       "        <td style=\"padding-left: 1em; padding-right: 1em; text-align: center; vertical-align: top\"></td>\n",
       "        <td style=\"padding-left: 1em; padding-right: 1em; text-align: center; vertical-align: top\"></td>\n",
       "        <td style=\"padding-left: 1em; padding-right: 1em; text-align: center; vertical-align: top\">%5BAliasMatcher-Iter%3A62<br>1-2012%2F08%2F03-10%3 ...</td>\n",
       "    </tr>\n",
       "    <tr>\n",
       "        <td style=\"padding-left: 1em; padding-right: 1em; text-align: center; vertical-align: top\">http://en.wikipedia.org/w<br>iki/Amino%20acid%20tr ...</td>\n",
       "        <td style=\"padding-left: 1em; padding-right: 1em; text-align: center; vertical-align: top\"></td>\n",
       "        <td style=\"padding-left: 1em; padding-right: 1em; text-align: center; vertical-align: top\"></td>\n",
       "        <td style=\"padding-left: 1em; padding-right: 1em; text-align: center; vertical-align: top\">%5BAliasMatcher-Iter%3A62<br>1-2012%2F08%2F03-10%3 ...</td>\n",
       "    </tr>\n",
       "</table>\n",
       "[2 rows x 13 columns]<br/>\n",
       "</div>"
      ],
      "text/plain": [
       "Columns:\n",
       "\tEntity\tstr\n",
       "\tRelation\tstr\n",
       "\tValue\tstr\n",
       "\tIteration of Promotion\tstr\n",
       "\tProbability\tstr\n",
       "\tSource\tstr\n",
       "\tEntity literalStrings\tstr\n",
       "\tValue literalStrings\tstr\n",
       "\tBest Entity literalString\tstr\n",
       "\tBest Value literalString\tstr\n",
       "\tCategories for Entity\tstr\n",
       "\tCategories for Value\tstr\n",
       "\tCandidate Source\tstr\n",
       "\n",
       "Rows: 2\n",
       "\n",
       "Data:\n",
       "+-------------------------------+-------------------------+\n",
       "|             Entity            |         Relation        |\n",
       "+-------------------------------+-------------------------+\n",
       "|         hydrophthalmos        | concept:haswikipediaurl |\n",
       "| amino_acid_transport_disorder | concept:haswikipediaurl |\n",
       "+-------------------------------+-------------------------+\n",
       "+--------------------------------+------------------------+-------------+\n",
       "|             Value              | Iteration of Promotion | Probability |\n",
       "+--------------------------------+------------------------+-------------+\n",
       "| http://en.wikipedia.org/wi ... |          710           |     0.95    |\n",
       "| http://en.wikipedia.org/wi ... |          710           |     0.95    |\n",
       "+--------------------------------+------------------------+-------------+\n",
       "+--------------------------------+-------------------------------+\n",
       "|             Source             |     Entity literalStrings     |\n",
       "+--------------------------------+-------------------------------+\n",
       "| MBL-Iter%3A710-2013%2F03%2 ... |         Hydrophthalmos        |\n",
       "| MBL-Iter%3A710-2013%2F03%2 ... | Amino acid transport disorder |\n",
       "+--------------------------------+-------------------------------+\n",
       "+--------------------------------+-------------------------------+\n",
       "|      Value literalStrings      |   Best Entity literalString   |\n",
       "+--------------------------------+-------------------------------+\n",
       "| http://en.wikipedia.org/wi ... |         Hydrophthalmos        |\n",
       "| http://en.wikipedia.org/wi ... | Amino acid transport disorder |\n",
       "+--------------------------------+-------------------------------+\n",
       "+--------------------------------+-----------------------+----------------------+\n",
       "|    Best Value literalString    | Categories for Entity | Categories for Value |\n",
       "+--------------------------------+-----------------------+----------------------+\n",
       "| http://en.wikipedia.org/wi ... |                       |                      |\n",
       "| http://en.wikipedia.org/wi ... |                       |                      |\n",
       "+--------------------------------+-----------------------+----------------------+\n",
       "+--------------------------------+\n",
       "|        Candidate Source        |\n",
       "+--------------------------------+\n",
       "| %5BAliasMatcher-Iter%3A621 ... |\n",
       "| %5BAliasMatcher-Iter%3A621 ... |\n",
       "+--------------------------------+\n",
       "[2 rows x 13 columns]"
      ]
     },
     "execution_count": 14,
     "metadata": {},
     "output_type": "execute_result"
    }
   ],
   "source": [
    "df2.head(2)"
   ]
  },
  {
   "cell_type": "code",
   "execution_count": 15,
   "metadata": {
    "collapsed": true
   },
   "outputs": [],
   "source": [
    "mg = df.join(df2, on='Entity')"
   ]
  },
  {
   "cell_type": "code",
   "execution_count": 16,
   "metadata": {
    "collapsed": false
   },
   "outputs": [
    {
     "data": {
      "text/html": [
       "<div style=\"max-height:1000px;max-width:1500px;overflow:auto;\"><table frame=\"box\" rules=\"cols\">\n",
       "    <tr>\n",
       "        <th style=\"padding-left: 1em; padding-right: 1em; text-align: center\">Entity</th>\n",
       "        <th style=\"padding-left: 1em; padding-right: 1em; text-align: center\">Relation</th>\n",
       "        <th style=\"padding-left: 1em; padding-right: 1em; text-align: center\">Value</th>\n",
       "        <th style=\"padding-left: 1em; padding-right: 1em; text-align: center\">Iteration of Candidacy</th>\n",
       "        <th style=\"padding-left: 1em; padding-right: 1em; text-align: center\">Candidate Probability</th>\n",
       "    </tr>\n",
       "    <tr>\n",
       "        <td style=\"padding-left: 1em; padding-right: 1em; text-align: center; vertical-align: top\">hydrophthalmos</td>\n",
       "        <td style=\"padding-left: 1em; padding-right: 1em; text-align: center; vertical-align: top\">candidate:concept:haswiki<br>pediaurl</td>\n",
       "        <td style=\"padding-left: 1em; padding-right: 1em; text-align: center; vertical-align: top\">http://en.wikipedia.org/w<br>iki/Hydrophthalmos</td>\n",
       "        <td style=\"padding-left: 1em; padding-right: 1em; text-align: center; vertical-align: top\">[621]\\t</td>\n",
       "        <td style=\"padding-left: 1em; padding-right: 1em; text-align: center; vertical-align: top\">[0.95]\\t</td>\n",
       "    </tr>\n",
       "</table>\n",
       "<table frame=\"box\" rules=\"cols\">\n",
       "    <tr>\n",
       "        <th style=\"padding-left: 1em; padding-right: 1em; text-align: center\">Source</th>\n",
       "        <th style=\"padding-left: 1em; padding-right: 1em; text-align: center\">Entity literalStrings</th>\n",
       "        <th style=\"padding-left: 1em; padding-right: 1em; text-align: center\">Value literalStrings</th>\n",
       "        <th style=\"padding-left: 1em; padding-right: 1em; text-align: center\">Best Entity literalString</th>\n",
       "    </tr>\n",
       "    <tr>\n",
       "        <td style=\"padding-left: 1em; padding-right: 1em; text-align: center; vertical-align: top\">MBL-Iter%3A710-2013%2F03%<br>2F13-12%3A17%3A37-Fro ...</td>\n",
       "        <td style=\"padding-left: 1em; padding-right: 1em; text-align: center; vertical-align: top\">Hydrophthalmos</td>\n",
       "        <td style=\"padding-left: 1em; padding-right: 1em; text-align: center; vertical-align: top\">http://en.wikipedia.org/w<br>iki/Hydrophthalmos</td>\n",
       "        <td style=\"padding-left: 1em; padding-right: 1em; text-align: center; vertical-align: top\">Hydrophthalmos</td>\n",
       "    </tr>\n",
       "</table>\n",
       "<table frame=\"box\" rules=\"cols\">\n",
       "    <tr>\n",
       "        <th style=\"padding-left: 1em; padding-right: 1em; text-align: center\">Best Value literalString</th>\n",
       "        <th style=\"padding-left: 1em; padding-right: 1em; text-align: center\">Categories for Entity</th>\n",
       "        <th style=\"padding-left: 1em; padding-right: 1em; text-align: center\">Categories for Value</th>\n",
       "        <th style=\"padding-left: 1em; padding-right: 1em; text-align: center\">Candidate Source</th>\n",
       "    </tr>\n",
       "    <tr>\n",
       "        <td style=\"padding-left: 1em; padding-right: 1em; text-align: center; vertical-align: top\">http://en.wikipedia.org/w<br>iki/Hydrophthalmos</td>\n",
       "        <td style=\"padding-left: 1em; padding-right: 1em; text-align: center; vertical-align: top\"></td>\n",
       "        <td style=\"padding-left: 1em; padding-right: 1em; text-align: center; vertical-align: top\"></td>\n",
       "        <td style=\"padding-left: 1em; padding-right: 1em; text-align: center; vertical-align: top\">%5BAliasMatcher-Iter%3A62<br>1-2012%2F08%2F03-10%3 ...</td>\n",
       "    </tr>\n",
       "</table>\n",
       "<table frame=\"box\" rules=\"cols\">\n",
       "    <tr>\n",
       "        <th style=\"padding-left: 1em; padding-right: 1em; text-align: center\">Relation.1</th>\n",
       "        <th style=\"padding-left: 1em; padding-right: 1em; text-align: center\">Value.1</th>\n",
       "        <th style=\"padding-left: 1em; padding-right: 1em; text-align: center\">Iteration of Promotion</th>\n",
       "        <th style=\"padding-left: 1em; padding-right: 1em; text-align: center\">Probability</th>\n",
       "        <th style=\"padding-left: 1em; padding-right: 1em; text-align: center\">Source.1</th>\n",
       "    </tr>\n",
       "    <tr>\n",
       "        <td style=\"padding-left: 1em; padding-right: 1em; text-align: center; vertical-align: top\">concept:haswikipediaurl</td>\n",
       "        <td style=\"padding-left: 1em; padding-right: 1em; text-align: center; vertical-align: top\">http://en.wikipedia.org/w<br>iki/Hydrophthalmos</td>\n",
       "        <td style=\"padding-left: 1em; padding-right: 1em; text-align: center; vertical-align: top\">710</td>\n",
       "        <td style=\"padding-left: 1em; padding-right: 1em; text-align: center; vertical-align: top\">0.95</td>\n",
       "        <td style=\"padding-left: 1em; padding-right: 1em; text-align: center; vertical-align: top\">MBL-Iter%3A710-2013%2F03%<br>2F13-12%3A17%3A37-Fro ...</td>\n",
       "    </tr>\n",
       "</table>\n",
       "<table frame=\"box\" rules=\"cols\">\n",
       "    <tr>\n",
       "        <th style=\"padding-left: 1em; padding-right: 1em; text-align: center\">Entity literalStrings.1</th>\n",
       "        <th style=\"padding-left: 1em; padding-right: 1em; text-align: center\">Value literalStrings.1</th>\n",
       "        <th style=\"padding-left: 1em; padding-right: 1em; text-align: center\">Best Entity<br>literalString.1</th>\n",
       "        <th style=\"padding-left: 1em; padding-right: 1em; text-align: center\">Best Value<br>literalString.1</th>\n",
       "        <th style=\"padding-left: 1em; padding-right: 1em; text-align: center\">Categories for Entity.1</th>\n",
       "    </tr>\n",
       "    <tr>\n",
       "        <td style=\"padding-left: 1em; padding-right: 1em; text-align: center; vertical-align: top\">Hydrophthalmos</td>\n",
       "        <td style=\"padding-left: 1em; padding-right: 1em; text-align: center; vertical-align: top\">http://en.wikipedia.org/w<br>iki/Hydrophthalmos</td>\n",
       "        <td style=\"padding-left: 1em; padding-right: 1em; text-align: center; vertical-align: top\">Hydrophthalmos</td>\n",
       "        <td style=\"padding-left: 1em; padding-right: 1em; text-align: center; vertical-align: top\">http://en.wikipedia.org/w<br>iki/Hydrophthalmos</td>\n",
       "        <td style=\"padding-left: 1em; padding-right: 1em; text-align: center; vertical-align: top\"></td>\n",
       "    </tr>\n",
       "</table>\n",
       "<table frame=\"box\" rules=\"cols\">\n",
       "    <tr>\n",
       "        <th style=\"padding-left: 1em; padding-right: 1em; text-align: center\">Categories for Value.1</th>\n",
       "        <th style=\"padding-left: 1em; padding-right: 1em; text-align: center\">Candidate Source.1</th>\n",
       "    </tr>\n",
       "    <tr>\n",
       "        <td style=\"padding-left: 1em; padding-right: 1em; text-align: center; vertical-align: top\"></td>\n",
       "        <td style=\"padding-left: 1em; padding-right: 1em; text-align: center; vertical-align: top\">%5BAliasMatcher-Iter%3A62<br>1-2012%2F08%2F03-10%3 ...</td>\n",
       "    </tr>\n",
       "</table>\n",
       "[1 rows x 25 columns]<br/>\n",
       "</div>"
      ],
      "text/plain": [
       "Columns:\n",
       "\tEntity\tstr\n",
       "\tRelation\tstr\n",
       "\tValue\tstr\n",
       "\tIteration of Candidacy\tstr\n",
       "\tCandidate Probability\tstr\n",
       "\tSource\tstr\n",
       "\tEntity literalStrings\tstr\n",
       "\tValue literalStrings\tstr\n",
       "\tBest Entity literalString\tstr\n",
       "\tBest Value literalString\tstr\n",
       "\tCategories for Entity\tstr\n",
       "\tCategories for Value\tstr\n",
       "\tCandidate Source\tstr\n",
       "\tRelation.1\tstr\n",
       "\tValue.1\tstr\n",
       "\tIteration of Promotion\tstr\n",
       "\tProbability\tstr\n",
       "\tSource.1\tstr\n",
       "\tEntity literalStrings.1\tstr\n",
       "\tValue literalStrings.1\tstr\n",
       "\tBest Entity literalString.1\tstr\n",
       "\tBest Value literalString.1\tstr\n",
       "\tCategories for Entity.1\tstr\n",
       "\tCategories for Value.1\tstr\n",
       "\tCandidate Source.1\tstr\n",
       "\n",
       "Rows: 1\n",
       "\n",
       "Data:\n",
       "+----------------+--------------------------------+\n",
       "|     Entity     |            Relation            |\n",
       "+----------------+--------------------------------+\n",
       "| hydrophthalmos | candidate:concept:haswikip ... |\n",
       "+----------------+--------------------------------+\n",
       "+--------------------------------+------------------------+-----------------------+\n",
       "|             Value              | Iteration of Candidacy | Candidate Probability |\n",
       "+--------------------------------+------------------------+-----------------------+\n",
       "| http://en.wikipedia.org/wi ... |        [621]\\t         |        [0.95]\\t       |\n",
       "+--------------------------------+------------------------+-----------------------+\n",
       "+--------------------------------+-----------------------+\n",
       "|             Source             | Entity literalStrings |\n",
       "+--------------------------------+-----------------------+\n",
       "| MBL-Iter%3A710-2013%2F03%2 ... |     Hydrophthalmos    |\n",
       "+--------------------------------+-----------------------+\n",
       "+--------------------------------+---------------------------+\n",
       "|      Value literalStrings      | Best Entity literalString |\n",
       "+--------------------------------+---------------------------+\n",
       "| http://en.wikipedia.org/wi ... |       Hydrophthalmos      |\n",
       "+--------------------------------+---------------------------+\n",
       "+--------------------------------+-----------------------+----------------------+\n",
       "|    Best Value literalString    | Categories for Entity | Categories for Value |\n",
       "+--------------------------------+-----------------------+----------------------+\n",
       "| http://en.wikipedia.org/wi ... |                       |                      |\n",
       "+--------------------------------+-----------------------+----------------------+\n",
       "+--------------------------------+-------------------------+\n",
       "|        Candidate Source        |        Relation.1       |\n",
       "+--------------------------------+-------------------------+\n",
       "| %5BAliasMatcher-Iter%3A621 ... | concept:haswikipediaurl |\n",
       "+--------------------------------+-------------------------+\n",
       "+--------------------------------+------------------------+-------------+\n",
       "|            Value.1             | Iteration of Promotion | Probability |\n",
       "+--------------------------------+------------------------+-------------+\n",
       "| http://en.wikipedia.org/wi ... |          710           |     0.95    |\n",
       "+--------------------------------+------------------------+-------------+\n",
       "+--------------------------------+-------------------------+\n",
       "|            Source.1            | Entity literalStrings.1 |\n",
       "+--------------------------------+-------------------------+\n",
       "| MBL-Iter%3A710-2013%2F03%2 ... |      Hydrophthalmos     |\n",
       "+--------------------------------+-------------------------+\n",
       "+--------------------------------+-----+\n",
       "|     Value literalStrings.1     | ... |\n",
       "+--------------------------------+-----+\n",
       "| http://en.wikipedia.org/wi ... | ... |\n",
       "+--------------------------------+-----+\n",
       "[1 rows x 25 columns]"
      ]
     },
     "execution_count": 16,
     "metadata": {},
     "output_type": "execute_result"
    }
   ],
   "source": [
    "mg.head(1)"
   ]
  },
  {
   "cell_type": "code",
   "execution_count": null,
   "metadata": {
    "collapsed": true
   },
   "outputs": [],
   "source": []
  }
 ],
 "metadata": {
  "kernelspec": {
   "display_name": "Python 2",
   "language": "python",
   "name": "python2"
  },
  "language_info": {
   "codemirror_mode": {
    "name": "ipython",
    "version": 2
   },
   "file_extension": ".py",
   "mimetype": "text/x-python",
   "name": "python",
   "nbconvert_exporter": "python",
   "pygments_lexer": "ipython2",
   "version": "2.7.10"
  }
 },
 "nbformat": 4,
 "nbformat_minor": 0
}
