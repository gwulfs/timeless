{
 "cells": [
  {
   "cell_type": "code",
   "execution_count": 2,
   "metadata": {
    "collapsed": false
   },
   "outputs": [
    {
     "name": "stdout",
     "output_type": "stream",
     "text": [
      "<p><b>Albert Einstein</b> (<span class=\"nowrap\"><span class=\"IPA nopopups\"><a href=\"/wiki/Help:IPA_for_English\" title=\"Help:IPA for English\">/<span style=\"border-bottom:1px dotted\"><span title=\"/ˈ/ primary stress follows\">ˈ</span><span title=\"/aɪ/ long 'i' in 'tide'\">aɪ</span><span title=\"'n' in 'no'\">n</span><span title=\"'s' in 'sigh'\">s</span><span title=\"'t' in 'tie'\">t</span><span title=\"/aɪ/ long 'i' in 'tide'\">aɪ</span><span title=\"'n' in 'no'\">n</span></span>/</a></span></span>;<sup id=\"cite_ref-3\" class=\"reference\"><a href=\"#cite_note-3\"><span>[</span>3<span>]</span></a></sup> <small>German:</small> <span title=\"Representation in the International Phonetic Alphabet (IPA)\" class=\"IPA\"><a href=\"/wiki/Help:IPA_for_German\" title=\"Help:IPA for German\">[ˈalbɐrt ˈaɪnʃtaɪn]</a></span><small class=\"nowrap metadata\">&#160;(<a href=\"/wiki/File:Albert_Einstein_german.ogg\" title=\"File:Albert Einstein german.ogg\"><img alt=\"\" src=\"//upload.wikimedia.org/wikipedia/commons/thumb/2/21/Speaker_Icon.svg/13px-Speaker_Icon.svg.png\" width=\"13\" height=\"13\" srcset=\"//upload.wikimedia.org/wikipedia/commons/thumb/2/21/Speaker_Icon.svg/20px-Speaker_Icon.svg.png 1.5x, //upload.wikimedia.org/wikipedia/commons/thumb/2/21/Speaker_Icon.svg/26px-Speaker_Icon.svg.png 2x\" data-file-width=\"500\" data-file-height=\"500\" /></a> <a href=\"//upload.wikimedia.org/wikipedia/commons/6/6b/Albert_Einstein_german.ogg\" class=\"internal\" title=\"Albert Einstein german.ogg\">listen</a>)</small>; 14 March 1879&#160;– 18 April 1955) was a German-born <a href=\"/wiki/Theoretical_physicist\" title=\"Theoretical physicist\" class=\"mw-redirect\">theoretical physicist</a>. He developed the <a href=\"/wiki/General_theory_of_relativity\" title=\"General theory of relativity\" class=\"mw-redirect\">general theory of relativity</a>, one of the two pillars of <a href=\"/wiki/Modern_physics\" title=\"Modern physics\">modern physics</a> (alongside <a href=\"/wiki/Quantum_mechanics\" title=\"Quantum mechanics\">quantum mechanics</a>).<sup id=\"cite_ref-frs_2-2\" class=\"reference\"><a href=\"#cite_note-frs-2\"><span>[</span>2<span>]</span></a></sup><sup id=\"cite_ref-YangHamilton2010_4-0\" class=\"reference\"><a href=\"#cite_note-YangHamilton2010-4\"><span>[</span>4<span>]</span></a></sup><sup class=\"reference\" style=\"white-space:nowrap;\">:274</sup> Einstein's work is also known for its influence on the <a href=\"/wiki/Philosophy_of_science\" title=\"Philosophy of science\">philosophy of science</a>.<sup id=\"cite_ref-5\" class=\"reference\"><a href=\"#cite_note-5\"><span>[</span>5<span>]</span></a></sup><sup id=\"cite_ref-6\" class=\"reference\"><a href=\"#cite_note-6\"><span>[</span>6<span>]</span></a></sup> Einstein is best known in popular culture for his <a href=\"/wiki/Mass%E2%80%93energy_equivalence\" title=\"Mass–energy equivalence\">mass–energy equivalence</a> formula <span class=\"nowrap\"><i>E</i> = <i>mc</i><sup>2</sup></span> (which has been dubbed \"the world's most famous equation\").<sup id=\"cite_ref-7\" class=\"reference\"><a href=\"#cite_note-7\"><span>[</span>7<span>]</span></a></sup> He received the 1921 <a href=\"/wiki/Nobel_Prize_in_Physics\" title=\"Nobel Prize in Physics\">Nobel Prize in Physics</a> for his \"services to theoretical physics\", in particular his discovery of the law of the <a href=\"/wiki/Photoelectric_effect\" title=\"Photoelectric effect\">photoelectric effect</a>, a pivotal step in the evolution of <a href=\"/wiki/Introduction_to_quantum_mechanics\" title=\"Introduction to quantum mechanics\">quantum theory</a>.<sup id=\"cite_ref-8\" class=\"reference\"><a href=\"#cite_note-8\"><span>[</span>8<span>]</span></a></sup></p>\n"
     ]
    }
   ],
   "source": [
    "import urllib\n",
    "import urllib2\n",
    "from BeautifulSoup import BeautifulSoup\n",
    "\n",
    "article= \"Albert Einstein\"\n",
    "article = urllib.quote(article)\n",
    "\n",
    "opener = urllib2.build_opener()\n",
    "opener.addheaders = [('User-agent', 'Mozilla/5.0')] #wikipedia needs this\n",
    "\n",
    "resource = opener.open(\"http://en.wikipedia.org/wiki/\" + article)\n",
    "data = resource.read()\n",
    "resource.close()\n",
    "soup = BeautifulSoup(data)\n",
    "print soup.find('div',id=\"bodyContent\").p"
   ]
  },
  {
   "cell_type": "code",
   "execution_count": null,
   "metadata": {
    "collapsed": true
   },
   "outputs": [],
   "source": []
  }
 ],
 "metadata": {
  "kernelspec": {
   "display_name": "Python 2",
   "language": "python",
   "name": "python2"
  },
  "language_info": {
   "codemirror_mode": {
    "name": "ipython",
    "version": 2
   },
   "file_extension": ".py",
   "mimetype": "text/x-python",
   "name": "python",
   "nbconvert_exporter": "python",
   "pygments_lexer": "ipython2",
   "version": "2.7.10"
  }
 },
 "nbformat": 4,
 "nbformat_minor": 0
}
