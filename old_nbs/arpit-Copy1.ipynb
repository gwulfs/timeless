{
 "cells": [
  {
   "cell_type": "code",
   "execution_count": 35,
   "metadata": {
    "collapsed": false
   },
   "outputs": [],
   "source": [
    "import pandas as pd"
   ]
  },
  {
   "cell_type": "code",
   "execution_count": 36,
   "metadata": {
    "collapsed": false
   },
   "outputs": [],
   "source": [
    "df = pd.read_csv('nell-big-disease.csv', delimiter='\\t', nrows=52556)"
   ]
  },
  {
   "cell_type": "code",
   "execution_count": 37,
   "metadata": {
    "collapsed": false
   },
   "outputs": [
    {
     "data": {
      "text/plain": [
       "Index([u'n3_methylglutaconyl_coa_hydratase_deficiency',\n",
       "       u'candidate:generalizations', u'concept:disease', u'[222]', u'[0.5]',\n",
       "       u'%28null%29', u'3 methylglutaconyl coa hydratase deficiency ',\n",
       "       u'Unnamed: 7', u'3 methylglutaconyl coa hydratase deficiency',\n",
       "       u'Unnamed: 9', u'Unnamed: 10', u' concept:physiologicalcondition',\n",
       "       u'%5BSEAL-Iter%3A222-2011%2F03%2F20-14%3A11%3A11-%3Ctoken%3Dn3_methylglutaconyl_coa_hydratase_deficiency%2Cdisease%3E-From%3ACategory%3Adisease-using-KB+http%3A%2F%2Fwww.raredis.org%2Fmodules%2Fsections%2Findex.php%3Fop%3Dprintpage%26artid%3D25%5D'],\n",
       "      dtype='object')"
      ]
     },
     "execution_count": 37,
     "metadata": {},
     "output_type": "execute_result"
    }
   ],
   "source": [
    "df.columns"
   ]
  },
  {
   "cell_type": "code",
   "execution_count": 38,
   "metadata": {
    "collapsed": true
   },
   "outputs": [],
   "source": [
    "d = {}\n",
    "names = ['Entity', 'Relation', 'Value', 'Iteration of Candidacy', 'Candidate Probability', 'Source', 'Entity literalStrings', 'Value literalStrings', 'Best Entity literalString', 'Best Value literalString', 'Categories for Entity', 'Categories for Value', 'Candidate Source', 'type']\n",
    "for i, c in enumerate(df.columns):\n",
    "    d[c] = names[i]"
   ]
  },
  {
   "cell_type": "code",
   "execution_count": 39,
   "metadata": {
    "collapsed": false
   },
   "outputs": [],
   "source": [
    "df = df.rename(columns=d)"
   ]
  },
  {
   "cell_type": "code",
   "execution_count": 40,
   "metadata": {
    "collapsed": false
   },
   "outputs": [],
   "source": [
    "# df['Entity'][0][8:].split(':')[0]\n",
    "# df['type'] = df['Entity'].apply(lambda x: x.split()[0][8:].split(':')[0])\n",
    "# df = df[df['type'] == 'disease']"
   ]
  },
  {
   "cell_type": "code",
   "execution_count": 41,
   "metadata": {
    "collapsed": false
   },
   "outputs": [
    {
     "data": {
      "text/plain": [
       "Index([u'Entity', u'Relation', u'Value', u'Iteration of Candidacy',\n",
       "       u'Candidate Probability', u'Source', u'Entity literalStrings',\n",
       "       u'Value literalStrings', u'Best Entity literalString',\n",
       "       u'Best Value literalString', u'Categories for Entity',\n",
       "       u'Categories for Value', u'Candidate Source'],\n",
       "      dtype='object')"
      ]
     },
     "execution_count": 41,
     "metadata": {},
     "output_type": "execute_result"
    }
   ],
   "source": [
    "df.columns"
   ]
  },
  {
   "cell_type": "code",
   "execution_count": 43,
   "metadata": {
    "collapsed": false
   },
   "outputs": [
    {
     "data": {
      "text/html": [
       "<div>\n",
       "<table border=\"1\" class=\"dataframe\">\n",
       "  <thead>\n",
       "    <tr style=\"text-align: right;\">\n",
       "      <th></th>\n",
       "      <th>Entity</th>\n",
       "      <th>Relation</th>\n",
       "      <th>Value</th>\n",
       "      <th>Iteration of Candidacy</th>\n",
       "      <th>Candidate Probability</th>\n",
       "      <th>Source</th>\n",
       "      <th>Entity literalStrings</th>\n",
       "      <th>Value literalStrings</th>\n",
       "      <th>Best Entity literalString</th>\n",
       "      <th>Best Value literalString</th>\n",
       "      <th>Categories for Entity</th>\n",
       "      <th>Categories for Value</th>\n",
       "      <th>Candidate Source</th>\n",
       "    </tr>\n",
       "  </thead>\n",
       "  <tbody>\n",
       "    <tr>\n",
       "      <th>0</th>\n",
       "      <td>ucds</td>\n",
       "      <td>candidate:generalizations</td>\n",
       "      <td>concept:disease</td>\n",
       "      <td>[772]</td>\n",
       "      <td>[0.8288469466041748]</td>\n",
       "      <td>%28null%29</td>\n",
       "      <td>UCDs \"ucds\"</td>\n",
       "      <td>NaN</td>\n",
       "      <td>UCDs</td>\n",
       "      <td>NaN</td>\n",
       "      <td>NaN</td>\n",
       "      <td>concept:physiologicalcondition</td>\n",
       "      <td>%5BCPL-Iter%3A772-2013%2F09%2F26-09%3A23%3A32-...</td>\n",
       "    </tr>\n",
       "  </tbody>\n",
       "</table>\n",
       "</div>"
      ],
      "text/plain": [
       "  Entity                   Relation            Value Iteration of Candidacy  \\\n",
       "0   ucds  candidate:generalizations  concept:disease                  [772]   \n",
       "\n",
       "  Candidate Probability      Source Entity literalStrings  \\\n",
       "0  [0.8288469466041748]  %28null%29          UCDs \"ucds\"    \n",
       "\n",
       "  Value literalStrings Best Entity literalString Best Value literalString  \\\n",
       "0                  NaN                      UCDs                      NaN   \n",
       "\n",
       "   Categories for Entity             Categories for Value  \\\n",
       "0                    NaN   concept:physiologicalcondition   \n",
       "\n",
       "                                    Candidate Source  \n",
       "0  %5BCPL-Iter%3A772-2013%2F09%2F26-09%3A23%3A32-...  "
      ]
     },
     "execution_count": 43,
     "metadata": {},
     "output_type": "execute_result"
    }
   ],
   "source": [
    "df.head(1)"
   ]
  },
  {
   "cell_type": "code",
   "execution_count": 44,
   "metadata": {
    "collapsed": false
   },
   "outputs": [
    {
     "data": {
      "text/plain": [
       "52556"
      ]
     },
     "execution_count": 44,
     "metadata": {},
     "output_type": "execute_result"
    }
   ],
   "source": [
    "len(df)"
   ]
  },
  {
   "cell_type": "code",
   "execution_count": 45,
   "metadata": {
    "collapsed": false
   },
   "outputs": [],
   "source": [
    "df = df[pd.notnull(df['Best Entity literalString'])]"
   ]
  },
  {
   "cell_type": "code",
   "execution_count": 46,
   "metadata": {
    "collapsed": false
   },
   "outputs": [
    {
     "data": {
      "text/plain": [
       "52556"
      ]
     },
     "execution_count": 46,
     "metadata": {},
     "output_type": "execute_result"
    }
   ],
   "source": [
    "len(df)"
   ]
  },
  {
   "cell_type": "code",
   "execution_count": 47,
   "metadata": {
    "collapsed": false
   },
   "outputs": [
    {
     "data": {
      "text/plain": [
       "0                                                   UCDs\n",
       "1                   Congenital thickening of tarsal bone\n",
       "2                                        constant pyuria\n",
       "3                                           cancer plans\n",
       "4                                     Vocal cord paresis\n",
       "5                                   Psychogenic pruritus\n",
       "6                                   Psychogenic pruritus\n",
       "7                                   over-65-years-of-age\n",
       "8             primary herpes infection teratogenic agent\n",
       "9            Axillary freckling due to neurofibromatosis\n",
       "10                                                  UARS\n",
       "11                                       scab infections\n",
       "12                                           colds & flu\n",
       "13                           and related small molecules\n",
       "14         MYOCLONIC EPILEPSY OF UNVERRICHT AND LUNDBORG\n",
       "15                               cosmetics and skin care\n",
       "16                                              neurooff\n",
       "17                                     Cleft soft palate\n",
       "18                                                  UCTD\n",
       "19                chemical poisoning ethylene dichloride\n",
       "20                chemical poisoning ethylene dichloride\n",
       "21                         Hyperpigmentation in children\n",
       "22                                      CMV reactivation\n",
       "23                   paroxysmal supraventricular tachyca\n",
       "24                             all intracranial neoplasm\n",
       "25                                   Mutagen sensitivity\n",
       "26                                           LifeMasters\n",
       "27                               Morel-Kraepelin disease\n",
       "28       Carbohydrate deficient glycoprotein syndrome Ii\n",
       "29                       disease. If not treated however\n",
       "                              ...                       \n",
       "52526                                        Specialists\n",
       "52527                                        Specialists\n",
       "52528                                        Specialists\n",
       "52529                                        Specialists\n",
       "52530                                        Specialists\n",
       "52531                                        Specialists\n",
       "52532                                        Specialists\n",
       "52533                                        Specialists\n",
       "52534                                        Specialists\n",
       "52535                                        Specialists\n",
       "52536                                        Specialists\n",
       "52537                                        Specialists\n",
       "52538                                        Specialists\n",
       "52539                                        Specialists\n",
       "52540                                        Specialists\n",
       "52541                                        Specialists\n",
       "52542                                        Specialists\n",
       "52543                                        Specialists\n",
       "52544                                        Specialists\n",
       "52545                                        Specialists\n",
       "52546                                        Specialists\n",
       "52547                                        Specialists\n",
       "52548                                        Specialists\n",
       "52549                                        Specialists\n",
       "52550                                        Specialists\n",
       "52551                                        Specialists\n",
       "52552                                        Specialists\n",
       "52553                                        Specialists\n",
       "52554                                        Specialists\n",
       "52555                                        Specialists\n",
       "Name: Best Entity literalString, dtype: object"
      ]
     },
     "execution_count": 47,
     "metadata": {},
     "output_type": "execute_result"
    }
   ],
   "source": [
    "df['Best Entity literalString']"
   ]
  },
  {
   "cell_type": "code",
   "execution_count": null,
   "metadata": {
    "collapsed": true
   },
   "outputs": [],
   "source": [
    "df1 = gl.SFrame.read_csv('nell-big-disease.csv', delimiter='\\t', nrows=52556)"
   ]
  }
 ],
 "metadata": {
  "kernelspec": {
   "display_name": "Python 2",
   "language": "python",
   "name": "python2"
  },
  "language_info": {
   "codemirror_mode": {
    "name": "ipython",
    "version": 2
   },
   "file_extension": ".py",
   "mimetype": "text/x-python",
   "name": "python",
   "nbconvert_exporter": "python",
   "pygments_lexer": "ipython2",
   "version": "2.7.10"
  }
 },
 "nbformat": 4,
 "nbformat_minor": 0
}
