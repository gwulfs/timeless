{
 "cells": [
  {
   "cell_type": "code",
   "execution_count": 1,
   "metadata": {
    "collapsed": true
   },
   "outputs": [],
   "source": [
    "import pandas as pd"
   ]
  },
  {
   "cell_type": "code",
   "execution_count": 4,
   "metadata": {
    "collapsed": false
   },
   "outputs": [],
   "source": [
    "df = pd.read_csv('/Users/gwulfs/Downloads/NELL.08m.950.cesv.csv', sep='\\t', nrows=390000)"
   ]
  },
  {
   "cell_type": "code",
   "execution_count": 5,
   "metadata": {
    "collapsed": false
   },
   "outputs": [
    {
     "data": {
      "text/html": [
       "<div>\n",
       "<table border=\"1\" class=\"dataframe\">\n",
       "  <thead>\n",
       "    <tr style=\"text-align: right;\">\n",
       "      <th></th>\n",
       "      <th>Entity</th>\n",
       "      <th>Relation</th>\n",
       "      <th>Value</th>\n",
       "      <th>Iteration of Candidacy</th>\n",
       "      <th>Candidate Probability</th>\n",
       "      <th>Source</th>\n",
       "      <th>Entity literalStrings</th>\n",
       "      <th>Value literalStrings</th>\n",
       "      <th>Best Entity literalString</th>\n",
       "      <th>Best Value literalString</th>\n",
       "      <th>Categories for Entity</th>\n",
       "      <th>Categories for Value</th>\n",
       "      <th>Candidate Source</th>\n",
       "    </tr>\n",
       "  </thead>\n",
       "  <tbody>\n",
       "    <tr>\n",
       "      <th>0</th>\n",
       "      <td>concept:recipe:pasta_quick</td>\n",
       "      <td>candidate:generalizations</td>\n",
       "      <td>concept:recipe</td>\n",
       "      <td>[221]</td>\n",
       "      <td>[0.5]</td>\n",
       "      <td>%28null%29</td>\n",
       "      <td>Pasta Quick</td>\n",
       "      <td>NaN</td>\n",
       "      <td>Pasta Quick</td>\n",
       "      <td>NaN</td>\n",
       "      <td>NaN</td>\n",
       "      <td>concept:abstractthing</td>\n",
       "      <td>%5BSEAL-Iter%3A221-2011%2F03%2F18-08%3A29%3A10...</td>\n",
       "    </tr>\n",
       "  </tbody>\n",
       "</table>\n",
       "</div>"
      ],
      "text/plain": [
       "                       Entity                   Relation           Value  \\\n",
       "0  concept:recipe:pasta_quick  candidate:generalizations  concept:recipe   \n",
       "\n",
       "  Iteration of Candidacy Candidate Probability      Source  \\\n",
       "0                  [221]                 [0.5]  %28null%29   \n",
       "\n",
       "  Entity literalStrings Value literalStrings Best Entity literalString  \\\n",
       "0          Pasta Quick                   NaN               Pasta Quick   \n",
       "\n",
       "  Best Value literalString  Categories for Entity    Categories for Value  \\\n",
       "0                      NaN                    NaN   concept:abstractthing   \n",
       "\n",
       "                                    Candidate Source  \n",
       "0  %5BSEAL-Iter%3A221-2011%2F03%2F18-08%3A29%3A10...  "
      ]
     },
     "execution_count": 5,
     "metadata": {},
     "output_type": "execute_result"
    }
   ],
   "source": [
    "df.head(1)"
   ]
  },
  {
   "cell_type": "code",
   "execution_count": 6,
   "metadata": {
    "collapsed": false
   },
   "outputs": [
    {
     "data": {
      "text/plain": [
       "'recipe'"
      ]
     },
     "execution_count": 6,
     "metadata": {},
     "output_type": "execute_result"
    }
   ],
   "source": [
    "df['Entity'][0][8:].split(':')[0]"
   ]
  },
  {
   "cell_type": "code",
   "execution_count": 7,
   "metadata": {
    "collapsed": true
   },
   "outputs": [],
   "source": [
    "df['type'] = df['Entity'].apply(lambda x: x.split()[0][8:].split(':')[0])\n",
    "df = df[df['type'] == 'disease']"
   ]
  },
  {
   "cell_type": "code",
   "execution_count": 8,
   "metadata": {
    "collapsed": false
   },
   "outputs": [
    {
     "data": {
      "text/plain": [
       "3275"
      ]
     },
     "execution_count": 8,
     "metadata": {},
     "output_type": "execute_result"
    }
   ],
   "source": [
    "len(df)"
   ]
  },
  {
   "cell_type": "code",
   "execution_count": 9,
   "metadata": {
    "collapsed": false
   },
   "outputs": [
    {
     "data": {
      "text/html": [
       "<div>\n",
       "<table border=\"1\" class=\"dataframe\">\n",
       "  <thead>\n",
       "    <tr style=\"text-align: right;\">\n",
       "      <th></th>\n",
       "      <th>Entity</th>\n",
       "      <th>Relation</th>\n",
       "      <th>Value</th>\n",
       "      <th>Iteration of Candidacy</th>\n",
       "      <th>Candidate Probability</th>\n",
       "      <th>Source</th>\n",
       "      <th>Entity literalStrings</th>\n",
       "      <th>Value literalStrings</th>\n",
       "      <th>Best Entity literalString</th>\n",
       "      <th>Best Value literalString</th>\n",
       "      <th>Categories for Entity</th>\n",
       "      <th>Categories for Value</th>\n",
       "      <th>Candidate Source</th>\n",
       "      <th>type</th>\n",
       "    </tr>\n",
       "  </thead>\n",
       "  <tbody>\n",
       "    <tr>\n",
       "      <th>176</th>\n",
       "      <td>concept:disease:n3_methylglutaconyl_coa_hydrat...</td>\n",
       "      <td>candidate:generalizations</td>\n",
       "      <td>concept:disease</td>\n",
       "      <td>[222]</td>\n",
       "      <td>[0.5]</td>\n",
       "      <td>%28null%29</td>\n",
       "      <td>3 methylglutaconyl coa hydratase deficiency</td>\n",
       "      <td>NaN</td>\n",
       "      <td>3 methylglutaconyl coa hydratase deficiency</td>\n",
       "      <td>NaN</td>\n",
       "      <td>NaN</td>\n",
       "      <td>concept:physiologicalcondition</td>\n",
       "      <td>%5BSEAL-Iter%3A222-2011%2F03%2F20-14%3A11%3A11...</td>\n",
       "      <td>disease</td>\n",
       "    </tr>\n",
       "    <tr>\n",
       "      <th>4305</th>\n",
       "      <td>concept:disease:ucds</td>\n",
       "      <td>candidate:generalizations</td>\n",
       "      <td>concept:disease</td>\n",
       "      <td>[772]</td>\n",
       "      <td>[0.8288469466041748]</td>\n",
       "      <td>%28null%29</td>\n",
       "      <td>UCDs \"ucds\"</td>\n",
       "      <td>NaN</td>\n",
       "      <td>UCDs</td>\n",
       "      <td>NaN</td>\n",
       "      <td>NaN</td>\n",
       "      <td>concept:physiologicalcondition</td>\n",
       "      <td>%5BCPL-Iter%3A772-2013%2F09%2F26-09%3A23%3A32-...</td>\n",
       "      <td>disease</td>\n",
       "    </tr>\n",
       "    <tr>\n",
       "      <th>9239</th>\n",
       "      <td>concept:disease:congenital_thickening_of_tarsa...</td>\n",
       "      <td>candidate:generalizations</td>\n",
       "      <td>concept:disease</td>\n",
       "      <td>[574]</td>\n",
       "      <td>[0.5]</td>\n",
       "      <td>%28null%29</td>\n",
       "      <td>Congenital thickening of tarsal bone</td>\n",
       "      <td>NaN</td>\n",
       "      <td>Congenital thickening of tarsal bone</td>\n",
       "      <td>NaN</td>\n",
       "      <td>NaN</td>\n",
       "      <td>concept:physiologicalcondition</td>\n",
       "      <td>%5BSEAL-Iter%3A574-2012%2F05%2F21-02%3A22%3A33...</td>\n",
       "      <td>disease</td>\n",
       "    </tr>\n",
       "    <tr>\n",
       "      <th>9990</th>\n",
       "      <td>concept:disease:constant_pyuria</td>\n",
       "      <td>candidate:generalizations</td>\n",
       "      <td>concept:disease</td>\n",
       "      <td>[238]</td>\n",
       "      <td>[0.5]</td>\n",
       "      <td>%28null%29</td>\n",
       "      <td>constant pyuria</td>\n",
       "      <td>NaN</td>\n",
       "      <td>constant pyuria</td>\n",
       "      <td>NaN</td>\n",
       "      <td>NaN</td>\n",
       "      <td>concept:physiologicalcondition</td>\n",
       "      <td>%5BSEAL-Iter%3A238-2011%2F04%2F18-10%3A46%3A35...</td>\n",
       "      <td>disease</td>\n",
       "    </tr>\n",
       "    <tr>\n",
       "      <th>11115</th>\n",
       "      <td>concept:disease:cancer_plans</td>\n",
       "      <td>candidate:generalizations</td>\n",
       "      <td>concept:disease</td>\n",
       "      <td>[668]</td>\n",
       "      <td>[0.561440415913448]</td>\n",
       "      <td>%28null%29</td>\n",
       "      <td>cancer plans</td>\n",
       "      <td>NaN</td>\n",
       "      <td>cancer plans</td>\n",
       "      <td>NaN</td>\n",
       "      <td>NaN</td>\n",
       "      <td>concept:physiologicalcondition</td>\n",
       "      <td>%5BCPL-Iter%3A668-2012%2F12%2F12-20%3A33%3A26-...</td>\n",
       "      <td>disease</td>\n",
       "    </tr>\n",
       "  </tbody>\n",
       "</table>\n",
       "</div>"
      ],
      "text/plain": [
       "                                                  Entity  \\\n",
       "176    concept:disease:n3_methylglutaconyl_coa_hydrat...   \n",
       "4305                                concept:disease:ucds   \n",
       "9239   concept:disease:congenital_thickening_of_tarsa...   \n",
       "9990                     concept:disease:constant_pyuria   \n",
       "11115                       concept:disease:cancer_plans   \n",
       "\n",
       "                        Relation            Value Iteration of Candidacy  \\\n",
       "176    candidate:generalizations  concept:disease                  [222]   \n",
       "4305   candidate:generalizations  concept:disease                  [772]   \n",
       "9239   candidate:generalizations  concept:disease                  [574]   \n",
       "9990   candidate:generalizations  concept:disease                  [238]   \n",
       "11115  candidate:generalizations  concept:disease                  [668]   \n",
       "\n",
       "      Candidate Probability      Source  \\\n",
       "176                   [0.5]  %28null%29   \n",
       "4305   [0.8288469466041748]  %28null%29   \n",
       "9239                  [0.5]  %28null%29   \n",
       "9990                  [0.5]  %28null%29   \n",
       "11115   [0.561440415913448]  %28null%29   \n",
       "\n",
       "                              Entity literalStrings Value literalStrings  \\\n",
       "176    3 methylglutaconyl coa hydratase deficiency                   NaN   \n",
       "4305                                   UCDs \"ucds\"                   NaN   \n",
       "9239          Congenital thickening of tarsal bone                   NaN   \n",
       "9990                               constant pyuria                   NaN   \n",
       "11115                                 cancer plans                   NaN   \n",
       "\n",
       "                         Best Entity literalString Best Value literalString  \\\n",
       "176    3 methylglutaconyl coa hydratase deficiency                      NaN   \n",
       "4305                                          UCDs                      NaN   \n",
       "9239          Congenital thickening of tarsal bone                      NaN   \n",
       "9990                               constant pyuria                      NaN   \n",
       "11115                                 cancer plans                      NaN   \n",
       "\n",
       "       Categories for Entity             Categories for Value  \\\n",
       "176                      NaN   concept:physiologicalcondition   \n",
       "4305                     NaN   concept:physiologicalcondition   \n",
       "9239                     NaN   concept:physiologicalcondition   \n",
       "9990                     NaN   concept:physiologicalcondition   \n",
       "11115                    NaN   concept:physiologicalcondition   \n",
       "\n",
       "                                        Candidate Source     type  \n",
       "176    %5BSEAL-Iter%3A222-2011%2F03%2F20-14%3A11%3A11...  disease  \n",
       "4305   %5BCPL-Iter%3A772-2013%2F09%2F26-09%3A23%3A32-...  disease  \n",
       "9239   %5BSEAL-Iter%3A574-2012%2F05%2F21-02%3A22%3A33...  disease  \n",
       "9990   %5BSEAL-Iter%3A238-2011%2F04%2F18-10%3A46%3A35...  disease  \n",
       "11115  %5BCPL-Iter%3A668-2012%2F12%2F12-20%3A33%3A26-...  disease  "
      ]
     },
     "execution_count": 9,
     "metadata": {},
     "output_type": "execute_result"
    }
   ],
   "source": [
    "df.head()"
   ]
  },
  {
   "cell_type": "code",
   "execution_count": 10,
   "metadata": {
    "collapsed": false
   },
   "outputs": [
    {
     "data": {
      "text/plain": [
       "Index([u'Entity', u'Relation', u'Value', u'Iteration of Candidacy',\n",
       "       u'Candidate Probability', u'Source', u'Entity literalStrings',\n",
       "       u'Value literalStrings', u'Best Entity literalString',\n",
       "       u'Best Value literalString', u'Categories for Entity',\n",
       "       u'Categories for Value', u'Candidate Source', u'type'],\n",
       "      dtype='object')"
      ]
     },
     "execution_count": 10,
     "metadata": {},
     "output_type": "execute_result"
    }
   ],
   "source": [
    "df.columns"
   ]
  },
  {
   "cell_type": "code",
   "execution_count": 15,
   "metadata": {
    "collapsed": false
   },
   "outputs": [],
   "source": [
    "df = df[df['Best Entity literalString'] != 'Type']\n",
    "df = df[df['Best Entity literalString'] != 'FORUMS']"
   ]
  },
  {
   "cell_type": "code",
   "execution_count": 16,
   "metadata": {
    "collapsed": false
   },
   "outputs": [
    {
     "data": {
      "text/plain": [
       "176           3 methylglutaconyl coa hydratase deficiency\n",
       "4305                                                 UCDs\n",
       "9239                 Congenital thickening of tarsal bone\n",
       "9990                                      constant pyuria\n",
       "11115                                        cancer plans\n",
       "11152                                  Vocal cord paresis\n",
       "11382                                Psychogenic pruritus\n",
       "11383                                Psychogenic pruritus\n",
       "11838                                over-65-years-of-age\n",
       "35842          primary herpes infection teratogenic agent\n",
       "38420         Axillary freckling due to neurofibromatosis\n",
       "38495                                                UARS\n",
       "43528                                     scab infections\n",
       "47017                                         colds & flu\n",
       "49482                         and related small molecules\n",
       "49748       MYOCLONIC EPILEPSY OF UNVERRICHT AND LUNDBORG\n",
       "49881                             cosmetics and skin care\n",
       "54264                                            neurooff\n",
       "54503                                   Cleft soft palate\n",
       "59845                                                UCTD\n",
       "60003              chemical poisoning ethylene dichloride\n",
       "60004              chemical poisoning ethylene dichloride\n",
       "60025                       Hyperpigmentation in children\n",
       "60732                                    CMV reactivation\n",
       "60743                 paroxysmal supraventricular tachyca\n",
       "61707                           all intracranial neoplasm\n",
       "63130                                 Mutagen sensitivity\n",
       "63294                                         LifeMasters\n",
       "65705                             Morel-Kraepelin disease\n",
       "66437     Carbohydrate deficient glycoprotein syndrome Ii\n",
       "                               ...                       \n",
       "321220                                         cough/cold\n",
       "321221                                         cough/cold\n",
       "321222                                         cough/cold\n",
       "321223                                         cough/cold\n",
       "321224                                         cough/cold\n",
       "321225                                         cough/cold\n",
       "321226                                         cough/cold\n",
       "321227                                         cough/cold\n",
       "321228                                         cough/cold\n",
       "321229                                         cough/cold\n",
       "321230                                         cough/cold\n",
       "321231                                         cough/cold\n",
       "321232                                         cough/cold\n",
       "321233                                         cough/cold\n",
       "321234                                         cough/cold\n",
       "328444                  Malaria: prevention in travellers\n",
       "339184                                           Raynauds\n",
       "339916         X-linked mental retardation Gustavson type\n",
       "341979                                      deadly rabies\n",
       "355531                                   rare lung cancer\n",
       "356299                                       select menus\n",
       "357818                     transposition of great vessels\n",
       "357819                     transposition of great vessels\n",
       "359762                                breast fibroadenoma\n",
       "371404                           Tests for drug addiction\n",
       "371472                      Amino acid transport disorder\n",
       "371473                      Amino acid transport disorder\n",
       "374334                                 Reflex sympathetic\n",
       "387773                                   disease 10 years\n",
       "387901                          Abacavir hypersensitivity\n",
       "Name: Best Entity literalString, dtype: object"
      ]
     },
     "execution_count": 16,
     "metadata": {},
     "output_type": "execute_result"
    }
   ],
   "source": [
    "df['Best Entity literalString']"
   ]
  },
  {
   "cell_type": "code",
   "execution_count": null,
   "metadata": {
    "collapsed": true
   },
   "outputs": [],
   "source": []
  }
 ],
 "metadata": {
  "kernelspec": {
   "display_name": "Python 2",
   "language": "python",
   "name": "python2"
  },
  "language_info": {
   "codemirror_mode": {
    "name": "ipython",
    "version": 2
   },
   "file_extension": ".py",
   "mimetype": "text/x-python",
   "name": "python",
   "nbconvert_exporter": "python",
   "pygments_lexer": "ipython2",
   "version": "2.7.10"
  }
 },
 "nbformat": 4,
 "nbformat_minor": 0
}
