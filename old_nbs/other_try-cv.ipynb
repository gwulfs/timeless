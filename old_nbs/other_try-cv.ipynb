{
 "cells": [
  {
   "cell_type": "code",
   "execution_count": 74,
   "metadata": {
    "collapsed": true
   },
   "outputs": [],
   "source": [
    "import re\n",
    "import numpy as np\n",
    "import pandas as pd\n",
    "from sklearn.pipeline import Pipeline\n",
    "from sklearn.feature_extraction.text import CountVectorizer\n",
    "from sklearn.feature_extraction.text import TfidfTransformer\n",
    "from sklearn.naive_bayes import MultinomialNB"
   ]
  },
  {
   "cell_type": "code",
   "execution_count": 75,
   "metadata": {
    "collapsed": false
   },
   "outputs": [],
   "source": [
    "df = pd.read_csv(\"full_output_full.csv\")"
   ]
  },
  {
   "cell_type": "code",
   "execution_count": 76,
   "metadata": {
    "collapsed": false
   },
   "outputs": [],
   "source": [
    "df.wiki = df.wiki.map(lambda x: str(x).replace('\\n', ' '))"
   ]
  },
  {
   "cell_type": "code",
   "execution_count": 77,
   "metadata": {
    "collapsed": true
   },
   "outputs": [],
   "source": [
    "df = df[pd.notnull(df[df.columns[2]])]\n",
    "df = df[df[df.columns[2]] != '']\n",
    "df = df[df[df.columns[2]] != 'nan']\n",
    "df['wiki'] = df.wiki.apply(lambda x: x.lower().strip())\n",
    "df['Best Entity literalString'] = df['Best Entity literalString'].apply(lambda x: x.lower().strip())"
   ]
  },
  {
   "cell_type": "code",
   "execution_count": 78,
   "metadata": {
    "collapsed": false
   },
   "outputs": [],
   "source": [
    "df['wiki'] = df['wiki'].map(lambda x: re.sub(r'[^\\x00-\\x7F]','',str(x)))"
   ]
  },
  {
   "cell_type": "code",
   "execution_count": 79,
   "metadata": {
    "collapsed": false,
    "scrolled": true
   },
   "outputs": [],
   "source": [
    "# for index, row in enumerate(df.iterrows()):\n",
    "#     a = row[1][df.columns[1]].find('Signs and symptoms[edit]')\n",
    "#     row[1][df.columns[1]] = row[1][df.columns[1]][a:]\n",
    "#     b = row[1][df.columns[1]].find('[edit]',25)\n",
    "#     row[1][df.columns[1]] = row[1][df.columns[1]][:b]"
   ]
  },
  {
   "cell_type": "code",
   "execution_count": 80,
   "metadata": {
    "collapsed": false,
    "scrolled": true
   },
   "outputs": [
    {
     "data": {
      "text/plain": [
       "array([[1, 0, 0, ..., 0, 0, 0],\n",
       "       [0, 0, 0, ..., 0, 0, 0],\n",
       "       [0, 1, 0, ..., 0, 0, 0],\n",
       "       ..., \n",
       "       [0, 0, 0, ..., 1, 0, 0],\n",
       "       [0, 0, 0, ..., 0, 0, 0],\n",
       "       [0, 0, 0, ..., 0, 1, 0]])"
      ]
     },
     "execution_count": 80,
     "metadata": {},
     "output_type": "execute_result"
    }
   ],
   "source": [
    "vec = CountVectorizer(min_df=1, ngram_range=(1, 2))\n",
    "dic = \"Abdominal Pain Abnormal Facial Speech Acid Reflux (GERD) Acute Sinusitis ADHD (Inattention) Alcohol Withdrawal Allergy Mental Alzheimer's Anal Itching Anaphylaxis Anemia Angular Cheilitis Ankle Pain Anxiety Aphasia Appendicitis Arm Pain Asthma Atrial fibrillation (AFib) Attention (Inattention) Autism Avian Influenza (Bird Flu (Avian Influenza)) Back Breath Beau's Lines Behavior (Unusual Behavior) Benign Positional Vertigo Binge Eating Bipolar  Bird Flu (Avian Influenza) Bladder Infection Bladder Spasms Bleeding Gums Blisters Blood Clot  Blood Semen Urine Bloody Nose Bloody Sputum Blunted Affect (Flat Affect) Blurred Vision Bowel Incontinence (Fecal Incontinence) Brain Aneurysm Brain Tumor Breast Cancer Breast Discharge Breast Lumps Breast Pain Brittle Nails Bronchitis Bumps on Skin Burning Urination Bursitis Buttock Pain Cancer Throat (Throat Cancer) Carbon Monoxide Poisoning Carpal Tunnel Cat Scratch Catatonia (Catatonic Behavior) Cellulitis  Cervical Cancer  Chapped Lips (Cheilitis) Chest Pain Chills Chlamydia Chronic Fatigue Chronic Pain Chronic Sore Throat Cloudy Urine Coccydynia Cold Cold Feet Cold Fingers Cold Hands Colitis Colon Cancer Confusion Constipation Contact Dermatitis COPD Cough Creaking Joints (Joint Cracking) Cyanosis/Turning Blue Cystic Fibrosis Dark Circles Under the Eyes Dark Urine Decreased Appetite Dehydration Delirium Delusions Dengue Depigmentation of Skin Depression Detrusor Contraction (Bladder Spasms) Diabetes Diarrhea Difficulty Concentrating Difficulty Urinating Difficulty With Speech Dilated Pupils (Mydriasis) Diogenes (Self-Neglect) Discharge From Penis (Penile Discharge) Distended Stomach (Abdominal Distention) Distractibility Diverticulitis Dizziness Double Vision Drainage of Pus Drooling Dry Eye Dry Mouth Dry Skin Dysarthria Dyspepsia Dysphagia Earache Easy Bruising Ebola Virus Disease  Elbow Pain Emotional Disorder (Inability to Regulate Emotions) Endocarditis  Enlarged Heart Enterovirus D68 (Non-Polio Enterovirus ) Euphoria EV-D68 (Non-Polio Enterovirus ) Excessive Sweating Excessive Yawning (Yawning) Eye Discharge Eye Pain Eye Twitch Fainting Fatigue and Tiredness Fecal Incontinence Fever Fibromyalgia  Finger Pain Flaky Scalp Flat Affect Flu Fluctuating Mood (Mood Swings) Foot Pain Frequent Urination Gallbladder Attack  Gas Gastritis  Gastroenteritis (Stomach Flu)  Generalized Anxiety Disorder  Giardiasis  Gout  Groin Pain Hair  Hairy Tongue Hallucinations Hand Pain Hand Foot and Mouth Disease  Headache Hearing  Heart Attack in Women  Heart Disease  Heart Failure  Heartburn Heel Pain Hemolysis Hemolytic Anemia (Hemolysis) Hepatitis C (HCV)  Herpes  Hiatal Hernia  High Blood Pressure  Hip Pain HIV Infection  Hoarseness Hot Flashes Hyperactivity Hyperthermia  Hyperthyroidism  Hyperventilation Hypocalcemia  Hypoglycemia  Hypopituitarism  Hypothermia  Hypothyroidism  Impotence Impulsivity Inability to Regulate Emotions Inattention Incontinence Urine Increased Appetite Infectious Mononucleosis (Mono)  Infertility Insomnia Interstitial Cystitis  Invaginated Nipple (Inverted Nipple) Inverted Nipple Irritable Bowel Syndrome (IBS)  Itch Jaundice Jaw Pain Joint Cracking Joint Deformity Joint Pain Joint Popping (Joint Cracking) Joint Redness Joint Stiffness Joint Warmth Kawasaki Disease  Kidney Cancer  Kidney Infection  Kidney Stone  Knee Pain Knee Swelling (Swollen Knee) Koilonychia Labile Mood (Inability to Regulate Emotions) Lack of Facial Expressions Lactase Deficiency (Lactose Intolerance ) Lactose Intolerance  Leg Pain Leg Sores Leg Swelling Leukemia  Limping Liver Cancer   of Appetite  of Speech  of Taste Sensation  of Temperature Sensation Low Blood Pressure  Low Libido Low Testosterone (Low T) Low Urine Output Lump or Mass on Gums Lung Cancer  Lupus  Lyme Disease  Lymph Node Swelling (Swollen Lymph Nodes) Mastitis  Measles (Rubeola)  Memory  Meniere's Disease  Meningitis  Menopause  Menstrual Cramps Metallic Taste in the Mouth Middle Ear Infection  Migraine  Miscarriage  Missed Menstrual Period Mood Swings Motor Tics (Tic) Mouth Sores MRSA Infection  Multiple Myeloma  Multiple Sclerosis (MS)  Mumps  Muscle Cramps Muscle Pain (Myalgia) Muscle Spasticity (Spasticity) Mutism ( of Speech) Nail Clubbing Nail Discoloration Nail Pitting Nail Separation Nasal Congestion Nausea Neck Pain Neglecting Oneself (Self-Neglect) Neonatal Jaundice Nipple Inversion (Inverted Nipple) Nipple Retraction (Inverted Nipple) Non-Polio Enterovirus  Numbness Fingers Numbness or Tingling Sensation in the Tongue Numbness Toes Onychorrhexis (Vertical Ridges on the Fingernails) Ovarian Cancer  Overactive Bladder (Bladder Spasms) Overactive Bladder (OAB)  Pain in the Penis (Penile Pain) Painful Gums Painful Intercourse Pale Skin Palpitations Pancreatic Cancer  Panic Attack  Paralysis Paranoia Peeling Skin Pelvic Pain Penile Discharge Penile Itching Penile Pain Peripheral Neuropathy Phlebitis  Photophobia Pink Eye Pleurisy PMS (Premenstrual Syndrome)  Pneumonia  Polycystic Kidney Disease (PKD)  Poor Hygiene Postnasal Drip  Postpartum Depression  Pregnancy  Prostate Cancer  Proteinuria (Protein in the Urine) Psoriasis  Psoriatic Arthritis  Ptosis Rash Rectal Bleeding Rectal Incontinence (Fecal Incontinence) Rectal Pain Red Spots on the Skin Red Streaks on the Skin Restless Leg Syndrome Rheumatoid Arthritis (RA)  Ringing in Ears Roseola  Runny Nose Scarlet Fever  Schizophrenia  Seizures Self-Neglect Shaking Hands (Hand Tremors) Shingles  Shortness of Breath Shoulder Pain Sinus Infection (Sinusitis)  Small Intestine Cancer  Sneezing Snoring Sore Throat Sore Tongue Spasticity Sternutation (Sneezing) Stiff Neck Stomach Cramps Stomach Ulcer (Peptic Ulcer)  Stool Color & Texture Changes Strange Behavior (Unusual Behavior) Strep Throat  Stroke  Suicide Swine Flu  Swollen Ankles and/or Swollen Feet Swollen Eyes Swollen Joints Swollen Knee Swollen Lip Swollen Lymph Nodes Swollen Testicles Swollen Tongue Swollen Tonsils Tachycardia Testicular Pain Testicular Swelling (Swollen Testicles) Thirst Throat Cancer  Tic Tingling in Hands and Feet Toe Pain Toothache Tremor Tunnel Vision Ulcerative Colitis  Unsteady Gait Unusual Behavior Upper Respiratory Infection  Urge Incontinence (Bladder Spasms) Urinary Retention Urinary Tract Infection (UTI)  Urinary Urgency Urine Odor Vaginal Bleeding Vaginal Discharge Vaginal Dryness Vaginal Itching Vaginal Odor Vaginal Pain Vaginal Yeast Infection  Vertical Ridges on the Fingernails Vertigo Vision  Vocal Outbursts Vocal Tics (Tic) Vomiting Vomiting Blood Watery Eye Weakness Weight Gain Weight  West Nile Virus  Wheezing White Tongue Wrist Pain Yawning\"\n",
    "x = vec.fit_transform(dic.split()).toarray()\n",
    "\n",
    "#normalization\n",
    "\n",
    "row_sums = x.sum(axis=1)\n",
    "new_matrix = x / row_sums[:, np.newaxis]\n",
    "x"
   ]
  },
  {
   "cell_type": "code",
   "execution_count": 81,
   "metadata": {
    "collapsed": false
   },
   "outputs": [],
   "source": [
    "#vec = CountVectorizer(min_df=2, stop_words='english', max_df=.3, ngram_range=(1,2))\n",
    "x = vec.transform(df.wiki).toarray()"
   ]
  },
  {
   "cell_type": "code",
   "execution_count": 82,
   "metadata": {
    "collapsed": false
   },
   "outputs": [],
   "source": [
    "y = 'whats wrong with me'"
   ]
  },
  {
   "cell_type": "code",
   "execution_count": 83,
   "metadata": {
    "collapsed": false
   },
   "outputs": [],
   "source": [
    "new_vector = vec.transform([y]).toarray()"
   ]
  },
  {
   "cell_type": "code",
   "execution_count": 89,
   "metadata": {
    "collapsed": false
   },
   "outputs": [
    {
     "ename": "TypeError",
     "evalue": "'NoneType' object is not callable",
     "output_type": "error",
     "traceback": [
      "\u001b[0;31m---------------------------------------------------------------------------\u001b[0m",
      "\u001b[0;31mTypeError\u001b[0m                                 Traceback (most recent call last)",
      "\u001b[0;32m<ipython-input-89-58e0e53ca566>\u001b[0m in \u001b[0;36m<module>\u001b[0;34m()\u001b[0m\n\u001b[0;32m----> 1\u001b[0;31m \u001b[0mvec\u001b[0m\u001b[0;34m.\u001b[0m\u001b[0mvocabulary\u001b[0m\u001b[0;34m(\u001b[0m\u001b[0;34m)\u001b[0m\u001b[0;34m\u001b[0m\u001b[0m\n\u001b[0m",
      "\u001b[0;31mTypeError\u001b[0m: 'NoneType' object is not callable"
     ]
    }
   ],
   "source": [
    "vec.vocabulary()"
   ]
  },
  {
   "cell_type": "code",
   "execution_count": 85,
   "metadata": {
    "collapsed": false
   },
   "outputs": [],
   "source": [
    "df2 = pd.DataFrame(np.dot(x,np.transpose(new_vector)))"
   ]
  },
  {
   "cell_type": "code",
   "execution_count": 86,
   "metadata": {
    "collapsed": true
   },
   "outputs": [],
   "source": [
    "df2['disease'] = df['Best Entity literalString']"
   ]
  },
  {
   "cell_type": "code",
   "execution_count": 87,
   "metadata": {
    "collapsed": false
   },
   "outputs": [],
   "source": [
    "df2.columns = ['score', 'disease']\n",
    "test = df2.sort('score', ascending=[0])"
   ]
  },
  {
   "cell_type": "code",
   "execution_count": 88,
   "metadata": {
    "collapsed": false
   },
   "outputs": [
    {
     "data": {
      "text/html": [
       "<div>\n",
       "<table border=\"1\" class=\"dataframe\">\n",
       "  <thead>\n",
       "    <tr style=\"text-align: right;\">\n",
       "      <th></th>\n",
       "      <th>score</th>\n",
       "      <th>disease</th>\n",
       "    </tr>\n",
       "  </thead>\n",
       "  <tbody>\n",
       "    <tr>\n",
       "      <th>317</th>\n",
       "      <td>170</td>\n",
       "      <td>a.d.h.d</td>\n",
       "    </tr>\n",
       "    <tr>\n",
       "      <th>664</th>\n",
       "      <td>104</td>\n",
       "      <td>endometrial cancer</td>\n",
       "    </tr>\n",
       "    <tr>\n",
       "      <th>1142</th>\n",
       "      <td>87</td>\n",
       "      <td>schizoaffective disorder</td>\n",
       "    </tr>\n",
       "    <tr>\n",
       "      <th>856</th>\n",
       "      <td>86</td>\n",
       "      <td>rectal prolapse</td>\n",
       "    </tr>\n",
       "    <tr>\n",
       "      <th>185</th>\n",
       "      <td>77</td>\n",
       "      <td>adelaide utd</td>\n",
       "    </tr>\n",
       "    <tr>\n",
       "      <th>1257</th>\n",
       "      <td>71</td>\n",
       "      <td>conduct disorder</td>\n",
       "    </tr>\n",
       "    <tr>\n",
       "      <th>967</th>\n",
       "      <td>68</td>\n",
       "      <td>panic disorder</td>\n",
       "    </tr>\n",
       "    <tr>\n",
       "      <th>1725</th>\n",
       "      <td>68</td>\n",
       "      <td>macroangiopathy</td>\n",
       "    </tr>\n",
       "    <tr>\n",
       "      <th>873</th>\n",
       "      <td>66</td>\n",
       "      <td>21-hydroxylase deficiency</td>\n",
       "    </tr>\n",
       "    <tr>\n",
       "      <th>870</th>\n",
       "      <td>63</td>\n",
       "      <td>chronic traumatic encephalopathy</td>\n",
       "    </tr>\n",
       "    <tr>\n",
       "      <th>114</th>\n",
       "      <td>61</td>\n",
       "      <td>aden jefferies</td>\n",
       "    </tr>\n",
       "    <tr>\n",
       "      <th>823</th>\n",
       "      <td>60</td>\n",
       "      <td>menstrual synchronization</td>\n",
       "    </tr>\n",
       "    <tr>\n",
       "      <th>80</th>\n",
       "      <td>59</td>\n",
       "      <td>atrt</td>\n",
       "    </tr>\n",
       "    <tr>\n",
       "      <th>1483</th>\n",
       "      <td>54</td>\n",
       "      <td>ectopic pregnancy</td>\n",
       "    </tr>\n",
       "    <tr>\n",
       "      <th>954</th>\n",
       "      <td>53</td>\n",
       "      <td>bromidrosiphobia</td>\n",
       "    </tr>\n",
       "    <tr>\n",
       "      <th>1025</th>\n",
       "      <td>51</td>\n",
       "      <td>epithelioid sarcoma</td>\n",
       "    </tr>\n",
       "    <tr>\n",
       "      <th>1282</th>\n",
       "      <td>51</td>\n",
       "      <td>dsm-iv-tr</td>\n",
       "    </tr>\n",
       "    <tr>\n",
       "      <th>1644</th>\n",
       "      <td>51</td>\n",
       "      <td>depersonalization disorder</td>\n",
       "    </tr>\n",
       "    <tr>\n",
       "      <th>1614</th>\n",
       "      <td>51</td>\n",
       "      <td>acute lung injury</td>\n",
       "    </tr>\n",
       "    <tr>\n",
       "      <th>1164</th>\n",
       "      <td>50</td>\n",
       "      <td>congenital abnormality</td>\n",
       "    </tr>\n",
       "    <tr>\n",
       "      <th>623</th>\n",
       "      <td>50</td>\n",
       "      <td>acute pancreatitis</td>\n",
       "    </tr>\n",
       "    <tr>\n",
       "      <th>1186</th>\n",
       "      <td>49</td>\n",
       "      <td>xdr tb</td>\n",
       "    </tr>\n",
       "    <tr>\n",
       "      <th>1211</th>\n",
       "      <td>48</td>\n",
       "      <td>cerebellopontine angle syndrome</td>\n",
       "    </tr>\n",
       "    <tr>\n",
       "      <th>525</th>\n",
       "      <td>48</td>\n",
       "      <td>virchow's disease</td>\n",
       "    </tr>\n",
       "    <tr>\n",
       "      <th>993</th>\n",
       "      <td>47</td>\n",
       "      <td>neuroendocrine cancer</td>\n",
       "    </tr>\n",
       "    <tr>\n",
       "      <th>1239</th>\n",
       "      <td>46</td>\n",
       "      <td>associative agnosia</td>\n",
       "    </tr>\n",
       "    <tr>\n",
       "      <th>965</th>\n",
       "      <td>46</td>\n",
       "      <td>malpuech facial clefting syndrome</td>\n",
       "    </tr>\n",
       "    <tr>\n",
       "      <th>1376</th>\n",
       "      <td>46</td>\n",
       "      <td>attachment disorder</td>\n",
       "    </tr>\n",
       "    <tr>\n",
       "      <th>1226</th>\n",
       "      <td>45</td>\n",
       "      <td>radiodermatitis</td>\n",
       "    </tr>\n",
       "    <tr>\n",
       "      <th>1317</th>\n",
       "      <td>44</td>\n",
       "      <td>pigmented basal cell carcinoma</td>\n",
       "    </tr>\n",
       "    <tr>\n",
       "      <th>...</th>\n",
       "      <td>...</td>\n",
       "      <td>...</td>\n",
       "    </tr>\n",
       "    <tr>\n",
       "      <th>1347</th>\n",
       "      <td>0</td>\n",
       "      <td>madras motor neuron disease</td>\n",
       "    </tr>\n",
       "    <tr>\n",
       "      <th>484</th>\n",
       "      <td>0</td>\n",
       "      <td>aden command</td>\n",
       "    </tr>\n",
       "    <tr>\n",
       "      <th>486</th>\n",
       "      <td>0</td>\n",
       "      <td>risk factors</td>\n",
       "    </tr>\n",
       "    <tr>\n",
       "      <th>489</th>\n",
       "      <td>0</td>\n",
       "      <td>adelieae</td>\n",
       "    </tr>\n",
       "    <tr>\n",
       "      <th>1341</th>\n",
       "      <td>0</td>\n",
       "      <td>carditis</td>\n",
       "    </tr>\n",
       "    <tr>\n",
       "      <th>493</th>\n",
       "      <td>0</td>\n",
       "      <td>adelelmus of flanders</td>\n",
       "    </tr>\n",
       "    <tr>\n",
       "      <th>1381</th>\n",
       "      <td>0</td>\n",
       "      <td>glutathionuria</td>\n",
       "    </tr>\n",
       "    <tr>\n",
       "      <th>446</th>\n",
       "      <td>0</td>\n",
       "      <td>cobalt poisoning</td>\n",
       "    </tr>\n",
       "    <tr>\n",
       "      <th>382</th>\n",
       "      <td>0</td>\n",
       "      <td>adelaide law review</td>\n",
       "    </tr>\n",
       "    <tr>\n",
       "      <th>444</th>\n",
       "      <td>0</td>\n",
       "      <td>giant solitary trichoepithelioma</td>\n",
       "    </tr>\n",
       "    <tr>\n",
       "      <th>1439</th>\n",
       "      <td>0</td>\n",
       "      <td>chromosome 10</td>\n",
       "    </tr>\n",
       "    <tr>\n",
       "      <th>386</th>\n",
       "      <td>0</td>\n",
       "      <td>adelaide echallenge</td>\n",
       "    </tr>\n",
       "    <tr>\n",
       "      <th>387</th>\n",
       "      <td>0</td>\n",
       "      <td>amylophagia</td>\n",
       "    </tr>\n",
       "    <tr>\n",
       "      <th>390</th>\n",
       "      <td>0</td>\n",
       "      <td>adele c. howells</td>\n",
       "    </tr>\n",
       "    <tr>\n",
       "      <th>393</th>\n",
       "      <td>0</td>\n",
       "      <td>adelogonus</td>\n",
       "    </tr>\n",
       "    <tr>\n",
       "      <th>1431</th>\n",
       "      <td>0</td>\n",
       "      <td>methemoglobin</td>\n",
       "    </tr>\n",
       "    <tr>\n",
       "      <th>1430</th>\n",
       "      <td>0</td>\n",
       "      <td>alezzandrini syndrome</td>\n",
       "    </tr>\n",
       "    <tr>\n",
       "      <th>397</th>\n",
       "      <td>0</td>\n",
       "      <td>acting-out</td>\n",
       "    </tr>\n",
       "    <tr>\n",
       "      <th>1425</th>\n",
       "      <td>0</td>\n",
       "      <td>caprine arthritis encephalitis</td>\n",
       "    </tr>\n",
       "    <tr>\n",
       "      <th>401</th>\n",
       "      <td>0</td>\n",
       "      <td>bladder outlet obstruction</td>\n",
       "    </tr>\n",
       "    <tr>\n",
       "      <th>406</th>\n",
       "      <td>0</td>\n",
       "      <td>adelaide remand centre</td>\n",
       "    </tr>\n",
       "    <tr>\n",
       "      <th>412</th>\n",
       "      <td>0</td>\n",
       "      <td>ameboma</td>\n",
       "    </tr>\n",
       "    <tr>\n",
       "      <th>414</th>\n",
       "      <td>0</td>\n",
       "      <td>alphos</td>\n",
       "    </tr>\n",
       "    <tr>\n",
       "      <th>415</th>\n",
       "      <td>0</td>\n",
       "      <td>ada albrecht</td>\n",
       "    </tr>\n",
       "    <tr>\n",
       "      <th>421</th>\n",
       "      <td>0</td>\n",
       "      <td>benign hypertension</td>\n",
       "    </tr>\n",
       "    <tr>\n",
       "      <th>422</th>\n",
       "      <td>0</td>\n",
       "      <td>pseudocowpox</td>\n",
       "    </tr>\n",
       "    <tr>\n",
       "      <th>424</th>\n",
       "      <td>0</td>\n",
       "      <td>http://en.wikipedia.org/wiki/adalbert%20ii,%20...</td>\n",
       "    </tr>\n",
       "    <tr>\n",
       "      <th>1397</th>\n",
       "      <td>0</td>\n",
       "      <td>adenopeltis</td>\n",
       "    </tr>\n",
       "    <tr>\n",
       "      <th>440</th>\n",
       "      <td>0</td>\n",
       "      <td>enzootic</td>\n",
       "    </tr>\n",
       "    <tr>\n",
       "      <th>0</th>\n",
       "      <td>0</td>\n",
       "      <td>psychogenic pruritus</td>\n",
       "    </tr>\n",
       "  </tbody>\n",
       "</table>\n",
       "<p>1753 rows × 2 columns</p>\n",
       "</div>"
      ],
      "text/plain": [
       "      score                                            disease\n",
       "317     170                                            a.d.h.d\n",
       "664     104                                 endometrial cancer\n",
       "1142     87                           schizoaffective disorder\n",
       "856      86                                    rectal prolapse\n",
       "185      77                                       adelaide utd\n",
       "1257     71                                   conduct disorder\n",
       "967      68                                     panic disorder\n",
       "1725     68                                    macroangiopathy\n",
       "873      66                          21-hydroxylase deficiency\n",
       "870      63                   chronic traumatic encephalopathy\n",
       "114      61                                     aden jefferies\n",
       "823      60                          menstrual synchronization\n",
       "80       59                                               atrt\n",
       "1483     54                                  ectopic pregnancy\n",
       "954      53                                   bromidrosiphobia\n",
       "1025     51                                epithelioid sarcoma\n",
       "1282     51                                          dsm-iv-tr\n",
       "1644     51                         depersonalization disorder\n",
       "1614     51                                  acute lung injury\n",
       "1164     50                             congenital abnormality\n",
       "623      50                                 acute pancreatitis\n",
       "1186     49                                             xdr tb\n",
       "1211     48                    cerebellopontine angle syndrome\n",
       "525      48                                  virchow's disease\n",
       "993      47                              neuroendocrine cancer\n",
       "1239     46                                associative agnosia\n",
       "965      46                  malpuech facial clefting syndrome\n",
       "1376     46                                attachment disorder\n",
       "1226     45                                    radiodermatitis\n",
       "1317     44                     pigmented basal cell carcinoma\n",
       "...     ...                                                ...\n",
       "1347      0                        madras motor neuron disease\n",
       "484       0                                       aden command\n",
       "486       0                                       risk factors\n",
       "489       0                                           adelieae\n",
       "1341      0                                           carditis\n",
       "493       0                              adelelmus of flanders\n",
       "1381      0                                     glutathionuria\n",
       "446       0                                   cobalt poisoning\n",
       "382       0                                adelaide law review\n",
       "444       0                   giant solitary trichoepithelioma\n",
       "1439      0                                      chromosome 10\n",
       "386       0                                adelaide echallenge\n",
       "387       0                                        amylophagia\n",
       "390       0                                   adele c. howells\n",
       "393       0                                         adelogonus\n",
       "1431      0                                      methemoglobin\n",
       "1430      0                              alezzandrini syndrome\n",
       "397       0                                         acting-out\n",
       "1425      0                     caprine arthritis encephalitis\n",
       "401       0                         bladder outlet obstruction\n",
       "406       0                             adelaide remand centre\n",
       "412       0                                            ameboma\n",
       "414       0                                             alphos\n",
       "415       0                                       ada albrecht\n",
       "421       0                                benign hypertension\n",
       "422       0                                       pseudocowpox\n",
       "424       0  http://en.wikipedia.org/wiki/adalbert%20ii,%20...\n",
       "1397      0                                        adenopeltis\n",
       "440       0                                           enzootic\n",
       "0         0                               psychogenic pruritus\n",
       "\n",
       "[1753 rows x 2 columns]"
      ]
     },
     "execution_count": 88,
     "metadata": {},
     "output_type": "execute_result"
    }
   ],
   "source": [
    "test"
   ]
  },
  {
   "cell_type": "code",
   "execution_count": null,
   "metadata": {
    "collapsed": true
   },
   "outputs": [],
   "source": []
  },
  {
   "cell_type": "code",
   "execution_count": null,
   "metadata": {
    "collapsed": true
   },
   "outputs": [],
   "source": []
  }
 ],
 "metadata": {
  "kernelspec": {
   "display_name": "Python 2",
   "language": "python",
   "name": "python2"
  },
  "language_info": {
   "codemirror_mode": {
    "name": "ipython",
    "version": 2
   },
   "file_extension": ".py",
   "mimetype": "text/x-python",
   "name": "python",
   "nbconvert_exporter": "python",
   "pygments_lexer": "ipython2",
   "version": "2.7.10"
  }
 },
 "nbformat": 4,
 "nbformat_minor": 0
}
