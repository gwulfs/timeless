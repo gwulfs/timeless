{
 "cells": [
  {
   "cell_type": "code",
   "execution_count": 68,
   "metadata": {
    "collapsed": true
   },
   "outputs": [],
   "source": [
    "import re\n",
    "import numpy as np\n",
    "import pandas as pd\n",
    "from sklearn.feature_extraction.text import CountVectorizer"
   ]
  },
  {
   "cell_type": "code",
   "execution_count": 69,
   "metadata": {
    "collapsed": false
   },
   "outputs": [],
   "source": [
    "df = pd.read_csv(\"../full_output_full.csv\")"
   ]
  },
  {
   "cell_type": "code",
   "execution_count": 70,
   "metadata": {
    "collapsed": false
   },
   "outputs": [],
   "source": [
    "df.wiki = df.wiki.map(lambda x: str(x).replace('\\n', ' '))"
   ]
  },
  {
   "cell_type": "code",
   "execution_count": 71,
   "metadata": {
    "collapsed": true
   },
   "outputs": [],
   "source": [
    "df = df[pd.notnull(df[df.columns[2]])]\n",
    "df = df[df[df.columns[2]] != '']\n",
    "df = df[df[df.columns[2]] != 'nan']\n",
    "df['wiki'] = df.wiki.apply(lambda x: x.lower().strip())\n",
    "df['Best Entity literalString'] = df['Best Entity literalString'].apply(lambda x: x.lower().strip())"
   ]
  },
  {
   "cell_type": "code",
   "execution_count": 72,
   "metadata": {
    "collapsed": false
   },
   "outputs": [],
   "source": [
    "df['wiki'] = df['wiki'].map(lambda x: re.sub(r'[^\\x00-\\x7F]','',str(x)))"
   ]
  },
  {
   "cell_type": "code",
   "execution_count": 73,
   "metadata": {
    "collapsed": false,
    "scrolled": true
   },
   "outputs": [
    {
     "data": {
      "text/plain": [
       "array([[1, 0, 0, ..., 0, 0, 0],\n",
       "       [0, 0, 0, ..., 0, 0, 0],\n",
       "       [0, 1, 0, ..., 0, 0, 0],\n",
       "       ..., \n",
       "       [0, 0, 0, ..., 1, 0, 0],\n",
       "       [0, 0, 0, ..., 0, 0, 0],\n",
       "       [0, 0, 0, ..., 0, 1, 0]])"
      ]
     },
     "execution_count": 73,
     "metadata": {},
     "output_type": "execute_result"
    }
   ],
   "source": [
    "vec = CountVectorizer(min_df=1, ngram_range=(1, 2))\n",
    "dic = \"Abdominal Pain Abnormal Facial Speech Acid Reflux (GERD) Acute Sinusitis ADHD (Inattention) Alcohol Withdrawal Allergy Mental Alzheimer's Anal Itching Anaphylaxis Anemia Angular Cheilitis Ankle Pain Anxiety Aphasia Appendicitis Arm Pain Asthma Atrial fibrillation (AFib) Attention (Inattention) Autism Avian Influenza (Bird Flu (Avian Influenza)) Back Breath Beau's Lines Behavior (Unusual Behavior) Benign Positional Vertigo Binge Eating Bipolar  Bird Flu (Avian Influenza) Bladder Infection Bladder Spasms Bleeding Gums Blisters Blood Clot  Blood Semen Urine Bloody Nose Bloody Sputum Blunted Affect (Flat Affect) Blurred Vision Bowel Incontinence (Fecal Incontinence) Brain Aneurysm Brain Tumor Breast Cancer Breast Discharge Breast Lumps Breast Pain Brittle Nails Bronchitis Bumps on Skin Burning Urination Bursitis Buttock Pain Cancer Throat (Throat Cancer) Carbon Monoxide Poisoning Carpal Tunnel Cat Scratch Catatonia (Catatonic Behavior) Cellulitis  Cervical Cancer  Chapped Lips (Cheilitis) Chest Pain Chills Chlamydia Chronic Fatigue Chronic Pain Chronic Sore Throat Cloudy Urine Coccydynia Cold Cold Feet Cold Fingers Cold Hands Colitis Colon Cancer Confusion Constipation Contact Dermatitis COPD Cough Creaking Joints (Joint Cracking) Cyanosis/Turning Blue Cystic Fibrosis Dark Circles Under the Eyes Dark Urine Decreased Appetite Dehydration Delirium Delusions Dengue Depigmentation of Skin Depression Detrusor Contraction (Bladder Spasms) Diabetes Diarrhea Difficulty Concentrating Difficulty Urinating Difficulty Speech Dilated Pupils (Mydriasis) Diogenes (Self-Neglect) Discharge From Penis (Penile Discharge) Distended Stomach (Abdominal Distention) Distractibility Diverticulitis Dizziness Double Vision Drainage of Pus Drooling Dry Eye Dry Mouth Dry Skin Dysarthria Dyspepsia Dysphagia Earache Easy Bruising Ebola Virus Disease  Elbow Pain Emotional Disorder (Inability to Regulate Emotions) Endocarditis  Enlarged Heart Enterovirus D68 (Non-Polio Enterovirus ) Euphoria EV-D68 (Non-Polio Enterovirus ) Excessive Sweating Excessive Yawning (Yawning) Eye Discharge Eye Pain Eye Twitch Fainting Fatigue and Tiredness Fecal Incontinence Fever Fibromyalgia  Finger Pain Flaky Scalp Flat Affect Flu Fluctuating Mood (Mood Swings) Foot Pain Frequent Urination Gallbladder Attack  Gas Gastritis  Gastroenteritis (Stomach Flu)  Generalized Anxiety Disorder  Giardiasis  Gout  Groin Pain Hair  Hairy Tongue Hallucinations Hand Pain Hand Foot and Mouth Disease  Headache Hearing  Heart Attack in Women  Heart Disease  Heart Failure  Heartburn Heel Pain Hemolysis Hemolytic Anemia (Hemolysis) Hepatitis C (HCV)  Herpes  Hiatal Hernia  High Blood Pressure  Hip Pain HIV Infection  Hoarseness Hot Flashes Hyperactivity Hyperthermia  Hyperthyroidism  Hyperventilation Hypocalcemia  Hypoglycemia  Hypopituitarism  Hypothermia  Hypothyroidism  Impotence Impulsivity Inability to Regulate Emotions Inattention Incontinence Urine Increased Appetite Infectious Mononucleosis (Mono)  Infertility Insomnia Interstitial Cystitis  Invaginated Nipple (Inverted Nipple) Inverted Nipple Irritable Bowel Syndrome (IBS)  Itch Jaundice Jaw Pain Joint Cracking Joint Deformity Joint Pain Joint Popping (Joint Cracking) Joint Redness Joint Stiffness Joint Warmth Kawasaki Disease  Kidney Cancer  Kidney Infection  Kidney Stone  Knee Pain Knee Swelling (Swollen Knee) Koilonychia Labile Mood (Inability to Regulate Emotions) Lack of Facial Expressions Lactase Deficiency (Lactose Intolerance ) Lactose Intolerance  Leg Pain Leg Sores Leg Swelling Leukemia  Limping Liver Cancer   of Appetite  of Speech  of Taste Sensation  of Temperature Sensation Low Blood Pressure  Low Libido Low Testosterone (Low T) Low Urine Output Lump or Mass on Gums Lung Cancer  Lupus  Lyme Disease  Lymph Node Swelling (Swollen Lymph Nodes) Mastitis  Measles (Rubeola)  Memory  Meniere's Disease  Meningitis  Menopause  Menstrual Cramps Metallic Taste in the Mouth Middle Ear Infection  Migraine  Miscarriage  Missed Menstrual Period Mood Swings Motor Tics (Tic) Mouth Sores MRSA Infection  Multiple Myeloma  Multiple Sclerosis (MS)  Mumps  Muscle Cramps Muscle Pain (Myalgia) Muscle Spasticity (Spasticity) Mutism ( of Speech) Nail Clubbing Nail Discoloration Nail Pitting Nail Separation Nasal Congestion Nausea Neck Pain Neglecting Oneself (Self-Neglect) Neonatal Jaundice Nipple Inversion (Inverted Nipple) Nipple Retraction (Inverted Nipple) Non-Polio Enterovirus  Numbness Fingers Numbness or Tingling Sensation in the Tongue Numbness Toes Onychorrhexis (Vertical Ridges on the Fingernails) Ovarian Cancer  Overactive Bladder (Bladder Spasms) Overactive Bladder (OAB)  Pain in the Penis (Penile Pain) Painful Gums Painful Intercourse Pale Skin Palpitations Pancreatic Cancer  Panic Attack  Paralysis Paranoia Peeling Skin Pelvic Pain Penile Discharge Penile Itching Penile Pain Peripheral Neuropathy Phlebitis  Photophobia Pink Eye Pleurisy PMS (Premenstrual Syndrome)  Pneumonia  Polycystic Kidney Disease (PKD)  Poor Hygiene Postnasal Drip  Postpartum Depression  Pregnancy  Prostate Cancer  Proteinuria (Protein in the Urine) Psoriasis  Psoriatic Arthritis  Ptosis Rash Rectal Bleeding Rectal Incontinence (Fecal Incontinence) Rectal Pain Red Spots on the Skin Red Streaks on the Skin Restless Leg Syndrome Rheumatoid Arthritis (RA)  Ringing in Ears Roseola  Runny Nose Scarlet Fever  Schizophrenia  Seizures Self-Neglect Shaking Hands (Hand Tremors) Shingles  Shortness of Breath Shoulder Pain Sinus Infection (Sinusitis)  Small Intestine Cancer  Sneezing Snoring Sore Throat Sore Tongue Spasticity Sternutation (Sneezing) Stiff Neck Stomach Cramps Stomach Ulcer (Peptic Ulcer)  Stool Color & Texture Changes Strange Behavior (Unusual Behavior) Strep Throat  Stroke  Suicide Swine Flu  Swollen Ankles and/or Swollen Feet Swollen Eyes Swollen Joints Swollen Knee Swollen Lip Swollen Lymph Nodes Swollen Testicles Swollen Tongue Swollen Tonsils Tachycardia Testicular Pain Testicular Swelling (Swollen Testicles) Thirst Throat Cancer  Tic Tingling in Hands and Feet Toe Pain Toothache Tremor Tunnel Vision Ulcerative Colitis  Unsteady Gait Unusual Behavior Upper Respiratory Infection  Urge Incontinence (Bladder Spasms) Urinary Retention Urinary Tract Infection (UTI)  Urinary Urgency Urine Odor Vaginal Bleeding Vaginal Discharge Vaginal Dryness Vaginal Itching Vaginal Odor Vaginal Pain Vaginal Yeast Infection  Vertical Ridges on the Fingernails Vertigo Vision  Vocal Outbursts Vocal Tics (Tic) Vomiting Vomiting Blood Watery Eye Weakness Weight Gain Weight  West Nile Virus  Wheezing White Tongue Wrist Pain Yawning\"\n",
    "x = vec.fit_transform(dic.split()).toarray()\n",
    "\n",
    "# normalization\n",
    "\n",
    "row_sums = x.sum(axis=1)\n",
    "new_matrix = x / row_sums[:, np.newaxis]\n",
    "x"
   ]
  },
  {
   "cell_type": "code",
   "execution_count": 74,
   "metadata": {
    "collapsed": false
   },
   "outputs": [],
   "source": [
    "x = vec.transform(df.wiki).toarray()"
   ]
  },
  {
   "cell_type": "code",
   "execution_count": 75,
   "metadata": {
    "collapsed": false
   },
   "outputs": [],
   "source": [
    "y = 'I am feel vertigo'"
   ]
  },
  {
   "cell_type": "code",
   "execution_count": 76,
   "metadata": {
    "collapsed": false
   },
   "outputs": [],
   "source": [
    "new_vector = vec.transform([y]).toarray()"
   ]
  },
  {
   "cell_type": "code",
   "execution_count": 77,
   "metadata": {
    "collapsed": false
   },
   "outputs": [],
   "source": [
    "df2 = pd.DataFrame(np.dot(x,np.transpose(new_vector)))"
   ]
  },
  {
   "cell_type": "code",
   "execution_count": 78,
   "metadata": {
    "collapsed": true
   },
   "outputs": [],
   "source": [
    "df2['disease'] = df['Best Entity literalString']"
   ]
  },
  {
   "cell_type": "code",
   "execution_count": 79,
   "metadata": {
    "collapsed": false
   },
   "outputs": [
    {
     "name": "stderr",
     "output_type": "stream",
     "text": [
      "/Library/Python/2.7/site-packages/IPython/kernel/__main__.py:2: FutureWarning: sort(columns=....) is deprecated, use sort_values(by=.....)\n",
      "  from IPython.kernel.zmq import kernelapp as app\n"
     ]
    }
   ],
   "source": [
    "df2.columns = ['score', 'disease']\n",
    "test = df2.sort('score', ascending=[0])"
   ]
  },
  {
   "cell_type": "code",
   "execution_count": 80,
   "metadata": {
    "collapsed": false
   },
   "outputs": [],
   "source": [
    "import pickle\n",
    "output = open('../app/arpit_model.pkl', 'wb')\n",
    "pickle.dump(x, output)\n",
    "output.close()\n",
    "\n",
    "vect = open('../app/vec.pkl', 'wb')\n",
    "pickle.dump(vec, vect)\n",
    "output.close()"
   ]
  },
  {
   "cell_type": "code",
   "execution_count": 81,
   "metadata": {
    "collapsed": false
   },
   "outputs": [
    {
     "data": {
      "text/plain": [
       "[(2, 'tolosa-hunt syndrome'),\n",
       " (2, 'medial medullary syndrome'),\n",
       " (2, 'meningoencephalitis'),\n",
       " (2, 'nihl'),\n",
       " (2, 'athetosis')]"
      ]
     },
     "execution_count": 81,
     "metadata": {},
     "output_type": "execute_result"
    }
   ],
   "source": [
    "zip(list(test[:5].score), list(test[:5].disease))"
   ]
  },
  {
   "cell_type": "code",
   "execution_count": 82,
   "metadata": {
    "collapsed": false
   },
   "outputs": [
    {
     "data": {
      "text/html": [
       "<div>\n",
       "<table border=\"1\" class=\"dataframe\">\n",
       "  <thead>\n",
       "    <tr style=\"text-align: right;\">\n",
       "      <th></th>\n",
       "      <th>score</th>\n",
       "      <th>disease</th>\n",
       "    </tr>\n",
       "  </thead>\n",
       "  <tbody>\n",
       "    <tr>\n",
       "      <th>898</th>\n",
       "      <td>2</td>\n",
       "      <td>tolosa-hunt syndrome</td>\n",
       "    </tr>\n",
       "    <tr>\n",
       "      <th>980</th>\n",
       "      <td>2</td>\n",
       "      <td>medial medullary syndrome</td>\n",
       "    </tr>\n",
       "    <tr>\n",
       "      <th>1568</th>\n",
       "      <td>2</td>\n",
       "      <td>meningoencephalitis</td>\n",
       "    </tr>\n",
       "    <tr>\n",
       "      <th>1536</th>\n",
       "      <td>2</td>\n",
       "      <td>nihl</td>\n",
       "    </tr>\n",
       "    <tr>\n",
       "      <th>1384</th>\n",
       "      <td>2</td>\n",
       "      <td>athetosis</td>\n",
       "    </tr>\n",
       "  </tbody>\n",
       "</table>\n",
       "</div>"
      ],
      "text/plain": [
       "      score                    disease\n",
       "898       2       tolosa-hunt syndrome\n",
       "980       2  medial medullary syndrome\n",
       "1568      2        meningoencephalitis\n",
       "1536      2                       nihl\n",
       "1384      2                  athetosis"
      ]
     },
     "execution_count": 82,
     "metadata": {},
     "output_type": "execute_result"
    }
   ],
   "source": [
    "test.head()"
   ]
  }
 ],
 "metadata": {
  "kernelspec": {
   "display_name": "Python 2",
   "language": "python",
   "name": "python2"
  },
  "language_info": {
   "codemirror_mode": {
    "name": "ipython",
    "version": 2
   },
   "file_extension": ".py",
   "mimetype": "text/x-python",
   "name": "python",
   "nbconvert_exporter": "python",
   "pygments_lexer": "ipython2",
   "version": "2.7.10"
  }
 },
 "nbformat": 4,
 "nbformat_minor": 0
}
