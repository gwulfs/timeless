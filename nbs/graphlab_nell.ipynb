{
 "cells": [
  {
   "cell_type": "code",
   "execution_count": 1,
   "metadata": {
    "collapsed": false
   },
   "outputs": [
    {
     "name": "stderr",
     "output_type": "stream",
     "text": [
      "A newer version of GraphLab Create (v1.6.1) is available! Your current version is v1.2.1.\n",
      "You can use pip to upgrade the graphlab-create package. For more information see http://graphlab.com/products/create/upgrade."
     ]
    }
   ],
   "source": [
    "import graphlab as gl"
   ]
  },
  {
   "cell_type": "code",
   "execution_count": 2,
   "metadata": {
    "collapsed": false
   },
   "outputs": [
    {
     "name": "stderr",
     "output_type": "stream",
     "text": [
      "[INFO] Start server at: ipc:///tmp/graphlab_server-35139 - Server binary: /Library/Python/2.7/site-packages/graphlab/unity_server - Server log: /tmp/graphlab_server_1447537906.log\n",
      "[INFO] GraphLab Server Version: 1.2.1\n"
     ]
    },
    {
     "name": "stdout",
     "output_type": "stream",
     "text": [
      "PROGRESS: Finished parsing file /Users/gwulfs/Downloads/NELL.08m.955.esv.csv\n",
      "PROGRESS: Parsing completed. Parsed 100 lines in 0.323097 secs.\n",
      "Unable to infer column types. Defaulting to str\n",
      "Could not detect types. Using str for each column.\n",
      "PROGRESS: Unable to parse line \"concept:city:wachapreague\tconcept:haswikipediaurl\thttp://en.wikipedia.org/wiki/Wachapreague,%20Virginia\t710\t0.95\tMBL-Iter%3A710-2013%2F03%2F13-12%3A17%3A37-From+ErrorBasedIntegrator+%28AliasMatcher%28%2C%29%29\t\"wachapreague\" \"Wachapreague\" \t\"http://en.wikipedia.org/wiki/Wachapreague,%20Virginia\" \twachapreague\thttp://en.wikipedia.org/wiki/Wachapreague,%20Virginia\t\t\t%5BAliasMatcher-Iter%3A621-2012%2F08%2F03-10%3A35%3A59-%3Ctoken%3D%3E-Freebase+7%2F9%2F2012%5D\"\n",
      "PROGRESS: Unable to parse line \"concept:trail:moore_park\tconcept:haswikipediaurl\thttp://en.wikipedia.org/wiki/Moore%20Park,%20New%20South%20Wales\t710\t0.95\tMBL-Iter%3A710-2013%2F03%2F13-12%3A17%3A37-From+ErrorBasedIntegrator+%28AliasMatcher%28%2C%29%29\t\"Moore Park\" \t\"http://en.wikipedia.org/wiki/Moore%20Park,%20New%20South%20Wales\" \tMoore Park\thttp://en.wikipedia.org/wiki/Moore%20Park,%20New%20South%20Wales\t\t\t%5BAliasMatcher-Iter%3A621-2012%2F08%2F03-10%3A35%3A59-%3Ctoken%3D%3E-Freebase+7%2F9%2F2012%5D\"\n",
      "PROGRESS: Unable to parse line \"concept:mountain:blue_ranges\tconcept:latitudelongitude\t-18.3500000000000,29.9500000000000\t955\t1.0\tMBL-Iter%3A955-2015%2F10%2F20-01%3A32%3A03-From+ErrorBasedIntegrator+%28LatLongTT%28blue_ranges%2C-18.3500000000000%2C29.9500000000000%29%29\t\"Blue Ranges\" \t\"-18.3500000000000,29.9500000000000\" \tBlue Ranges\t-18.3500000000000,29.9500000000000\t\t\t%5BLatLongTT-Iter%3A592-2012%2F06%2F12-10%3A54%3A59-%3Ctoken%3Dblue_ranges%2C-18.3500000000000%2C29.9500000000000%3E-geonames%3A++blue+ranges%40-18.350%2C29.950%5D\"\n",
      "PROGRESS: Unable to parse line \"concept:athlete:orlovsky\tconcept:latitudelongitude\t49.1166700000000,18.4333300000000\t955\t1.0\tMBL-Iter%3A955-2015%2F10%2F20-01%3A32%3A03-From+ErrorBasedIntegrator+%28LatLong%28orlovsky%2C49.1166700000000%2C18.4333300000000%29%29\t\"Orlovsky\" \t\"49.1166700000000,18.4333300000000\" \tOrlovsky\t49.1166700000000,18.4333300000000\t\t\t%5BLatLong-Iter%3A286-2011%2F06%2F04-22%3A58%3A51-%3Ctoken%3Dorlovsky%2C49.1166700000000%2C18.4333300000000%3E-orlovsky+dvor%4049.117%2C18.433%5D\"\n",
      "PROGRESS: Unable to parse line \"concept:landscapefeatures:golden_sand_beach\tconcept:latitudelongitude\t9.4601500000000,100.0420000000000\t955\t1.0\tMBL-Iter%3A955-2015%2F10%2F20-01%3A32%3A03-From+ErrorBasedIntegrator+%28LatLong%28golden_sand_beach%2C9.4601500000000%2C100.0420000000000%29%2C+LatLongTT%28golden_sand_beach%2C9.4601500000000%2C100.0420000000000%29%29\t\"golden sand beach\" \t\"9.4601500000000,100.0420000000000\" \tgolden sand beach\t9.4601500000000,100.0420000000000\t\t\t%5BLatLong-Iter%3A448-2011%2F11%2F04-18%3A01%3A05-%3Ctoken%3Dgolden_sand_beach%2C9.4601500000000%2C100.0420000000000%3E-golden+sand+beach+resort%409.460%2C100.042%2C+LatLongTT-Iter%3A565-2012%2F05%2F10-22%3A07%3A25-%3Ctoken%3Dgolden_sand_beach%2C9.4601500000000%2C100.0420000000000%3E-geonames%3A++golden+sand+beach+resort%409.460%2C100.042%5D\"\n",
      "PROGRESS: Unable to parse line \"concept:stateorprovince:matabeleland_north\tconcept:latitudelongitude\t-19.0000000000000,27.5000000000000\t955\t1.0\tMBL-Iter%3A955-2015%2F10%2F20-01%3A32%3A03-From+ErrorBasedIntegrator+%28LatLong%28matabeleland_north%2C-19.0000000000000%2C27.5000000000000%29%2C+LatLongTT%28matabeleland_north%2C-19.0000000000000%2C27.5000000000000%29%29\t\"Matabeleland North\" \t\"-19.0000000000000,27.5000000000000\" \tMatabeleland North\t-19.0000000000000,27.5000000000000\t\t\t%5BLatLong-Iter%3A427-2011%2F09%2F26-15%3A01%3A06-%3Ctoken%3Dmatabeleland_north%2C-19.0000000000000%2C27.5000000000000%3E-matabeleland+north+province%40-19.000%2C27.500+matabeleland+north%40-19.000%2C27.500%2C+LatLongTT-Iter%3A565-2012%2F05%2F10-22%3A07%3A25-%3Ctoken%3Dmatabeleland_north%2C-19.0000000000000%2C27.5000000000000%3E-geonames%3A++matabeleland+north+province%40-19.000%2C27.500+matabeleland+north%40-19.000%2C27.500%5D\"\n",
      "PROGRESS: Unable to parse line \"concept:governmentorganization:saami\tconcept:latitudelongitude\t37.8217800000000,127.7793400000000\t955\t1.0\tMBL-Iter%3A955-2015%2F10%2F20-01%3A32%3A03-From+ErrorBasedIntegrator+%28LatLong%28saami%2C37.8217800000000%2C127.7793400000000%29%2C+LatLongTT%28saami%2C37.8217800000000%2C127.7793400000000%29%29\t\"Saami\" \"saami\" \"SAAMI\" \t\"37.8217800000000,127.7793400000000\" \tSaami\t37.8217800000000,127.7793400000000\t\t\t%5BLatLong-Iter%3A170-2010%2F11%2F18-21%3A27%3A54-%3Ctoken%3Dsaami%2C37.8217800000000%2C127.7793400000000%3E-saami-gyo%4037.822%2C127.779%2C+LatLongTT-Iter%3A565-2012%2F05%2F10-22%3A07%3A25-%3Ctoken%3Dsaami%2C37.8217800000000%2C127.7793400000000%3E-geonames%3A++saami-gyo%4037.822%2C127.779+saami-gyo%4037.822%2C127.779%5D\"\n",
      "PROGRESS: Unable to parse line \"concept:male:akashi\tconcept:haswikipediaurl\thttp://en.wikipedia.org/wiki/Akashi,%20Hy%C5%8Dgo\t710\t0.95\tMBL-Iter%3A710-2013%2F03%2F13-12%3A17%3A37-From+ErrorBasedIntegrator+%28AliasMatcher%28%2C%29%29\t\"Akashi\" \"akashi\" \t\"http://en.wikipedia.org/wiki/Akashi,%20Hy%C5%8Dgo\" \tAkashi\thttp://en.wikipedia.org/wiki/Akashi,%20Hy%C5%8Dgo\t\t\t%5BAliasMatcher-Iter%3A621-2012%2F08%2F03-10%3A35%3A59-%3Ctoken%3D%3E-Freebase+7%2F9%2F2012%5D\"\n",
      "PROGRESS: Unable to parse line \"concept:county:ira_township\tconcept:haswikipediaurl\thttp://en.wikipedia.org/wiki/Ira%20Township,%20Michigan\t710\t0.95\tMBL-Iter%3A710-2013%2F03%2F13-12%3A17%3A37-From+ErrorBasedIntegrator+%28AliasMatcher%28%2C%29%29\t\"Ira Township\" \t\"http://en.wikipedia.org/wiki/Ira%20Township,%20Michigan\" \tIra Township\thttp://en.wikipedia.org/wiki/Ira%20Township,%20Michigan\t\t\t%5BAliasMatcher-Iter%3A621-2012%2F08%2F03-10%3A35%3A59-%3Ctoken%3D%3E-Freebase+7%2F9%2F2012%5D\"\n",
      "PROGRESS: Unable to parse line \"concept:governmentorganization:ohio_epa\tconcept:organizationheadquarteredincountry\tconcept:country:u_s_\t955\t0.96875\tMBL-Iter%3A955-2015%2F10%2F20-01%3A32%3A03-From+ErrorBasedIntegrator+%28CPL%28ohio_epa%2Cu_s_%29%29\t\"Ohio EPA\" \t\"u_s_\" \"u.s. virgin islands\" \"u .s\" \"U$ S\" \"U.S)\" \"U. S\" \"u  s\" \"u.'s\" \"U.S.\" \"U.s.\" \"U.S-\" \"U,S.\" \"U.S. Virgin Islands\" \"U.s. Virgin Islands\" \tOhio EPA\tu_s_\t\t concept:country\t%5BCPL-Iter%3A884-2014%2F11%2F03-07%3A12%3A31-%3Ctoken%3Dohio_epa%2Cu_s_%3E-arg2+Air+Force+and+arg1%091%09arg2+Army+Corps+of+Engineers+and+arg1%091%09arg2+Fish+and+Wildlife+Service+and+arg1%091%09arg2+Environmental+Protection+Agency+and+arg1%091%09arg2+Geological+Survey+and+arg1%091%5D\"\n",
      "PROGRESS: Unable to parse line \"concept:mountain:mont_boron\tconcept:latitudelongitude\t43.7000000000000,7.3000000000000\t955\t1.0\tMBL-Iter%3A955-2015%2F10%2F20-01%3A32%3A03-From+ErrorBasedIntegrator+%28LatLongTT%28mont_boron%2C43.7000000000000%2C7.3000000000000%29%29\t\"Mont Boron\" \"Mont-Boron\" \t\"43.7000000000000,7.3000000000000\" \tMont Boron\t43.7000000000000,7.3000000000000\t\t\t%5BLatLongTT-Iter%3A506-2012%2F02%2F09-17%3A14%3A27-%3Ctoken%3Dmont_boron%2C43.7000000000000%2C7.3000000000000%3E-geonames%3A++mont+boron%4043.700%2C7.300%5D\"\n",
      "PROGRESS: Read 81355 lines. Lines per second: 90447.9\n",
      "PROGRESS: Read 430007 lines. Lines per second: 70035.7\n",
      "PROGRESS: Read 809007 lines. Lines per second: 67900\n",
      "PROGRESS: Read 1006389 lines. Lines per second: 59282.6\n",
      "PROGRESS: Read 1209678 lines. Lines per second: 54207.1\n",
      "PROGRESS: Read 1440227 lines. Lines per second: 52220.4\n",
      "PROGRESS: Read 1760667 lines. Lines per second: 54004.4\n",
      "PROGRESS: Read 2195532 lines. Lines per second: 57963.8\n",
      "PROGRESS: 17623 lines failed to parse correctly\n",
      "PROGRESS: Finished parsing file /Users/gwulfs/Downloads/NELL.08m.955.esv.csv\n",
      "PROGRESS: Parsing completed. Parsed 2470872 lines in 41.1305 secs.\n"
     ]
    }
   ],
   "source": [
    "gf = gl.SFrame.read_csv('/Users/gwulfs/Downloads/NELL.08m.955.esv.csv')"
   ]
  },
  {
   "cell_type": "code",
   "execution_count": 3,
   "metadata": {
    "collapsed": false
   },
   "outputs": [],
   "source": [
    "gf['type'] = gf[gf.column_names()[0]].apply(lambda x: x.split()[0][8:].split(':')[0])"
   ]
  },
  {
   "cell_type": "code",
   "execution_count": 4,
   "metadata": {
    "collapsed": false
   },
   "outputs": [],
   "source": [
    "gf.show()"
   ]
  },
  {
   "cell_type": "code",
   "execution_count": null,
   "metadata": {
    "collapsed": true
   },
   "outputs": [],
   "source": []
  }
 ],
 "metadata": {
  "kernelspec": {
   "display_name": "Python 2",
   "language": "python",
   "name": "python2"
  },
  "language_info": {
   "codemirror_mode": {
    "name": "ipython",
    "version": 2
   },
   "file_extension": ".py",
   "mimetype": "text/x-python",
   "name": "python",
   "nbconvert_exporter": "python",
   "pygments_lexer": "ipython2",
   "version": "2.7.10"
  }
 },
 "nbformat": 4,
 "nbformat_minor": 0
}
