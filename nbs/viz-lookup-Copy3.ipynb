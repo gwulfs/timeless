{
 "cells": [
  {
   "cell_type": "code",
   "execution_count": 2,
   "metadata": {
    "collapsed": false
   },
   "outputs": [],
   "source": [
    "import pandas as pd"
   ]
  },
  {
   "cell_type": "code",
   "execution_count": 3,
   "metadata": {
    "collapsed": false
   },
   "outputs": [],
   "source": [
    "df = pd.read_csv('nell-disease.csv', delimiter='\\t', nrows=52556)"
   ]
  },
  {
   "cell_type": "code",
   "execution_count": 4,
   "metadata": {
    "collapsed": false
   },
   "outputs": [
    {
     "data": {
      "text/html": [
       "<div>\n",
       "<table border=\"1\" class=\"dataframe\">\n",
       "  <thead>\n",
       "    <tr style=\"text-align: right;\">\n",
       "      <th></th>\n",
       "      <th>Entity</th>\n",
       "      <th>Relation</th>\n",
       "      <th>Value</th>\n",
       "      <th>Iteration of Promotion</th>\n",
       "      <th>Probability</th>\n",
       "      <th>Source</th>\n",
       "      <th>Entity literalStrings</th>\n",
       "      <th>Value literalStrings</th>\n",
       "      <th>Best Entity literalString</th>\n",
       "      <th>Best Value literalString</th>\n",
       "      <th>Categories for Entity</th>\n",
       "      <th>Categories for Value</th>\n",
       "      <th>Candidate Source</th>\n",
       "      <th>Unnamed: 13</th>\n",
       "      <th>Unnamed: 14</th>\n",
       "      <th>Unnamed: 15</th>\n",
       "      <th>Unnamed: 16</th>\n",
       "    </tr>\n",
       "  </thead>\n",
       "  <tbody>\n",
       "    <tr>\n",
       "      <th>0</th>\n",
       "      <td>psychogenic_pruritus</td>\n",
       "      <td>concept:haswikipediaurl</td>\n",
       "      <td>http://en.wikipedia.org/wiki/Psychogenic%20pru...</td>\n",
       "      <td>710</td>\n",
       "      <td>0.95</td>\n",
       "      <td>MBL-Iter%3A710-2013%2F03%2F13-12%3A17%3A37-Fro...</td>\n",
       "      <td>Psychogenic pruritus</td>\n",
       "      <td>http://en.wikipedia.org/wiki/Psychogenic%20pru...</td>\n",
       "      <td>Psychogenic pruritus</td>\n",
       "      <td>http://en.wikipedia.org/wiki/Psychogenic%20pru...</td>\n",
       "      <td>NaN</td>\n",
       "      <td>NaN</td>\n",
       "      <td>%5BAliasMatcher-Iter%3A621-2012%2F08%2F03-10%3...</td>\n",
       "      <td>NaN</td>\n",
       "      <td>NaN</td>\n",
       "      <td>NaN</td>\n",
       "      <td>NaN</td>\n",
       "    </tr>\n",
       "    <tr>\n",
       "      <th>1</th>\n",
       "      <td>hydrophthalmos</td>\n",
       "      <td>concept:haswikipediaurl</td>\n",
       "      <td>http://en.wikipedia.org/wiki/Hydrophthalmos</td>\n",
       "      <td>710</td>\n",
       "      <td>0.95</td>\n",
       "      <td>MBL-Iter%3A710-2013%2F03%2F13-12%3A17%3A37-Fro...</td>\n",
       "      <td>Hydrophthalmos</td>\n",
       "      <td>http://en.wikipedia.org/wiki/Hydrophthalmos</td>\n",
       "      <td>Hydrophthalmos</td>\n",
       "      <td>http://en.wikipedia.org/wiki/Hydrophthalmos</td>\n",
       "      <td>NaN</td>\n",
       "      <td>NaN</td>\n",
       "      <td>%5BAliasMatcher-Iter%3A621-2012%2F08%2F03-10%3...</td>\n",
       "      <td>NaN</td>\n",
       "      <td>NaN</td>\n",
       "      <td>NaN</td>\n",
       "      <td>NaN</td>\n",
       "    </tr>\n",
       "    <tr>\n",
       "      <th>2</th>\n",
       "      <td>amino_acid_transport_disorder</td>\n",
       "      <td>concept:haswikipediaurl</td>\n",
       "      <td>http://en.wikipedia.org/wiki/Amino%20acid%20tr...</td>\n",
       "      <td>710</td>\n",
       "      <td>0.95</td>\n",
       "      <td>MBL-Iter%3A710-2013%2F03%2F13-12%3A17%3A37-Fro...</td>\n",
       "      <td>Amino acid transport disorder</td>\n",
       "      <td>http://en.wikipedia.org/wiki/Amino%20acid%20tr...</td>\n",
       "      <td>Amino acid transport disorder</td>\n",
       "      <td>http://en.wikipedia.org/wiki/Amino%20acid%20tr...</td>\n",
       "      <td>NaN</td>\n",
       "      <td>NaN</td>\n",
       "      <td>%5BAliasMatcher-Iter%3A621-2012%2F08%2F03-10%3...</td>\n",
       "      <td>NaN</td>\n",
       "      <td>NaN</td>\n",
       "      <td>NaN</td>\n",
       "      <td>NaN</td>\n",
       "    </tr>\n",
       "    <tr>\n",
       "      <th>3</th>\n",
       "      <td>adelaide_hanscom</td>\n",
       "      <td>concept:haswikipediaurl</td>\n",
       "      <td>http://en.wikipedia.org/wiki/Adelaide%20Hansco...</td>\n",
       "      <td>710</td>\n",
       "      <td>0.95</td>\n",
       "      <td>MBL-Iter%3A710-2013%2F03%2F13-12%3A17%3A37-Fro...</td>\n",
       "      <td>Adelaide Hanscom</td>\n",
       "      <td>http://en.wikipedia.org/wiki/Adelaide%20Hansco...</td>\n",
       "      <td>Adelaide Hanscom</td>\n",
       "      <td>http://en.wikipedia.org/wiki/Adelaide%20Hansco...</td>\n",
       "      <td>NaN</td>\n",
       "      <td>NaN</td>\n",
       "      <td>%5BAliasMatcher-Iter%3A621-2012%2F08%2F03-10%3...</td>\n",
       "      <td>NaN</td>\n",
       "      <td>NaN</td>\n",
       "      <td>NaN</td>\n",
       "      <td>NaN</td>\n",
       "    </tr>\n",
       "    <tr>\n",
       "      <th>4</th>\n",
       "      <td>trachoma</td>\n",
       "      <td>concept:haswikipediaurl</td>\n",
       "      <td>http://en.wikipedia.org/wiki/Trachoma</td>\n",
       "      <td>710</td>\n",
       "      <td>0.95</td>\n",
       "      <td>MBL-Iter%3A710-2013%2F03%2F13-12%3A17%3A37-Fro...</td>\n",
       "      <td>trachoma \"Trachoma\"</td>\n",
       "      <td>http://en.wikipedia.org/wiki/Trachoma</td>\n",
       "      <td>trachoma</td>\n",
       "      <td>http://en.wikipedia.org/wiki/Trachoma</td>\n",
       "      <td>NaN</td>\n",
       "      <td>NaN</td>\n",
       "      <td>%5BAliasMatcher-Iter%3A621-2012%2F08%2F03-10%3...</td>\n",
       "      <td>NaN</td>\n",
       "      <td>NaN</td>\n",
       "      <td>NaN</td>\n",
       "      <td>NaN</td>\n",
       "    </tr>\n",
       "  </tbody>\n",
       "</table>\n",
       "</div>"
      ],
      "text/plain": [
       "                          Entity                 Relation  \\\n",
       "0           psychogenic_pruritus  concept:haswikipediaurl   \n",
       "1                 hydrophthalmos  concept:haswikipediaurl   \n",
       "2  amino_acid_transport_disorder  concept:haswikipediaurl   \n",
       "3               adelaide_hanscom  concept:haswikipediaurl   \n",
       "4                       trachoma  concept:haswikipediaurl   \n",
       "\n",
       "                                               Value Iteration of Promotion  \\\n",
       "0  http://en.wikipedia.org/wiki/Psychogenic%20pru...                    710   \n",
       "1        http://en.wikipedia.org/wiki/Hydrophthalmos                    710   \n",
       "2  http://en.wikipedia.org/wiki/Amino%20acid%20tr...                    710   \n",
       "3  http://en.wikipedia.org/wiki/Adelaide%20Hansco...                    710   \n",
       "4              http://en.wikipedia.org/wiki/Trachoma                    710   \n",
       "\n",
       "  Probability                                             Source  \\\n",
       "0        0.95  MBL-Iter%3A710-2013%2F03%2F13-12%3A17%3A37-Fro...   \n",
       "1        0.95  MBL-Iter%3A710-2013%2F03%2F13-12%3A17%3A37-Fro...   \n",
       "2        0.95  MBL-Iter%3A710-2013%2F03%2F13-12%3A17%3A37-Fro...   \n",
       "3        0.95  MBL-Iter%3A710-2013%2F03%2F13-12%3A17%3A37-Fro...   \n",
       "4        0.95  MBL-Iter%3A710-2013%2F03%2F13-12%3A17%3A37-Fro...   \n",
       "\n",
       "            Entity literalStrings  \\\n",
       "0           Psychogenic pruritus    \n",
       "1                 Hydrophthalmos    \n",
       "2  Amino acid transport disorder    \n",
       "3               Adelaide Hanscom    \n",
       "4            trachoma \"Trachoma\"    \n",
       "\n",
       "                                Value literalStrings  \\\n",
       "0  http://en.wikipedia.org/wiki/Psychogenic%20pru...   \n",
       "1       http://en.wikipedia.org/wiki/Hydrophthalmos    \n",
       "2  http://en.wikipedia.org/wiki/Amino%20acid%20tr...   \n",
       "3  http://en.wikipedia.org/wiki/Adelaide%20Hansco...   \n",
       "4             http://en.wikipedia.org/wiki/Trachoma    \n",
       "\n",
       "       Best Entity literalString  \\\n",
       "0           Psychogenic pruritus   \n",
       "1                 Hydrophthalmos   \n",
       "2  Amino acid transport disorder   \n",
       "3               Adelaide Hanscom   \n",
       "4                       trachoma   \n",
       "\n",
       "                            Best Value literalString Categories for Entity  \\\n",
       "0  http://en.wikipedia.org/wiki/Psychogenic%20pru...                   NaN   \n",
       "1        http://en.wikipedia.org/wiki/Hydrophthalmos                   NaN   \n",
       "2  http://en.wikipedia.org/wiki/Amino%20acid%20tr...                   NaN   \n",
       "3  http://en.wikipedia.org/wiki/Adelaide%20Hansco...                   NaN   \n",
       "4              http://en.wikipedia.org/wiki/Trachoma                   NaN   \n",
       "\n",
       "  Categories for Value                                   Candidate Source  \\\n",
       "0                  NaN  %5BAliasMatcher-Iter%3A621-2012%2F08%2F03-10%3...   \n",
       "1                  NaN  %5BAliasMatcher-Iter%3A621-2012%2F08%2F03-10%3...   \n",
       "2                  NaN  %5BAliasMatcher-Iter%3A621-2012%2F08%2F03-10%3...   \n",
       "3                  NaN  %5BAliasMatcher-Iter%3A621-2012%2F08%2F03-10%3...   \n",
       "4                  NaN  %5BAliasMatcher-Iter%3A621-2012%2F08%2F03-10%3...   \n",
       "\n",
       "  Unnamed: 13 Unnamed: 14  Unnamed: 15 Unnamed: 16  \n",
       "0         NaN         NaN          NaN         NaN  \n",
       "1         NaN         NaN          NaN         NaN  \n",
       "2         NaN         NaN          NaN         NaN  \n",
       "3         NaN         NaN          NaN         NaN  \n",
       "4         NaN         NaN          NaN         NaN  "
      ]
     },
     "execution_count": 4,
     "metadata": {},
     "output_type": "execute_result"
    }
   ],
   "source": [
    "df.head()"
   ]
  },
  {
   "cell_type": "code",
   "execution_count": 5,
   "metadata": {
    "collapsed": false
   },
   "outputs": [
    {
     "data": {
      "text/plain": [
       "18630"
      ]
     },
     "execution_count": 5,
     "metadata": {},
     "output_type": "execute_result"
    }
   ],
   "source": [
    "len(df)"
   ]
  },
  {
   "cell_type": "code",
   "execution_count": 6,
   "metadata": {
    "collapsed": false
   },
   "outputs": [],
   "source": [
    "# import urllib\n",
    "# import urllib2\n",
    "# from BeautifulSoup import BeautifulSoup\n",
    "\n",
    "# opener = urllib2.build_opener()\n",
    "# opener.addheaders = [('User-agent', 'Mozilla/5.0')]\n",
    "\n",
    "# data = resource.read()\n",
    "# resource.close()\n",
    "# soup = BeautifulSoup(data)\n",
    "# df['txt'] = df['Value'].map(lambda x:BeautifulSoup(opener.open(x).read().find('div',id=\"bodyContent\").p))"
   ]
  },
  {
   "cell_type": "code",
   "execution_count": 7,
   "metadata": {
    "collapsed": false
   },
   "outputs": [
    {
     "data": {
      "text/html": [
       "<div>\n",
       "<table border=\"1\" class=\"dataframe\">\n",
       "  <thead>\n",
       "    <tr style=\"text-align: right;\">\n",
       "      <th></th>\n",
       "      <th>Entity</th>\n",
       "      <th>Relation</th>\n",
       "      <th>Value</th>\n",
       "      <th>Iteration of Promotion</th>\n",
       "      <th>Probability</th>\n",
       "      <th>Source</th>\n",
       "      <th>Entity literalStrings</th>\n",
       "      <th>Value literalStrings</th>\n",
       "      <th>Best Entity literalString</th>\n",
       "      <th>Best Value literalString</th>\n",
       "      <th>Categories for Entity</th>\n",
       "      <th>Categories for Value</th>\n",
       "      <th>Candidate Source</th>\n",
       "      <th>Unnamed: 13</th>\n",
       "      <th>Unnamed: 14</th>\n",
       "      <th>Unnamed: 15</th>\n",
       "      <th>Unnamed: 16</th>\n",
       "    </tr>\n",
       "  </thead>\n",
       "  <tbody>\n",
       "    <tr>\n",
       "      <th>0</th>\n",
       "      <td>psychogenic_pruritus</td>\n",
       "      <td>concept:haswikipediaurl</td>\n",
       "      <td>http://en.wikipedia.org/wiki/Psychogenic%20pru...</td>\n",
       "      <td>710</td>\n",
       "      <td>0.95</td>\n",
       "      <td>MBL-Iter%3A710-2013%2F03%2F13-12%3A17%3A37-Fro...</td>\n",
       "      <td>Psychogenic pruritus</td>\n",
       "      <td>http://en.wikipedia.org/wiki/Psychogenic%20pru...</td>\n",
       "      <td>Psychogenic pruritus</td>\n",
       "      <td>http://en.wikipedia.org/wiki/Psychogenic%20pru...</td>\n",
       "      <td>NaN</td>\n",
       "      <td>NaN</td>\n",
       "      <td>%5BAliasMatcher-Iter%3A621-2012%2F08%2F03-10%3...</td>\n",
       "      <td>NaN</td>\n",
       "      <td>NaN</td>\n",
       "      <td>NaN</td>\n",
       "      <td>NaN</td>\n",
       "    </tr>\n",
       "  </tbody>\n",
       "</table>\n",
       "</div>"
      ],
      "text/plain": [
       "                 Entity                 Relation  \\\n",
       "0  psychogenic_pruritus  concept:haswikipediaurl   \n",
       "\n",
       "                                               Value Iteration of Promotion  \\\n",
       "0  http://en.wikipedia.org/wiki/Psychogenic%20pru...                    710   \n",
       "\n",
       "  Probability                                             Source  \\\n",
       "0        0.95  MBL-Iter%3A710-2013%2F03%2F13-12%3A17%3A37-Fro...   \n",
       "\n",
       "   Entity literalStrings                               Value literalStrings  \\\n",
       "0  Psychogenic pruritus   http://en.wikipedia.org/wiki/Psychogenic%20pru...   \n",
       "\n",
       "  Best Entity literalString  \\\n",
       "0      Psychogenic pruritus   \n",
       "\n",
       "                            Best Value literalString Categories for Entity  \\\n",
       "0  http://en.wikipedia.org/wiki/Psychogenic%20pru...                   NaN   \n",
       "\n",
       "  Categories for Value                                   Candidate Source  \\\n",
       "0                  NaN  %5BAliasMatcher-Iter%3A621-2012%2F08%2F03-10%3...   \n",
       "\n",
       "  Unnamed: 13 Unnamed: 14  Unnamed: 15 Unnamed: 16  \n",
       "0         NaN         NaN          NaN         NaN  "
      ]
     },
     "execution_count": 7,
     "metadata": {},
     "output_type": "execute_result"
    }
   ],
   "source": [
    "df.head(1)"
   ]
  },
  {
   "cell_type": "code",
   "execution_count": 8,
   "metadata": {
    "collapsed": false
   },
   "outputs": [],
   "source": [
    "df = df.drop_duplicates('Entity')"
   ]
  },
  {
   "cell_type": "code",
   "execution_count": 9,
   "metadata": {
    "collapsed": false
   },
   "outputs": [
    {
     "data": {
      "text/plain": [
       "17257"
      ]
     },
     "execution_count": 9,
     "metadata": {},
     "output_type": "execute_result"
    }
   ],
   "source": [
    "len(df)"
   ]
  },
  {
   "cell_type": "code",
   "execution_count": 10,
   "metadata": {
    "collapsed": false
   },
   "outputs": [
    {
     "name": "stdout",
     "output_type": "stream",
     "text": [
      "Installed autotime.py. To use it, type:\n",
      "  %load_ext autotime\n"
     ]
    }
   ],
   "source": [
    "%install_ext https://raw.github.com/cpcloud/ipython-autotime/master/autotime.py"
   ]
  },
  {
   "cell_type": "code",
   "execution_count": 11,
   "metadata": {
    "collapsed": true
   },
   "outputs": [],
   "source": [
    "%load_ext autotime"
   ]
  },
  {
   "cell_type": "code",
   "execution_count": 12,
   "metadata": {
    "collapsed": false
   },
   "outputs": [
    {
     "data": {
      "text/html": [
       "<div>\n",
       "<table border=\"1\" class=\"dataframe\">\n",
       "  <thead>\n",
       "    <tr style=\"text-align: right;\">\n",
       "      <th></th>\n",
       "      <th>Entity</th>\n",
       "      <th>Relation</th>\n",
       "      <th>Value</th>\n",
       "      <th>Iteration of Promotion</th>\n",
       "      <th>Probability</th>\n",
       "      <th>Source</th>\n",
       "      <th>Entity literalStrings</th>\n",
       "      <th>Value literalStrings</th>\n",
       "      <th>Best Entity literalString</th>\n",
       "      <th>Best Value literalString</th>\n",
       "      <th>Categories for Entity</th>\n",
       "      <th>Categories for Value</th>\n",
       "      <th>Candidate Source</th>\n",
       "      <th>Unnamed: 13</th>\n",
       "      <th>Unnamed: 14</th>\n",
       "      <th>Unnamed: 15</th>\n",
       "      <th>Unnamed: 16</th>\n",
       "    </tr>\n",
       "  </thead>\n",
       "  <tbody>\n",
       "    <tr>\n",
       "      <th>0</th>\n",
       "      <td>psychogenic_pruritus</td>\n",
       "      <td>concept:haswikipediaurl</td>\n",
       "      <td>http://en.wikipedia.org/wiki/Psychogenic%20pru...</td>\n",
       "      <td>710</td>\n",
       "      <td>0.95</td>\n",
       "      <td>MBL-Iter%3A710-2013%2F03%2F13-12%3A17%3A37-Fro...</td>\n",
       "      <td>Psychogenic pruritus</td>\n",
       "      <td>http://en.wikipedia.org/wiki/Psychogenic%20pru...</td>\n",
       "      <td>Psychogenic pruritus</td>\n",
       "      <td>http://en.wikipedia.org/wiki/Psychogenic%20pru...</td>\n",
       "      <td>NaN</td>\n",
       "      <td>NaN</td>\n",
       "      <td>%5BAliasMatcher-Iter%3A621-2012%2F08%2F03-10%3...</td>\n",
       "      <td>NaN</td>\n",
       "      <td>NaN</td>\n",
       "      <td>NaN</td>\n",
       "      <td>NaN</td>\n",
       "    </tr>\n",
       "  </tbody>\n",
       "</table>\n",
       "</div>"
      ],
      "text/plain": [
       "                 Entity                 Relation  \\\n",
       "0  psychogenic_pruritus  concept:haswikipediaurl   \n",
       "\n",
       "                                               Value Iteration of Promotion  \\\n",
       "0  http://en.wikipedia.org/wiki/Psychogenic%20pru...                    710   \n",
       "\n",
       "  Probability                                             Source  \\\n",
       "0        0.95  MBL-Iter%3A710-2013%2F03%2F13-12%3A17%3A37-Fro...   \n",
       "\n",
       "   Entity literalStrings                               Value literalStrings  \\\n",
       "0  Psychogenic pruritus   http://en.wikipedia.org/wiki/Psychogenic%20pru...   \n",
       "\n",
       "  Best Entity literalString  \\\n",
       "0      Psychogenic pruritus   \n",
       "\n",
       "                            Best Value literalString Categories for Entity  \\\n",
       "0  http://en.wikipedia.org/wiki/Psychogenic%20pru...                   NaN   \n",
       "\n",
       "  Categories for Value                                   Candidate Source  \\\n",
       "0                  NaN  %5BAliasMatcher-Iter%3A621-2012%2F08%2F03-10%3...   \n",
       "\n",
       "  Unnamed: 13 Unnamed: 14  Unnamed: 15 Unnamed: 16  \n",
       "0         NaN         NaN          NaN         NaN  "
      ]
     },
     "execution_count": 12,
     "metadata": {},
     "output_type": "execute_result"
    },
    {
     "name": "stdout",
     "output_type": "stream",
     "text": [
      "time: 31.8 ms\n"
     ]
    }
   ],
   "source": [
    "df.head(1)"
   ]
  },
  {
   "cell_type": "code",
   "execution_count": 13,
   "metadata": {
    "collapsed": false
   },
   "outputs": [
    {
     "name": "stdout",
     "output_type": "stream",
     "text": [
      "time: 7.82 ms\n"
     ]
    }
   ],
   "source": [
    "df = df.drop_duplicates('Value')\n",
    "df = df[pd.notnull(df['Value'])]"
   ]
  },
  {
   "cell_type": "code",
   "execution_count": 14,
   "metadata": {
    "collapsed": false
   },
   "outputs": [
    {
     "data": {
      "text/plain": [
       "count                                                1805\n",
       "unique                                               1805\n",
       "top       http://en.wikipedia.org/wiki/Cirsoid%20aneurysm\n",
       "freq                                                    1\n",
       "Name: Value, dtype: object"
      ]
     },
     "execution_count": 14,
     "metadata": {},
     "output_type": "execute_result"
    },
    {
     "name": "stdout",
     "output_type": "stream",
     "text": [
      "time: 7.69 ms\n"
     ]
    }
   ],
   "source": [
    "df.Value.describe()"
   ]
  },
  {
   "cell_type": "code",
   "execution_count": 25,
   "metadata": {
    "collapsed": false
   },
   "outputs": [
    {
     "name": "stdout",
     "output_type": "stream",
     "text": [
      "http://en.wikipedia.org/wiki/Psychogenic%20pruritus\n",
      "http://en.wikipedia.org/wiki/Hydrophthalmos\n",
      "http://en.wikipedia.org/wiki/Amino%20acid%20transport%20disorder\n",
      "http://en.wikipedia.org/wiki/Adelaide%20Hanscom%20Leeson\n",
      "http://en.wikipedia.org/wiki/Trachoma\n",
      "time: 2.65 s\n"
     ]
    }
   ],
   "source": [
    "import urllib\n",
    "import urllib2\n",
    "from BeautifulSoup import BeautifulSoup\n",
    "import re\n",
    "\n",
    "lst = []\n",
    "\n",
    "def clean(text):\n",
    "    return html.fromstring(text).text_content().lower().strip()\n",
    "\n",
    "for i, row in enumerate(df.iterrows()):\n",
    "    if i == 5:\n",
    "        break\n",
    "    opener = urllib2.build_opener()\n",
    "    opener.addheaders = [('User-agent', 'Mozilla/5.0')] #wikipedia needs this\n",
    "    \n",
    "    \n",
    "    try:\n",
    "        resource = opener.open(row[1]['Value'])\n",
    "        print row[1]['Value']\n",
    "    except ValueError:\n",
    "        del(row)\n",
    "        continue\n",
    "    except urllib2.HTTPError:\n",
    "        del(row)\n",
    "        continue\n",
    "    except urllib2.URLError:\n",
    "        del(row)\n",
    "        continue\n",
    "\n",
    "    data = resource.read()\n",
    "    resource.close()\n",
    "    soup = BeautifulSoup(data)\n",
    "    lst.append(re.sub('<[^<]+?>', '', str(soup.find('div',id=\"bodyContent\").p)))"
   ]
  },
  {
   "cell_type": "code",
   "execution_count": 26,
   "metadata": {
    "collapsed": false
   },
   "outputs": [
    {
     "name": "stdout",
     "output_type": "stream",
     "text": [
      "time: 369 ms\n"
     ]
    }
   ],
   "source": [
    "r = opener.open('https://en.wikipedia.org/wiki/Trachoma')\n",
    "data = r.read()\n",
    "r.close()\n",
    "soup = BeautifulSoup(data)"
   ]
  },
  {
   "cell_type": "code",
   "execution_count": 34,
   "metadata": {
    "collapsed": false
   },
   "outputs": [
    {
     "data": {
      "text/plain": [
       "'Trachoma, also called granular conjunctivitis, Egyptian ophthalmia,[1] and blinding trachoma is an infectious disease caused by the bacterium Chlamydia trachomatis.[2] The infection causes a roughening of the inner surface of the eyelids. This roughening can lead to pain in the eyes, breakdown of the outer surface or cornea of the eyes, and possibly to blindness.[2]'"
      ]
     },
     "execution_count": 34,
     "metadata": {},
     "output_type": "execute_result"
    },
    {
     "name": "stdout",
     "output_type": "stream",
     "text": [
      "time: 6.35 ms\n"
     ]
    }
   ],
   "source": [
    "re.sub('<[^<]+?>', '', str(soup.find('div', id=\"bodyContent\").p))\n"
   ]
  },
  {
   "cell_type": "code",
   "execution_count": 35,
   "metadata": {
    "collapsed": false
   },
   "outputs": [
    {
     "data": {
      "text/plain": [
       "<p><b>Trachoma</b>, also called <b>granular conjunctivitis</b>, <b>Egyptian ophthalmia</b>,<sup id=\"cite_ref-1\" class=\"reference\"><a href=\"#cite_note-1\"><span>[</span>1<span>]</span></a></sup> and <b>blinding trachoma</b> is an infectious disease caused by the bacterium <i><a href=\"/wiki/Chlamydia_trachomatis\" title=\"Chlamydia trachomatis\">Chlamydia trachomatis</a></i>.<sup id=\"cite_ref-WHO2013_2-0\" class=\"reference\"><a href=\"#cite_note-WHO2013-2\"><span>[</span>2<span>]</span></a></sup> The infection causes a <a href=\"/wiki/Granulation_tissue\" title=\"Granulation tissue\">roughening</a> of the inner surface of the eyelids. This roughening can lead to pain in the eyes, breakdown of the outer surface or <a href=\"/wiki/Cornea\" title=\"Cornea\">cornea</a> of the eyes, and possibly to <a href=\"/wiki/Blindness\" title=\"Blindness\" class=\"mw-redirect\">blindness</a>.<sup id=\"cite_ref-WHO2013_2-1\" class=\"reference\"><a href=\"#cite_note-WHO2013-2\"><span>[</span>2<span>]</span></a></sup></p>"
      ]
     },
     "execution_count": 35,
     "metadata": {},
     "output_type": "execute_result"
    },
    {
     "name": "stdout",
     "output_type": "stream",
     "text": [
      "time: 7.21 ms\n"
     ]
    }
   ],
   "source": [
    "soup.find('div', id=\"bodyContent\").p"
   ]
  },
  {
   "cell_type": "code",
   "execution_count": 43,
   "metadata": {
    "collapsed": false
   },
   "outputs": [
    {
     "data": {
      "text/plain": [
       "'\\n\\nTrachoma\\n\\n\\n\\nSurgical repair of in-turned eyelid and eyelashes resulting from trachoma\\n\\n\\n\\nClassification and external resources\\n\\n\\nSpecialty\\nInfectious disease\\n\\n\\nICD-10\\nA71\\n\\n\\nICD-9-CM\\n076\\n\\n\\nDiseasesDB\\n29100\\n\\n\\nMedlinePlus\\n001486\\n\\n\\neMedicine\\noph/118\\n\\n\\nPatient UK\\nTrachoma\\n\\n\\nMeSH\\nD014141\\n\\n\\nTrachoma, also called granular conjunctivitis, Egyptian ophthalmia,[1] and blinding trachoma is an infectious disease caused by the bacterium Chlamydia trachomatis.[2] The infection causes a roughening of the inner surface of the eyelids. This roughening can lead to pain in the eyes, breakdown of the outer surface or cornea of the eyes, and possibly to blindness.[2]\\nThe bacteria that cause the disease can be spread by both direct and indirect contact with an affected person\\'s eyes or nose.[2] Indirect contact includes through clothing or flies that have come into contact with an affected person\\'s eyes or nose.[2] Many infections are usually needed over a period of years before scarring of the eyelid becomes so great that the eyelashes begin to rub against the eye.[2] Children spread the disease more often than adults.[2] Poor sanitation, crowded living conditions, and not enough clean water and toilets also increase spread.[2]\\nEfforts to prevent the disease include improving access to clean water and decreasing the number of people infected by treatment with antibiotics.[2] This may include treating, all at once, whole groups of people in whom the disease is known to be common.[3] Washing by itself is not enough to prevent disease but may be useful with other measures.[4] Treatment options include oral azithromycin or topical tetracycline.[3] Azithromycin is preferred because it can be used as a single oral dose.[5] After scarring of the eyelid has occurred surgery may be required to correct the position of the eyelashes and prevent blindness.[2]\\nGlobally, about 80 million people have an active infection.[6] In some areas infections may be present in as many as 60\\xe2\\x80\\x9390% of children and more commonly affects women than men likely due to their closer contact with children.[2] The disease is the cause of a poor ability to see in 2.2 million people of which 1.2 million are completely blind.[2] It commonly occurs in 53 countries of Africa, Asia, Central and South America with about 230 million people at risk.[2] It results in 8 billion USD of economic losses a year.[2] It belongs to a group of diseases known as neglected tropical diseases.[6]\\n\\n\\n\\nContents\\n\\n\\n1 Signs and symptoms\\n2 Cause\\n3 Diagnosis\\n\\n3.1 McCallan\\'s classification\\n3.2 WHO classification\\n\\n\\n4 Prevention\\n\\n4.1 Environmental measures\\n4.2 Antibiotics\\n\\n\\n5 Management\\n\\n5.1 Antibiotics\\n5.2 Surgery\\n5.3 Lifestyle measures\\n\\n\\n6 Prognosis\\n7 Epidemiology\\n8 History\\n\\n8.1 Etymology\\n\\n\\n9 References\\n10 External links\\n\\n\\n\\nSigns and symptoms[edit]\\nThe bacterium has an incubation period of 5 to 12 days, after which the affected individual experiences symptoms of conjunctivitis, or irritation similar to \"pink eye.\" Blinding endemic trachoma results from multiple episodes of reinfection that maintains the intense inflammation in the conjunctiva. Without reinfection, the inflammation will gradually subside.[7]\\nThe conjunctival inflammation is called \\xe2\\x80\\x9cactive trachoma\\xe2\\x80\\x9d and usually is seen in children, especially pre-school children. It is characterized by white lumps in the undersurface of the upper eyelid (conjunctival follicles or lymphoid germinal centres) and by non-specific inflammation and thickening often associated with papillae. Follicles may also appear at the junction of the cornea and the sclera (limbal follicles). Active trachoma will often be irritating and have a watery discharge. Bacterial secondary infection may occur and cause a purulent discharge.\\nThe later structural changes of trachoma are referred to as \\xe2\\x80\\x9ccicatricial trachoma\\xe2\\x80\\x9d. These include scarring in the eyelid (tarsal conjunctiva) that leads to distortion of the eyelid with buckling of the lid (tarsus) so the lashes rub on the eye (trichiasis). These lashes will lead to corneal opacities and scarring and then to blindness. Linear scar present in the Sulcus subtarsalis is called Arlt\\'s line (named after Carl Ferdinand von Arlt). In addition, blood vessels and scar tissue can invade the upper cornea (pannus). Resolved limbal follicles may leave small gaps in pannus (Herbert\\xe2\\x80\\x99s Pits).\\nMost commonly children with active trachoma will not present with any symptoms as the low grade irritation and ocular discharge is just accepted as normal. However, further symptoms may include:\\n\\nEye discharge\\nSwollen eyelids\\nTrichiasis (turned-in eyelashes)\\nSwelling of lymph nodes in front of the ears\\nSensitivity to bright lights\\nIncreased heart rate\\nFurther ear, nose and throat complications.\\n\\nThe major complication or the most important one is corneal ulcer occurring due to rubbing by concentrations, or trichiasis with superimposed bacterial infection.\\nCause[edit]\\nTrachoma is caused by Chlamydia trachomatis, serotypes (serovars) A, B, and C.[8] It is spread by direct contact with eye, nose, and throat secretions from affected individuals, or contact with fomites[9] (inanimate objects that carry infectious agents), such as towels and/or washcloths, that have had similar contact with these secretions. Flies can also be a route of mechanical transmission.[9] Untreated, repeated trachoma infections result in entropion\\xe2\\x80\\x94a painful form of permanent blindness when the eyelids turn inward, causing the eyelashes to scratch the cornea. Children are the most susceptible to infection due to their tendency to easily get dirty, but the blinding effects or more severe symptoms are often not felt until adulthood.\\nBlinding endemic trachoma occurs in areas with poor personal and family hygiene. Many factors are indirectly linked to the presence of trachoma including lack of water, absence of latrines or toilets, poverty in general, flies, close proximity to cattle, crowding, and so forth.[7][10] However, the final common pathway seems to be the presence of dirty faces in children that facilitates the frequent exchange of infected ocular discharge from one child\\xe2\\x80\\x99s face to another. Most transmission of trachoma occurs within the family.[7]\\nDiagnosis[edit]\\nMcCallan\\'s classification[edit]\\nMcCallan in 1908 divided the clinical course of trachoma into 4 stages\\n\\n\\nStage 1 (Incipient trachoma)\\nStage 2 (Established trachoma)\\nStage 3 (Cicatrising trachoma)\\nStage 4 (Healed trachoma)\\n\\n\\nHyperaemia of palpebral conjunctiva\\nAppearance of mature follicle &amp; papillae\\nScarring of palpebral conjunctiva\\nDisease is cured or is not markable\\n\\n\\nImmature follicle\\nProgressive corneal pannus\\nScars are easily visible as white bands\\nSequelae to cicatrisation cause symptoms\\n\\n\\nWHO classification[edit]\\nThe World Health Organization recommends a simplified grading system for trachoma.[11] The Simplified WHO Grading System is summarized below:\\nTrachomatous inflammation, follicular (TF)\\xe2\\x80\\x94Five or more follicles of &gt;0.5&#160;mm on the upper tarsal conjunctiva\\nTrachomatous inflammation, intense (TI)\\xe2\\x80\\x94Papillary hypertrophy and inflammatory thickening of the upper tarsal conjunctiva obscuring more than half the deep tarsal vessels\\nTrachomatous scarring (TS)\\xe2\\x80\\x94Presence of scarring in tarsal conjunctiva.\\nTrachomatous trichiasis (TT)\\xe2\\x80\\x94At least one ingrown eyelash touching the globe, or evidence of epilation (eyelash removal)\\nCorneal opacity (CO)\\xe2\\x80\\x94Corneal opacity blurring part of the pupil margin\\nPrevention[edit]\\nAlthough trachoma was eliminated from much of the developed world in the last century, this disease persists in many parts of the developing world particularly in communities without adequate access to water and sanitation.[12]\\nEnvironmental measures[edit]\\nEnvironmental improvement: Modifications in water use, fly control, latrine use, health education, and proximity to domesticated animals have all been proposed to reduce transmission of C. trachomatis. These changes pose numerous challenges for implementation. It seems likely that these environmental changes ultimately impact on the transmission of ocular infection by means of lack of facial cleanliness.[7] Particular attention is required for environmental factors that limit clean faces.\\nA systematic review examining the effectiveness of environmental sanitary measures on the prevalence of active trachoma in endemic areas showed that usage of insecticide spray resulted in significant reductions of trachoma and fly density in some studies.[13] Health education also resulted in reductions of active trachoma when implemented.[13] Improved water supply did not result in a reduction of trachoma incidence.[13]\\nAntibiotics[edit]\\nAntibiotic therapy: WHO Guidelines recommend that a region should receive community-based, mass antibiotic treatment when the prevalence of active trachoma among one- to nine-year-old children is greater than 10 percent.[14] Subsequent annual treatment should be administered for three years, at which time the prevalence should be reassessed. Annual treatment should continue until the prevalence drops below five percent. At lower prevalences, antibiotic treatment should be family-based.\\nManagement[edit]\\nAntibiotics[edit]\\nAntibiotic selection: Azithromycin (single oral dose of 20&#160;mg/kg) or topical tetracycline (one percent eye ointment twice a day for six weeks). Azithromycin is preferred because it is used as a single oral dose. Although it is expensive, it is generally used as part of the international donation program organized by Pfizer through the International Trachoma Initiative.[5] Azithromycin can be used in children from the age of six months and in pregnancy.[7] As a community-based antibiotic treatment, some evidence suggests that oral azithromycin was more effective than topical tetracycline, however, there was no consistent evidence that supported oral or topical antibiotics as being more effective.[3] Antibiotic treatment reduces the risk of active trachoma in individuals infected with chlamydia trachomatis.[3]\\nSurgery[edit]\\nSurgery: For individuals with trichiasis, a bilamellar tarsal rotation procedure is warranted to direct the lashes away from the globe.[15] Early intervention is beneficial as the rate of recurrence is higher in more advanced disease.[16]\\nLifestyle measures[edit]\\nFacial cleanliness: Children with grossly visible nasal discharge, ocular discharge, or flies on their faces are at least twice as likely to have active trachoma as children with clean faces.[7] Intensive community-based health education programs to promote face-washing can significantly reduce the prevalence of active trachoma, especially intense trachoma (TI). If somebody is already infected washing one\\xe2\\x80\\x99s face is strongly encouraged, especially a child, in order to prevent re-infection.[17] Some evidence exists that washing the face combined with topical tetracycline might be more effective in reducing severe trachoma compared to topical tetracycline alone.[4] The same trial found no statistically significant benefit of eye washing alone or in combination with tetracycline eye drops in reducing follicular trachoma amongst children.[4]\\nNational governments in collaboration with numerous non-profit organizations implement trachoma control programs using the WHO-recommended SAFE strategy, which includes:\\n\\nSurgery to correct advanced stages of the disease;\\nAntibiotics to treat active infection, using azithromycin\\nFacial cleanliness to reduce disease transmission;\\nEnvironmental change to increase access to clean water and improved sanitation.\\n\\nPrognosis[edit]\\nIf not treated properly with oral antibiotics, the symptoms may escalate and cause blindness, which is the result of ulceration and consequent scarring of the cornea. Surgery may also be necessary to fix eyelid deformities.\\nWithout intervention, trachoma keeps families shackled within a cycle of poverty, as the disease and its long-term effects are passed from one generation to the next.\\nEpidemiology[edit]\\n\\n\\n\\n\\nDisability-adjusted life year for trachoma per 100,000&#160;inhabitants in 2004\\n\\n\\n\\n\\n\\n&#160;&#160;no data\\n&#160;&#160;\\xe2\\x89\\xa410\\n&#160;&#160;10\\xe2\\x80\\x9320\\n&#160;&#160;20\\xe2\\x80\\x9340\\n&#160;&#160;40\\xe2\\x80\\x9360\\n&#160;&#160;60\\xe2\\x80\\x9380\\n&#160;&#160;80\\xe2\\x80\\x93100\\n\\n\\n\\n\\n&#160;&#160;100\\xe2\\x80\\x93200\\n&#160;&#160;200\\xe2\\x80\\x93300\\n&#160;&#160;300\\xe2\\x80\\x93400\\n&#160;&#160;400\\xe2\\x80\\x93500\\n&#160;&#160;500\\xe2\\x80\\x93600\\n&#160;&#160;\\xe2\\x89\\xa5600\\n\\n\\n\\n\\n\\n\\n\\n\\nAs of 2008, between 40\\xe2\\x80\\x9380 million people are infected,[6] and between 1.3 million and 8 million have permanent blindness due to trachoma.[18][19] It is common in more than 50 countries world wide.[18] In many of these communities, women are three times more likely than men to be blinded by the disease, due to their roles as caretakers in the family.[20] About 110 million people live in endemic areas and need treatment. An additional 210 million live where trachoma is suspected endemic.\\nGhana, Mexico, Saudi Arabia, Iran, Morocco and Oman report that the disease nationally eliminated.[21] Australia is the only developed country to still have endemic blinding trachoma.[22] In 2008, trachoma was found in half of Australia\\'s very remote communities at endemic levels.[22]\\nThe WHO has set a target to eliminate trachoma as a public health problem by 2020.[23] The International Coalition for Trachoma Control (ICTC) has produced a strategic plan called 2020 INSight that lays out actions and milestones to achieve global elimination of blinding trachoma by the year 2020.[24] \\xe2\\x80\\x9cWe can make this disease history, and this document lays out a plan to do so,\\xe2\\x80\\x9d said Dr. Paul Emerson, chair of the ICTC and director of The Carter Center\\xe2\\x80\\x99s Trachoma Control Program. \\xe2\\x80\\x9cThere is an urgent need for action to avoid additional suffering and unnecessary blindness for hundreds of thousands of people.\\xe2\\x80\\x9d The International Trachoma Initiative (ITI) coordinated the publication of 2020 INSight, which was produced with input from a diverse set of stakeholders.\\nThe Trachoma Atlas is an open-access resource on the geographical distribution of trachoma. It features maps that show the prevalence of trachoma. The maps are free to use and download.[25]\\nHistory[edit]\\nThe disease is one of the earliest known eye afflictions, having been identified in Egypt as early as 15 B.C.[7]\\nIts presence was also recorded in ancient China and Mesopotamia. Trachoma became a problem as people moved into crowded settlements or towns where hygiene was poor. It became a particular problem in Europe in the 19th Century. After the Egyptian Campaign (1798\\xe2\\x80\\x931802) and the Napoleonic Wars (1798\\xe2\\x80\\x931815), trachoma was rampant in the army barracks of Europe and spread to those living in towns as troops returned home. Stringent control measures were introduced and by the early 20th Century, trachoma was essentially controlled in Europe, although cases were reported up until the 1950s.[7] Today, most victims of trachoma live in underdeveloped and poverty-stricken countries in Africa, the Middle East, and Asia.\\nIn the United States, the Centers for Disease Control says \"No national or international surveillance [for trachoma] exists. Blindness due to trachoma has been eliminated from the United States. The last cases were found among Native American populations and in Appalachia, and those in the boxing, wrestling, and sawmill industries (prolonged exposure to combinations of sweat and sawdust often lead to the disease). In the late 19th century and early 20th century, trachoma was the main reason for an immigrant coming through Ellis Island to be deported.\"[26][27]\\nIn 1913, President Woodrow Wilson signed an act designating funds for the eradication of the disease.[28][29] Immigrants who attempted to enter the U.S. through Ellis Island, New York had to be checked for trachoma.[26] During this time treatment for the disease was by topical application of copper sulfate. By the late 1930s, a number of ophthalmologists reported success in treating trachoma with sulfonamide antibiotics.[30] In 1948, Vincent Tabone (who was later to become the President of Malta) was entrusted with the supervision of a campaign in Malta to treat trachoma using sulfonamide tablets and drops.[31]\\nThanks to improved sanitation and overall living conditions, trachoma virtually disappeared from the industrialized world by the 1950s. However, it continues to plague the developing world to this day. Epidemiological studies were conducted in 1956-63 by the Trachoma Control Pilot Project in India under the Indian Council for Medical Research.[32] This potentially blinding disease remains endemic in the poorest regions of Africa, Asia, and the Middle East and in some parts of Latin America and Australia. Currently, 8 million people are visually impaired as a result of trachoma, and 41 million suffer from active infection.\\nOf the 54 countries that WHO cited as still having blinding trachoma occurring, Australia is the only developed country. Australian Aboriginal people who live in remote communities with inadequate sanitation are still blinded by this infectious eye disease.[33]\\nEtymology[edit]\\nThe term is derived from New Latin tr\\xc4\\x81ch\\xc5\\x8dma, from Greek \\xcf\\x84\\xcf\\x81\\xce\\xac\\xcf\\x87\\xcf\\x89\\xce\\xbc\\xce\\xb1 tr\\xc4\\x81kh\\xc5\\x8dma, from \\xcf\\x84\\xcf\\x81\\xce\\xb1\\xcf\\x87\\xcf\\x8d\\xcf\\x82 tr\\xc4\\x81khus \"rough.\"[34]\\nReferences[edit]\\n\\n\\n^ Swanner, Yann A. Meunier&#160;; with contributions from Michael Hole, Takudzwa Shumba &amp; B.J. (2014). Tropical diseases&#160;: a practical guide for medical practitioners and students. Oxford: Oxford University Press, USA. p.&#160;199. ISBN&#160;9780199997909.&#160;\\n^ a b c d e f g h i j k l m \"Blinding Trachoma Fact sheet N\\xc2\\xb0382\". World Health Organization. November 2013. Retrieved 14 March 2014.&#160;\\n^ a b c d Evans JR1, Solomon AW (March 2011). \"Antibiotics for trachoma\". Cochrane Database Syst Rev 16 (3): CD001860. doi:10.1002/14651858.CD001860.pub3. PMID&#160;21412875.&#160;\\n^ a b c Ejere, HO; Alhassan, MB; Rabiu, M (20 February 2015). \"Face washing promotion for preventing active trachoma.\". Cochrane Database of Systematic Reviews 2015 (2): CD003659. doi:10.1002/14651858.CD003659.pub4. PMID&#160;25697765.&#160;\\n^ a b Mariotti SP (November 2004). \"New steps toward eliminating blinding trachoma\". N. Engl. J. Med. 351 (19): 2004\\xe2\\x80\\x937. doi:10.1056/NEJMe048205. PMID&#160;15525727.&#160;\\n^ a b c Fenwick, A (Mar 2012). \"The global burden of neglected tropical diseases.\". Public health 126 (3): 233\\xe2\\x80\\x936. doi:10.1016/j.puhe.2011.11.015. PMID&#160;22325616.&#160;\\n^ a b c d e f g h Taylor, Hugh (2008). Trachoma: A Blinding Scourge from the Bronze Age to the Twenty-first Century. Centre for Eye Research Australia. ISBN&#160;0-9757695-9-6.&#160;\\n^ Mackern-Oberti, J. P.; Motrich, R. N. D. O.; Breser, M. A. L.; S\\xc3\\xa1nchez, L. R.; Cuffini, C.; Rivero, V. E. (2013). \"Chlamydia trachomatis infection of the male genital tract: An update\". Journal of Reproductive Immunology 100: 37. doi:10.1016/j.jri.2013.05.002.&#160;\\n^ a b Goldman, Lee (2011). Goldman\\'s Cecil Medicine (24th ed.). Philadelphia: Elsevier Saunders. pp.&#160;e326\\xe2\\x80\\x932. ISBN&#160;1437727883.&#160;\\n^ Wright HR, Turner A, Taylor HR (June 2008). \"Trachoma\". Lancet 371 (9628): 1945\\xe2\\x80\\x9354. doi:10.1016/S0140-6736(08)60836-3. PMID&#160;18539226.&#160;\\n^ Thylefors B, Dawson CR, Jones BR, West SK, Taylor HR (1987). \"A simple system for the assessment of trachoma and its complications\". Bull. World Health Organ. 65 (4): 477\\xe2\\x80\\x9383. PMC&#160;2491032. PMID&#160;3500800.&#160;\\n^ Stocks, Meredith E. (2014). \"Effect of Water, Sanitation, and Hygiene on the Prevention of Trachoma: A Systematic Review and Meta-Analysis\". PLOS medicine. doi:10.1371/journal.pmed.1001605.&#160;\\n^ a b c Rabiu M, Alhassan MB, Ejere HOD, Evans JR (2012). \"Environmental sanitary interventions for preventing active trachoma\". Cochrane Database Syst Rev 2: CD004003. doi:10.1002/14651858.CD004403.pub4. PMID&#160;22336798.&#160;\\n^ Solomon, AW; Zondervan M; Kuper H; et al. (2006). \"Trachoma control: a guide for programme managers.\" (PDF). World Health Organization.&#160;\\n^ Reacher M, Foster A, Huber J. \"Trichiasis Surgery for Trachoma. The Bilamellar Tarsal Rotation Procedure.\" 1993; World Health Organization, Geneva: WHO/PBL/93.29.\\n^ Burton MJ, Kinteh F, Jallow O, et al. (October 2005). \"A randomised controlled trial of azithromycin following surgery for trachomatous trichiasis in the Gambia\". Br J Ophthalmol 89 (10): 1282\\xe2\\x80\\x938. doi:10.1136/bjo.2004.062489. PMC&#160;1772881. PMID&#160;16170117.&#160;\\n^ Prevention-Trachoma 18 July 2008-24 March 2009\\n^ a b Burton MJ, Mabey DC (2009). Brooker, Simon, ed. \"The global burden of trachoma: a review\". PLoS Negl Trop Dis 3 (10): e460. doi:10.1371/journal.pntd.0000460. PMC&#160;2761540. PMID&#160;19859534.&#160;\\n^ \"Trachoma\". World Health Organization. 2012. Retrieved 9 December 2012.&#160;\\n^ What is Trachoma? International Trachoma Initiative.\\n^ Elizabeth Farrelly (16 November 2009). \"A shamed nation turns a blind eye\". The Sydney Morning Herald. Archived from the original on 12 April 2011. Retrieved 11 April 2013.&#160;\\n^ a b \"Eye health in Aboriginal and Torres Strait Islander people\". Australian Institute of Health and Welfare. 2008. Archived from the original on 28 October 2012. Retrieved 11 April 2013.&#160;\\n^ http://www.who.int/mediacentre/news/notes/2006/np09/en/\\n^ \"Global strategy lays out concrete action plan to eliminate blinding trachoma by 2020\". International Coalition for Trachoma Control. July 2011. Retrieved November 8, 2014.&#160;\\n^ www.trachomaatlas.org\\n^ a b Yew, E (Jun 1980). \"Medical inspection of immigrants at Ellis Island, 1891-1924.\". Bulletin of the New York Academy of Medicine 56 (5): 488\\xe2\\x80\\x93510. PMC&#160;1805119. PMID&#160;6991041.&#160;\\n^ Disease Listing, Trachoma, Technical Information | CDC Bacterial, Mycotic Diseases.\\n^ Allen SK, Semba RD (2002). \"The trachoma menace in the United States, 1897-1960\". Surv Ophthalmol 47 (5): 500\\xe2\\x80\\x939. doi:10.1016/S0039-6257(02)00340-5. PMID&#160;12431697.&#160;\\n^ Leupp, Constance D. (August 1914). \"Removing The Blinding Curse Of The Mountains: How Dr. McMullen, Of The Public Health Service Is Organizing The War Against Trachoma In The Appalachians\". The World\\'s Work: A History of Our Time XLIV (2): 426\\xe2\\x80\\x93430. Retrieved 2009-08-04.&#160;\\n^ Thygeson P (1939). \"The Treatment of Trachoma with Sulfanilamide: A Report of 28 Cases\". Trans Am Ophthalmol Soc 37: 395\\xe2\\x80\\x93403. PMC&#160;1315791. PMID&#160;16693194.&#160;\\n^ Ophthalmology in Malta, C. Savona Ventura, University of Malta, 2003.\\n^ Gupta, UC and Preobragenski, W (1964), Trachoma in India\\xe2\\x80\\x94Endemicity and Epidemiological study, Indian Journal of Ophthalmology, Volume 12, issue 2, pages 39-49.\\n^ Taylor, Hugh R. (2001). \"Trachoma in Australia\". Medical Journal of Australia 175 (7): 371\\xe2\\x80\\x93372. PMID&#160;11700815.&#160;\\n^ \"tra\\xc2\\xb7cho\\xc2\\xb7ma\". The American Heritage Dictionary of the English Language, Fourth Edition. TheFreeDictionary. Retrieved 19 January 2014.&#160;\\n\\n\\nExternal links[edit]\\n\\nCDC Disease Info trachoma\\n\\n\\nNew York Times article Preventable Disease Blinds Poor in Third World Published: March 31, 2006\\nPhotographs of trachoma patients\\n\\n\\n\\n\\n\\n\\n\\n\\n\\nv\\nt\\ne\\n\\n\\nDiseases of poverty\\n\\n\\n\\n\\n\\n\\nDiseases of poverty\\n\\n\\n\\nAIDS\\nMalaria\\nTuberculosis\\nMeasles\\nPneumonia\\nDiarrheal diseases\\n\\n\\n\\n\\n\\n\\n\\n\\nNeglected diseases\\n\\n\\n\\nCholera\\nChagas disease\\nAfrican sleeping sickness\\nSchistosomiasis\\nDracunculiasis\\nRiver blindness\\nLeishmaniasis\\nTrachoma\\n\\n\\n\\n\\n\\n\\n\\n\\nMiscellaneous\\n\\n\\n\\nMalnutrition\\nPriority review voucher\\n\\n\\n\\n\\n\\n\\n\\n\\n\\n\\n\\n\\n\\n\\n\\n\\nv\\nt\\ne\\n\\n\\n\\n\\nInfectious diseases\\nBacterial diseases: BV4 non-proteobacterial G- (primarily A00\\xe2\\x80\\x93A79, 001\\xe2\\x80\\x93041, 080\\xe2\\x80\\x93109)\\n\\n\\n\\n\\n\\n\\n\\n\\nSpirochaete\\n\\n\\n\\n\\nSpirochaetaceae\\n\\n\\n\\n\\nTreponema\\n\\n\\n\\nTreponema pallidum\\n\\nSyphilis/bejel\\nYaws\\n\\n\\nTreponema carateum (Pinta)\\nTreponema denticola\\n\\n\\n\\n\\n\\n\\n\\n\\nBorrelia\\n\\n\\n\\nBorrelia burgdorferi/Borrelia afzelii\\n\\nLyme disease\\nErythema chronicum migrans\\nNeuroborreliosis\\n\\n\\n\\n\\nBorrelia recurrentis (Louse borne relapsing fever)\\nBorrelia hermsii/Borrelia duttoni/Borrelia parkeri (Tick borne relapsing fever)\\n\\n\\n\\n\\n\\n\\n\\n\\n\\n\\n\\nLeptospiraceae\\n\\n\\n\\n\\nLeptospira\\n\\n\\n\\nLeptospira interrogans (Leptospirosis)\\n\\n\\n\\n\\n\\n\\n\\n\\n\\n\\n\\nSpirillaceae\\n\\n\\n\\n\\nSpirillum\\n\\n\\n\\nSpirillum minus (Rat-bite fever/Sodoku)\\n\\n\\n\\n\\n\\n\\n\\n\\n\\n\\n\\n\\n\\n\\nChlamydiaceae\\n\\n\\n\\n\\nChlamydophila\\n\\n\\n\\nChlamydophila psittaci (Psittacosis)\\nChlamydophila pneumoniae\\n\\n\\n\\n\\n\\n\\n\\n\\nChlamydia\\n\\n\\n\\nChlamydia trachomatis\\n\\nChlamydia\\nLymphogranuloma venereum\\nTrachoma\\n\\n\\n\\n\\n\\n\\n\\n\\n\\n\\n\\n\\n\\nBacteroidetes\\n\\n\\n\\nBacteroides fragilis\\nTannerella forsythia\\nCapnocytophaga canimorsus\\nPorphyromonas gingivalis\\nPrevotella intermedia\\n\\n\\n\\n\\n\\n\\n\\n\\nFusobacteria\\n\\n\\n\\nFusobacterium necrophorum (Lemierre\\'s syndrome)\\nFusobacterium nucleatum\\nFusobacterium polymorphum\\n\\n\\nStreptobacillus moniliformis (Rat-bite fever/Haverhill fever)\\n\\n\\n\\n\\n\\n\\n\\n\\n\\n\\n\\n\\n\\n\\nv\\nt\\ne\\n\\n\\nIndex of bacterial disease\\n\\n\\n\\n\\n\\n\\nDescription\\n\\n\\n\\nBacteria\\n\\nclassification\\n\\n\\nGrowth media\\n\\n\\n\\n\\n\\n\\n\\n\\nDisease\\n\\n\\n\\nGram-positive firmicutes\\nGram-positive actinobacteria\\nGram-negative proteobacteria\\nGram-negative non-proteobacteria\\nCholera\\nTuberculosis\\n\\n\\n\\n\\n\\n\\n\\n\\nTreatment\\n\\n\\n\\nAntibiotics\\n\\ncell wall\\nnucleic acid\\nmycobacteria\\nprotein synthesis\\nother\\n\\n\\nAntibodies\\n\\n\\n\\n\\n\\n\\n\\n\\n\\n\\n\\n\\n\\n\\n\\n\\n\\n\\n\\nv\\nt\\ne\\n\\n\\n\\n\\n\\nDiseases of the human eye (H00\\xe2\\x80\\x93H59\\n360\\xe2\\x80\\x93379)\\n\\n\\n\\n\\n\\n\\n\\n\\n\\n\\n\\n\\n\\n&#160;\\nAdnexa\\n\\n\\n\\n\\n\\n\\n\\n\\n\\n\\nEyelid\\n\\n\\n\\n\\nInflammation\\n\\n\\n\\nStye\\nChalazion\\nBlepharitis\\n\\n\\n\\n\\n\\n\\n\\n\\n\\n\\n\\nEntropion\\nEctropion\\nLagophthalmos\\nBlepharochalasis\\nPtosis\\nBlepharophimosis\\nXanthelasma\\n\\n\\n\\n\\n\\n\\n\\n\\nEyelash\\n\\n\\n\\nTrichiasis\\nMadarosis\\n\\n\\n\\n\\n\\n\\n\\n\\n\\n\\n\\nLacrimal apparatus\\n\\n\\n\\nDacryoadenitis\\nEpiphora\\nDacryocystitis\\nXerophthalmia\\n\\n\\n\\n\\n\\n\\n\\n\\nOrbit\\n\\n\\n\\nExophthalmos\\nEnophthalmos\\nOrbital cellulitis\\nOrbital lymphoma\\nPeriorbital cellulitis\\n\\n\\n\\n\\n\\n\\n\\n\\nConjunctiva\\n\\n\\n\\nConjunctivitis\\n\\nallergic\\n\\n\\nPterygium\\nPinguecula\\nSubconjunctival hemorrhage\\n\\n\\n\\n\\n\\n\\n\\n\\n\\n\\n\\n\\n\\n\\n\\n\\n\\n\\n&#160;\\nGlobe\\n\\n\\n\\n\\n\\n\\n\\n\\n\\n\\nFibrous tunic\\n\\n\\n\\n\\nSclera\\n\\n\\n\\nScleritis\\nEpiscleritis\\n\\n\\n\\n\\n\\n\\n\\n\\nCornea\\n\\n\\n\\nKeratitis\\n\\nherpetic\\nacanthamoebic\\nfungal\\n\\n\\nCorneal ulcer\\nPhotokeratitis\\nThygeson\\'s superficial punctate keratopathy\\nCorneal dystrophy\\n\\nFuchs\\'\\nMeesmann\\n\\n\\nCorneal ectasia\\n\\nKeratoconus\\nPellucid marginal degeneration&#160;(PMD)\\nKeratoglobus\\nTerrien\\'s marginal degeneration\\n\\n\\nKeratoconjunctivitis\\n\\nsicca\\n\\n\\nCorneal neovascularization\\nKayser\\xe2\\x80\\x93Fleischer ring\\nHaab\\'s striae\\nArcus senilis\\nBand keratopathy\\n\\n\\n\\n\\n\\n\\n\\n\\n\\n\\n\\nVascular tunic\\n\\n\\n\\n\\n\\n\\n\\nIris\\nCiliary body\\n\\n\\n\\n\\n\\n\\nUveitis\\nIntermediate uveitis\\nHyphema\\nRubeosis iridis\\nPersistent pupillary membrane\\nIridodialysis\\nSynechia\\n\\n\\n\\n\\n\\n\\n\\n\\nChoroid\\n\\n\\n\\nChoroideremia\\nChoroiditis\\n\\nChorioretinitis\\n\\n\\n\\n\\n\\n\\n\\n\\n\\n\\n\\n\\n\\nLens\\n\\n\\n\\nCataract\\n\\nCongenital cataract\\nChildhood cataract\\n\\n\\nAphakia\\nEctopia lentis\\n\\n\\n\\n\\n\\n\\n\\n\\nRetina\\n\\n\\n\\nRetinitis\\n\\nChorioretinitis\\nCytomegalovirus retinitis\\n\\n\\nRetinal detachment\\nRetinoschisis\\nOcular ischemic syndrome&#160;/ Central retinal vein occlusion\\nCentral retinal artery occlusion\\nRetinopathy\\n\\ndiabetic\\nhypertensive\\nPurtscher\\'s\\nof prematurity\\nBietti\\'s crystalline dystrophy\\nCoats\\' disease\\n\\n\\nMacular degeneration\\nRetinitis pigmentosa\\nRetinal haemorrhage\\nCentral serous retinopathy\\nMacular edema\\nEpiretinal membrane (Macular pucker)\\nVitelliform macular dystrophy\\nLeber\\'s congenital amaurosis\\nBirdshot chorioretinopathy\\n\\n\\n\\n\\n\\n\\n\\n\\nOther\\n\\n\\n\\nGlaucoma&#160;/ Ocular hypertension&#160;/ Primary juvenile glaucoma\\nFloater\\nLeber\\'s hereditary optic neuropathy\\nRed eye\\nKeratomycosis\\nPhthisis bulbi\\nPersistent fetal vasculature&#160;/ Persistent hyperplastic primary vitreous\\nPersistent tunica vasculosa lentis\\nFamilial exudative vitreoretinopathy\\n\\n\\n\\n\\n\\n\\n\\n\\n\\n\\n\\n\\n\\n\\n\\n\\n\\n\\n&#160;\\nPathways\\n\\n\\n\\n\\n\\n\\n\\n\\n\\n\\nOptic nerve\\nOptic disc\\n\\n\\n\\n\\n\\n\\n\\nOptic neuritis\\n\\noptic papillitis\\n\\n\\nPapilledema\\n\\nFoster Kennedy syndrome\\n\\n\\nOptic atrophy\\nOptic disc drusen\\n\\n\\n\\n\\n\\n\\n\\n\\nOptic neuropathy\\n\\n\\n\\nIschemic\\n\\nanterior&#160;(AION)\\nposterior&#160;(PION)\\n\\n\\nKjer\\'s\\nLeber\\'s hereditary\\nToxic and nutritional\\n\\n\\n\\n\\n\\n\\n\\n\\n\\n\\n\\nStrabismus\\nExtraocular muscles\\nBinocular vision\\nAccommodation\\n\\n\\n\\n\\nParalytic strabismus\\n\\n\\n\\n\\n\\n\\n\\nOphthalmoparesis\\nChronic progressive external ophthalmoplegia\\nKearns\\xe2\\x80\\x93Sayre syndrome\\n\\n\\n\\n\\n\\n\\n\\n\\npalsies\\n\\n\\n\\nOculomotor (III)\\nFourth-nerve (IV)\\nSixth-nerve (VI)\\n\\n\\n\\n\\n\\n\\n\\n\\n\\n\\n\\nOther strabismus\\n\\n\\n\\nEsotropia&#160;/ Exotropia\\nHypertropia\\nHeterophoria\\n\\nEsophoria\\nExophoria\\n\\n\\nCyclotropia\\nBrown\\'s syndrome\\nDuane syndrome\\n\\n\\n\\n\\n\\n\\n\\n\\nOther binocular\\n\\n\\n\\nConjugate gaze palsy\\nConvergence insufficiency\\nInternuclear ophthalmoplegia\\nOne and a half syndrome\\n\\n\\n\\n\\n\\n\\n\\n\\n\\n\\n\\nRefraction\\n\\n\\n\\nRefractive error\\n\\nHyperopia\\nMyopia\\n\\n\\nAstigmatism\\nAnisometropia&#160;/ Aniseikonia\\nPresbyopia\\n\\n\\n\\n\\n\\n\\n\\n\\nVision disorders\\nBlindness\\n\\n\\n\\n\\n\\n\\n\\nAmblyopia\\nLeber\\'s congenital amaurosis\\nDiplopia\\nScotoma\\nColor blindness\\n\\nAchromatopsia\\nDichromacy\\nMonochromacy\\n\\n\\nNyctalopia\\n\\nOguchi disease\\n\\n\\nBlindness&#160;/ Vision loss&#160;/ Visual impairment\\n\\n\\n\\n\\n\\n\\n\\n\\nAnopsia\\n\\n\\n\\nHemianopsia\\n\\nbinasal\\nbitemporal\\nhomonymous\\n\\n\\nQuadrantanopia\\n\\n\\n\\n\\n\\n\\n\\n\\nsubjective\\n\\n\\n\\nAsthenopia\\nHemeralopia\\nPhotophobia\\nScintillating scotoma\\n\\n\\n\\n\\n\\n\\n\\n\\n\\n\\n\\nPupil\\n\\n\\n\\nAnisocoria\\nArgyll Robertson pupil\\nMarcus Gunn pupil\\nAdie syndrome\\nMiosis\\nMydriasis\\nCycloplegia\\nParinaud\\'s syndrome\\n\\n\\n\\n\\n\\n\\n\\n\\nOther\\n\\n\\n\\nNystagmus\\nChildhood blindness\\n\\n\\n\\n\\n\\n\\n\\n\\n\\n\\n\\n\\n\\n\\n\\n\\n\\n\\n&#160;\\nInfections\\n\\n\\n\\n\\n\\n\\n\\n\\n\\nTrachoma\\nOnchocerciasis\\n\\n\\n\\n\\n\\n\\n\\n\\n\\n\\n\\n\\n\\n\\n\\n\\n\\nv\\nt\\ne\\n\\n\\nIndex of the eye\\n\\n\\n\\n\\n\\n\\nDescription\\n\\n\\n\\nAnatomy\\n\\norbit\\nneural pathways\\n\\n\\nPhysiology\\n\\nPhenomena\\n\\nappearance\\nvisual\\noptical illusions\\n\\n\\nproteins\\n\\n\\nDevelopment\\n\\n\\n\\n\\n\\n\\n\\n\\nDisease\\n\\n\\n\\nCongenital\\nCorneal dystrophy\\nNeoplasms and cancer\\nOther\\nSymptoms and signs\\n\\n\\n\\n\\n\\n\\n\\n\\nTreatment\\n\\n\\n\\nProcedures\\nDrugs\\n\\ninfection\\nglaucoma and miosis\\nmydriatics\\nvascular\\n\\n\\n\\n\\n\\n\\n\\n\\n\\n\\n\\n\\n\\n\\n\\n\\n\\n\\nAuthority control\\n\\n\\n\\nNDL: 00573287\\n\\n\\n\\n\\n\\n\\n\\n\\n\\n\\n\\n'"
      ]
     },
     "execution_count": 43,
     "metadata": {},
     "output_type": "execute_result"
    },
    {
     "name": "stdout",
     "output_type": "stream",
     "text": [
      "time: 56.4 ms\n"
     ]
    }
   ],
   "source": [
    "re.sub('<[^<]+?>', '', str(soup.find('div', id=\"mw-content-text\")))"
   ]
  },
  {
   "cell_type": "code",
   "execution_count": null,
   "metadata": {
    "collapsed": true
   },
   "outputs": [],
   "source": [
    "Signs_and_symptoms"
   ]
  },
  {
   "cell_type": "code",
   "execution_count": 36,
   "metadata": {
    "collapsed": false
   },
   "outputs": [
    {
     "data": {
      "text/plain": [
       "<p><b>Trachoma</b>, also called <b>granular conjunctivitis</b>, <b>Egyptian ophthalmia</b>,<sup id=\"cite_ref-1\" class=\"reference\"><a href=\"#cite_note-1\"><span>[</span>1<span>]</span></a></sup> and <b>blinding trachoma</b> is an infectious disease caused by the bacterium <i><a href=\"/wiki/Chlamydia_trachomatis\" title=\"Chlamydia trachomatis\">Chlamydia trachomatis</a></i>.<sup id=\"cite_ref-WHO2013_2-0\" class=\"reference\"><a href=\"#cite_note-WHO2013-2\"><span>[</span>2<span>]</span></a></sup> The infection causes a <a href=\"/wiki/Granulation_tissue\" title=\"Granulation tissue\">roughening</a> of the inner surface of the eyelids. This roughening can lead to pain in the eyes, breakdown of the outer surface or <a href=\"/wiki/Cornea\" title=\"Cornea\">cornea</a> of the eyes, and possibly to <a href=\"/wiki/Blindness\" title=\"Blindness\" class=\"mw-redirect\">blindness</a>.<sup id=\"cite_ref-WHO2013_2-1\" class=\"reference\"><a href=\"#cite_note-WHO2013-2\"><span>[</span>2<span>]</span></a></sup></p>"
      ]
     },
     "execution_count": 36,
     "metadata": {},
     "output_type": "execute_result"
    },
    {
     "name": "stdout",
     "output_type": "stream",
     "text": [
      "time: 8.45 ms\n"
     ]
    }
   ],
   "source": [
    "soup.find('div', id=\"bodyContent\").p"
   ]
  },
  {
   "cell_type": "code",
   "execution_count": null,
   "metadata": {
    "collapsed": true
   },
   "outputs": [],
   "source": []
  }
 ],
 "metadata": {
  "kernelspec": {
   "display_name": "Python 2",
   "language": "python",
   "name": "python2"
  },
  "language_info": {
   "codemirror_mode": {
    "name": "ipython",
    "version": 2
   },
   "file_extension": ".py",
   "mimetype": "text/x-python",
   "name": "python",
   "nbconvert_exporter": "python",
   "pygments_lexer": "ipython2",
   "version": "2.7.10"
  }
 },
 "nbformat": 4,
 "nbformat_minor": 0
}
