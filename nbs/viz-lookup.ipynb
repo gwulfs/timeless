{
 "cells": [
  {
   "cell_type": "code",
   "execution_count": 1,
   "metadata": {
    "collapsed": false
   },
   "outputs": [],
   "source": [
    "import graphlab as gl"
   ]
  },
  {
   "cell_type": "code",
   "execution_count": null,
   "metadata": {
    "collapsed": false
   },
   "outputs": [],
   "source": [
    "df = gl.SFrame.read_csv('nell-disease.csv', delimiter='\\t', nrows=52556)"
   ]
  },
  {
   "cell_type": "code",
   "execution_count": null,
   "metadata": {
    "collapsed": false
   },
   "outputs": [],
   "source": [
    "df.column_names()"
   ]
  },
  {
   "cell_type": "code",
   "execution_count": null,
   "metadata": {
    "collapsed": false
   },
   "outputs": [],
   "source": [
    "len(['Entity', 'Relation', 'Value', 'Iteration of Promotion', 'Probability Source', 'Entity literalStrings', 'Value literalStrings', 'Best Entity literalString', 'Best Value literalString', 'Categories for Entity', 'Categories for Value', 'Candidate', 'Source'])"
   ]
  },
  {
   "cell_type": "code",
   "execution_count": null,
   "metadata": {
    "collapsed": false
   },
   "outputs": [],
   "source": [
    "names = ['Entity', 'Relation', 'Value', 'Iteration of Promotion', 'Probability', 'Source', 'Entity literalStrings', 'Value literalStrings', 'Best Entity literalString', 'Best Value literalString', 'Categories for Entity', 'Categories for Value', 'Candidate Source']\n",
    "d = {}\n",
    "for i, c in enumerate(df.column_names()):\n",
    "    d[c] = names[i]\n",
    "\n",
    "df = df.rename(d)"
   ]
  },
  {
   "cell_type": "code",
   "execution_count": null,
   "metadata": {
    "collapsed": false
   },
   "outputs": [],
   "source": [
    "df.head()"
   ]
  },
  {
   "cell_type": "code",
   "execution_count": null,
   "metadata": {
    "collapsed": true
   },
   "outputs": [],
   "source": [
    "df.show()"
   ]
  },
  {
   "cell_type": "code",
   "execution_count": null,
   "metadata": {
    "collapsed": false
   },
   "outputs": [],
   "source": [
    "len(df)"
   ]
  },
  {
   "cell_type": "code",
   "execution_count": null,
   "metadata": {
    "collapsed": false
   },
   "outputs": [],
   "source": [
    "import urllib\n",
    "import urllib2\n",
    "from BeautifulSoup import BeautifulSoup\n",
    "\n",
    "opener = urllib2.build_opener()\n",
    "opener.addheaders = [('User-agent', 'Mozilla/5.0')]\n",
    "\n",
    "data = resource.read()\n",
    "resource.close()\n",
    "soup = BeautifulSoup(data)\n",
    "df['txt'] = df['Value'].map(lambda x:BeautifulSoup(opener.open(x).read().find('div',id=\"bodyContent\").p))"
   ]
  },
  {
   "cell_type": "code",
   "execution_count": null,
   "metadata": {
    "collapsed": true
   },
   "outputs": [],
   "source": []
  }
 ],
 "metadata": {
  "kernelspec": {
   "display_name": "Python 2",
   "language": "python",
   "name": "python2"
  },
  "language_info": {
   "codemirror_mode": {
    "name": "ipython",
    "version": 2
   },
   "file_extension": ".py",
   "mimetype": "text/x-python",
   "name": "python",
   "nbconvert_exporter": "python",
   "pygments_lexer": "ipython2",
   "version": "2.7.10"
  }
 },
 "nbformat": 4,
 "nbformat_minor": 0
}
