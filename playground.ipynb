{
 "cells": [
  {
   "cell_type": "code",
   "execution_count": 3,
   "metadata": {
    "collapsed": false
   },
   "outputs": [],
   "source": [
    "from azureml import Workspace\n",
    "from keys import azure_key"
   ]
  },
  {
   "cell_type": "code",
   "execution_count": 4,
   "metadata": {
    "collapsed": false
   },
   "outputs": [
    {
     "name": "stdout",
     "output_type": "stream",
     "text": [
      "Key phrases: sick\n"
     ]
    }
   ],
   "source": [
    "import urllib2\n",
    "import urllib\n",
    "import sys\n",
    "import base64\n",
    "import json\n",
    "account_key = azure_key\n",
    "input_text = 'I am feeling sick'\n",
    "base_url = 'https://api.datamarket.azure.com/data.ashx/amla/text-analytics/'\n",
    "creds = base64.b64encode('AccountKey:' + account_key)\n",
    "headers = {'Content-Type':'application/json', 'Authorization':('Basic '+ creds)}\n",
    "params = { 'Text': input_text}\n",
    "\n",
    "# sentiment\n",
    "# sentiment_url = base_url + '/GetSentiment?' + urllib.urlencode(params)\n",
    "# req = urllib2.Request(sentiment_url, None, headers)\n",
    "# response = urllib2.urlopen(req)\n",
    "# result = response.read()\n",
    "# obj = json.loads(result)\n",
    "# print('Sentiment score: ' + str(obj['Score']))\n",
    "\n",
    "# key phrases\n",
    "key_phrases_url = base_url + '/GetKeyPhrases?' + urllib.urlencode(params)\n",
    "req = urllib2.Request(key_phrases_url, None, headers)\n",
    "response = urllib2.urlopen(req)\n",
    "result = response.read()\n",
    "obj = json.loads(result)\n",
    "print('Key phrases: ' + ','.join(obj['KeyPhrases']))"
   ]
  },
  {
   "cell_type": "code",
   "execution_count": null,
   "metadata": {
    "collapsed": true
   },
   "outputs": [],
   "source": []
  }
 ],
 "metadata": {
  "kernelspec": {
   "display_name": "Python 2",
   "language": "python",
   "name": "python2"
  },
  "language_info": {
   "codemirror_mode": {
    "name": "ipython",
    "version": 2
   },
   "file_extension": ".py",
   "mimetype": "text/x-python",
   "name": "python",
   "nbconvert_exporter": "python",
   "pygments_lexer": "ipython2",
   "version": "2.7.10"
  }
 },
 "nbformat": 4,
 "nbformat_minor": 0
}
